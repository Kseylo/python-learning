{
 "metadata": {
  "language_info": {
   "codemirror_mode": {
    "name": "ipython",
    "version": 3
   },
   "file_extension": ".py",
   "mimetype": "text/x-python",
   "name": "python",
   "nbconvert_exporter": "python",
   "pygments_lexer": "ipython3",
   "version": "3.8.2-final"
  },
  "orig_nbformat": 2,
  "kernelspec": {
   "name": "python3",
   "display_name": "Python 3.8.2 64-bit",
   "metadata": {
    "interpreter": {
     "hash": "31f2aee4e71d21fbe5cf8b01ff0e069b9275f58929596ceb00d14d90e3e16cd6"
    }
   }
  }
 },
 "nbformat": 4,
 "nbformat_minor": 2,
 "cells": [
  {
   "source": [
    "![title](Operators.PNG)"
   ],
   "cell_type": "markdown",
   "metadata": {}
  },
  {
   "source": [
    "![title](Operators2.PNG)"
   ],
   "cell_type": "code",
   "metadata": {},
   "execution_count": null,
   "outputs": []
  },
  {
   "cell_type": "code",
   "execution_count": 2,
   "metadata": {},
   "outputs": [
    {
     "output_type": "stream",
     "name": "stdout",
     "text": [
      "HELA\n",
      "PIB\n",
      "PIPA\n"
     ]
    }
   ],
   "source": [
    "while True:\n",
    "    reply = input('Enter text:') #принимает значения введеные с терминала\n",
    "    if reply == 'stop':break #если вводят stop цикл прекращается\n",
    "    print(reply.upper()) #слова из переменной reply выводит на экран в uppercase"
   ]
  },
  {
   "cell_type": "code",
   "execution_count": 4,
   "metadata": {},
   "outputs": [
    {
     "output_type": "stream",
     "name": "stdout",
     "text": [
      "36\n",
      "Bad!\n",
      "Bad!\n",
      "Bad!\n",
      "Bad!\n",
      "Bye\n"
     ]
    }
   ],
   "source": [
    "while True:\n",
    "    reply = input('Enter text:') \n",
    "    if reply == 'stop':\n",
    "        break\n",
    "    elif not reply.isdigit(): #так же если ответ не является числом, выводим 'bad'\n",
    "        print('Bad!')\n",
    "    else:\n",
    "        print(int(reply) ** 2) #иначе если является, полученный ответ возводим в степень принимаемого числа\n",
    "print('Bye') # по окончанию пишем пока"
   ]
  },
  {
   "cell_type": "code",
   "execution_count": 2,
   "metadata": {},
   "outputs": [
    {
     "output_type": "stream",
     "name": "stdout",
     "text": [
      "4\n",
      "9\n",
      "16\n",
      "25\n",
      "36\n",
      "Bad!\n",
      "Bye\n"
     ]
    }
   ],
   "source": [
    "# Также можно использовать оператор try\n",
    "while True:\n",
    "    reply = input('Enter text:')\n",
    "    if reply == 'stop':break\n",
    "    try:\n",
    "        num = int(reply)\n",
    "    except:\n",
    "        print('Bad!')\n",
    "    else:\n",
    "        print(num ** 2)\n",
    "print('Bye')"
   ]
  },
  {
   "source": [
    "# Вложение кода на три уровня в глубину"
   ],
   "cell_type": "markdown",
   "metadata": {}
  },
  {
   "cell_type": "code",
   "execution_count": 4,
   "metadata": {},
   "outputs": [
    {
     "output_type": "stream",
     "name": "stdout",
     "text": [
      "low\n",
      "low\n",
      "low\n",
      "400\n",
      "441\n",
      "bad\n",
      "Bye\n"
     ]
    }
   ],
   "source": [
    "while True:\n",
    "    reply = input('Enter text:')\n",
    "    if reply == 'stop':\n",
    "        break\n",
    "    elif not reply.isdigit():\n",
    "        print('bad')\n",
    "    else:\n",
    "        num = int(reply)\n",
    "        if num < 20:\n",
    "            print('low')\n",
    "        else:\n",
    "            print(num ** 2)\n",
    "print('Bye')"
   ]
  },
  {
   "source": [
    "# Поддержка чисел с плавающей точкой"
   ],
   "cell_type": "markdown",
   "metadata": {}
  },
  {
   "cell_type": "code",
   "execution_count": 8,
   "metadata": {},
   "outputs": [
    {
     "output_type": "stream",
     "name": "stdout",
     "text": [
      "Bad!\n",
      "Bad!\n",
      "2500\n",
      "Bad!\n",
      "Bye\n",
      "1640.25\n",
      "Bye!\n"
     ]
    }
   ],
   "source": [
    "while True:\n",
    "    reply = input('Enter text')\n",
    "    if reply == 'stop':break\n",
    "    try:\n",
    "        print(int(reply)**2)\n",
    "    except:\n",
    "        print(\"Bad!\")\n",
    "print('Bye')"
   ]
  },
  {
   "cell_type": "code",
   "execution_count": 11,
   "metadata": {},
   "outputs": [
    {
     "output_type": "stream",
     "name": "stdout",
     "text": [
      "bad\n",
      "Bye!\n"
     ]
    }
   ],
   "source": [
    "# И если мы хотим поддерживать ввод чисел с плавающей точкой вместо только целых, то использовать try было бы гораздо легче.\n",
    "\n",
    "while True:\n",
    "    reply = input('Enter text:')\n",
    "    if reply == 'stop':break\n",
    "    try:\n",
    "        print(float(reply)**2)\n",
    "    except:\n",
    "        print('bad')\n",
    "        \n",
    "print('Bye!')"
   ]
  },
  {
   "source": [
    "# Операторы присвания, выражений и вывода"
   ],
   "cell_type": "markdown",
   "metadata": {}
  },
  {
   "source": [
    "![title](Operators3.PNG)"
   ],
   "cell_type": "markdown",
   "metadata": {}
  },
  {
   "source": [
    "# Присваивание последовательности"
   ],
   "cell_type": "markdown",
   "metadata": {}
  },
  {
   "cell_type": "code",
   "execution_count": 3,
   "metadata": {},
   "outputs": [
    {
     "output_type": "execute_result",
     "data": {
      "text/plain": [
       "(1, 2)"
      ]
     },
     "metadata": {},
     "execution_count": 3
    }
   ],
   "source": [
    "nudge = 1 # базовое присваивание\n",
    "wink = 2\n",
    "a , b =nudge, wink # присваивание кортежа\n",
    "a , b #  подобно a = nudge; b = wink\n",
    "[c,d] = [nudge,wink] # присваивание списка\n",
    "c, d"
   ]
  },
  {
   "cell_type": "code",
   "execution_count": 4,
   "metadata": {},
   "outputs": [
    {
     "output_type": "execute_result",
     "data": {
      "text/plain": [
       "(2, 1)"
      ]
     },
     "metadata": {},
     "execution_count": 4
    }
   ],
   "source": [
    "nudge = 1\n",
    "wink = 2\n",
    "nudge,wink = wink,nudge #  кортеж, обмен значениями\n",
    "nudge, wink # python создает временный кортеж, который хранит исходные значения переменных справа"
   ]
  },
  {
   "source": [
    "# расширенные шаблоны присваивания последовательностей"
   ],
   "cell_type": "markdown",
   "metadata": {}
  },
  {
   "cell_type": "code",
   "execution_count": 7,
   "metadata": {},
   "outputs": [
    {
     "output_type": "execute_result",
     "data": {
      "text/plain": [
       "('S', 'M')"
      ]
     },
     "metadata": {},
     "execution_count": 7
    }
   ],
   "source": [
    "string = 'SPAM'\n",
    "a,b,c,d = string # одинаковые количества с обеих строно\n",
    "a,d\n",
    "# a,b,c = string # в противном случае ошибка"
   ]
  },
  {
   "cell_type": "code",
   "execution_count": 12,
   "metadata": {},
   "outputs": [
    {
     "output_type": "stream",
     "name": "stdout",
     "text": [
      "S P AM\nS P AM\nS P AM\nS P AM\nS P AM\n"
     ]
    }
   ],
   "source": [
    "a,b,c = string[0],string[1],string[2:] #индексация и конкатенация\n",
    "print(a,b,c)\n",
    "\n",
    "a,b,c = list(string[:2]) + [string[2:]] #нарезание и конкатенация\n",
    "print(a,b,c)\n",
    "\n",
    "a,b = string[:2]\n",
    "c  = string[2:] # то же самое,но проще\n",
    "print(a,b,c)\n",
    "\n",
    "(a,b),c = string[:2],string[2:] #вложенные последовательности\n",
    "print(a,b,c)\n",
    "\n",
    "((a,b),c) = ('SP','AM') #попарное соединяются по форме и по позиции\n",
    "print(a,b,c)"
   ]
  },
  {
   "cell_type": "code",
   "execution_count": 14,
   "metadata": {},
   "outputs": [
    {
     "output_type": "stream",
     "name": "stdout",
     "text": [
      "0 2\n"
     ]
    },
    {
     "output_type": "execute_result",
     "data": {
      "text/plain": [
       "[0, 1, 2]"
      ]
     },
     "metadata": {},
     "execution_count": 14
    }
   ],
   "source": [
    "#for (a,b,c) in [(1,2,3),(4,5,6)]: #  простое присваивание кортежей\n",
    "#for ((a,b),c) in [((1,2),3),((4,5),6)] # присваивание вложенных кортежей\n",
    "red,green,blue = range(3)\n",
    "print(red, blue)\n",
    "list(range(3))"
   ]
  },
  {
   "cell_type": "code",
   "execution_count": 17,
   "metadata": {},
   "outputs": [
    {
     "output_type": "stream",
     "name": "stdout",
     "text": [
      "1 [2, 3, 4]\n2 [3, 4]\n3 [4]\n4 []\n"
     ]
    }
   ],
   "source": [
    "L = [1,2,3,4]\n",
    "while L:\n",
    "    front,L = L[0], L[1:]\n",
    "    print(front,L)\n",
    "\n",
    "#front = L[0]\n",
    "#L = L[1:]"
   ]
  },
  {
   "cell_type": "code",
   "execution_count": null,
   "metadata": {},
   "outputs": [],
   "source": []
  }
 ]
}