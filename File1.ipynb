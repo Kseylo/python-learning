{
 "metadata": {
  "language_info": {
   "codemirror_mode": {
    "name": "ipython",
    "version": 3
   },
   "file_extension": ".py",
   "mimetype": "text/x-python",
   "name": "python",
   "nbconvert_exporter": "python",
   "pygments_lexer": "ipython3",
   "version": "3.8.5-final"
  },
  "orig_nbformat": 2,
  "kernelspec": {
   "name": "python3",
   "display_name": "Python 3",
   "language": "python"
  }
 },
 "nbformat": 4,
 "nbformat_minor": 2,
 "cells": [
  {
   "source": [
    "# Файлы"
   ],
   "cell_type": "markdown",
   "metadata": {}
  },
  {
   "source": [
    "output = open(r'C:\\spam', 'w') создает выходной файл('w' означает write - запись)\n",
    "\n",
    "input = open('data', 'r') создает входной файл('r' означает read - чтение)\n",
    "\n",
    "input = open('data') то же, что и в предыдущей строк('r' выбиратся по умолчанию)\n",
    "\n",
    "aString = input.read() читает целый файл в одиночную строку\n",
    "\n",
    "aString = input.read(N) читает до N следующих символов(или байтов) в строку\n",
    "\n",
    "aString = input.readline() читает следующую строку файла(включая символ новой строки \\n) в строку\n",
    "\n",
    "aList = input.readlines читает целый файл в список строк(с символами \\n)\n",
    "\n",
    "output.write(aString) записывает строку символов(или байтов) в файл\n",
    "\n",
    "output.close() вручную закрывает файл(это делается автоматически, когда файловый объект подвергается сборке мусора)\n",
    "\n",
    "output.flush() сбрасывает буфер вывода на диск, не закрывая файл\n",
    "\n",
    "anyFile.seek(N) изменяет позицию на N для следующей операции\n",
    "\n",
    "for line in open('data'):  #файловые итераторы,\n",
    "    использовать строку     #читающие строку за строкой\n",
    "\n",
    "open('f.txt',encoding='latin-1') текстовы файлы unicode(строки str)\n",
    "\n",
    "open('f.bin', 'rb') байтовые файлы (строки bytes)\n",
    "\n",
    "codecs.open('f.txt',encoding ='utf8') текстовые файлы unicode в python 2.x(строки unicode)\n",
    "\n",
    "open('f.bin', 'rb') байтовые файлы в python 2.x (строки str)"
   ],
   "cell_type": "markdown",
   "metadata": {}
  },
  {
   "source": [
    "# Открытие файлов"
   ],
   "cell_type": "markdown",
   "metadata": {}
  },
  {
   "cell_type": "code",
   "execution_count": 4,
   "metadata": {},
   "outputs": [],
   "source": [
    "#afile = open(имя_файла, режим)\n",
    "#afile.метод()\n"
   ]
  },
  {
   "source": [
    "# Файлы в действии"
   ],
   "cell_type": "markdown",
   "metadata": {}
  },
  {
   "cell_type": "code",
   "execution_count": 17,
   "metadata": {},
   "outputs": [
    {
     "output_type": "stream",
     "name": "stdout",
     "text": [
      "hello text file \n\ngoodbye text file \n\n"
     ]
    },
    {
     "output_type": "execute_result",
     "data": {
      "text/plain": [
       "''"
      ]
     },
     "metadata": {},
     "execution_count": 17
    }
   ],
   "source": [
    "myfile = open('myfile.txt', 'w') #открыти файла для текстового вывода: создание / очистка\n",
    "myfile.write('hello text file \\n') #запись строки текста: строковой объект\n",
    "myfile.write('goodbye text file \\n')\n",
    "\n",
    "myfile.close() #сброс выходных буферов на диск\n",
    "myfile = open('myfile.txt') #открытие файла для текстового ввода: 'r' - чтение строк,принимается по умолчанию\n",
    "print(myfile.readline())\n",
    "print(myfile.readline())\n",
    "myfile.readline() #пустая строка : конец файла"
   ]
  },
  {
   "cell_type": "code",
   "execution_count": null,
   "metadata": {},
   "outputs": [],
   "source": [
    "open('myfile.txt').read() #чтение сразу всего файла в строковый объект"
   ]
  }
 ]
}