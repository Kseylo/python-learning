{
 "cells": [
  {
   "cell_type": "code",
   "execution_count": null,
   "metadata": {},
   "outputs": [],
   "source": []
  },
  {
   "source": [
    "yield х Протокол send функции генератора\r\n",
    "lambda аргументы: выражение Создание анонимной функции\r\n",
    "х if у else z Тернарный выбор (х оценивается, только если у истинно)\r\n",
    "х or у Логическое “ИЛИ” (у оценивается, только если х ложно)\r\n",
    "х and у Логическое “И” (у оценивается, только если х истинно)\r\n",
    "not X Логическое “НЕ”\r\n",
    "х in у, x not in у Членство (итерируемые объекты, множества)\r\n",
    "x is у, x is not у Проверки идентичности объектов\r\n",
    "x < у, x <= у, x > у, x >= у Сравнение по абсолютной величине, проверка на под­ множество и надмножество\r\n",
    "х == у, х != у Операции равенства значений\r\n",
    "х ! У Побитовое “ИЛИ”, объединение множеств \r\n",
    "X А у Побитовое “исключающее ИЛИ”, симметричная раз­ность множеств\r\n",
    "X & у Побитовое “И”, пересечение множеств\r\n",
    "X « у, X » у Сдвиг х влево или вправо на у битов \r\n",
    "X + у Сложение, конкатенация \r\n",
    "X - у Вычитание, разность множеств \r\n",
    "X * у Умножение, повторение \r\n",
    "X % у Остаток, формат \r\n",
    "X / у, X // у Деление: настоящее и с округлением в меньшую сторону \r\n",
    "-х, +х Противоположность, идентичность \r\n",
    "~х Побитовое “НЕ” (инверсия) \r\n",
    "X ** у Возведение в степень \r\n",
    "х [i] Индексация (последовательности, отображения и т.д.) \r\n",
    "X [1: j : к] Нарезание \r\n",
    "х(...) Вызов (функции, метода, класса и прочих вызываемых объектов)\r\n",
    "x.атрибут ссылка на атрибут\r\n",
    "(...) кортеж, выражение, выражение генератора\r\n",
    "[...] список, списковое включение\r\n",
    "{...} словарь, множество, включения множеств и словарей\r\n",
    "https://i.imgur.com/6rdA7ug.png"
   ],
   "cell_type": "code",
   "metadata": {},
   "execution_count": null,
   "outputs": []
  },
  {
   "cell_type": "markdown",
   "metadata": {},
   "source": [
    "A * B + C * D #Как Python узнает какую операцию выполнить первой? Ответ на этот воп­рос кроется в старшинстве операций. Когда вы записываете выражение, имеющее бо­лее одной операции, \r\n",
    "то Python группирует его части согласно тому, что называется правилами старшинства, и такое группирование определяет порядок, в котором вы­ числяются части выражения.\r\n",
    "В таблице по ссылке и сверху операции, находящиеся ниже имеют более высокий приоритет и потому в смешанных выражениях вычисляются раньше"
   ]
  },
  {
   "cell_type": "markdown",
   "metadata": {},
   "source": [
    "в выражениях с разнородными числовыми типами Python сначала преобразует операнды к типу самого сложного операнда и затем выполняет операции над операнда­ ми того же самого типа.\r\n",
    "40 + 3.14 #преобразование целого в число с плавающей точкой, математика и результат с плавающей точкой\r\n",
    "43.14 "
   ]
  },
  {
   "cell_type": "code",
   "execution_count": null,
   "metadata": {},
   "outputs": [],
   "source": [
    "print(int(3.1415)) #сокращает число с плавающей точкой до целого\r\n",
    "print(float(3)) #преобразует целое число в число с плавающей точкой"
   ]
  },
  {
   "cell_type": "code",
   "execution_count": null,
   "metadata": {},
   "outputs": [],
   "source": [
    "a = 3\r\n",
    "b = 4\r\n",
    "print(a + 1, a - 1) #сложение (3+1),вычитание (3-1)\r\n",
    "print(b * 3, b/2) #умножение (4 * 3), деление (4 / 2)\r\n",
    "print(a % 2, b ** 2) #деление по модулю(нахождение остатка),возведение в степень(4**2)\r\n",
    "print(2 + 4.0, 2.0 ** b) #преобразование разнородных типов\r\n",
    "print(b/2 + a) #то же, что и ((4 / 2) + 3) # /старше чем +\r\n",
    "print(b / (2.0 + a)) #то же, что и (4/(2.0 + 3))"
   ]
  },
  {
   "cell_type": "code",
   "execution_count": null,
   "metadata": {},
   "outputs": [],
   "source": [
    "num = 1 / 3.0\r\n",
    "num #автоматический вывод"
   ]
  },
  {
   "cell_type": "code",
   "execution_count": null,
   "metadata": {},
   "outputs": [],
   "source": [
    "print(num) #явный вывод\r\n",
    "print('%e ' %num) #выражение форматирования строк\r\n",
    "print('%4.2f' % num) #альтернативный формат с плавающей точкой\r\n",
    "print('{0:4.2f}'.format(num)) #метод форматирования строк"
   ]
  },
  {
   "cell_type": "code",
   "execution_count": null,
   "metadata": {},
   "outputs": [],
   "source": [
    "repr('spam') #используется интерактивным выводом: форма как в коде"
   ]
  },
  {
   "cell_type": "code",
   "execution_count": null,
   "metadata": {},
   "outputs": [],
   "source": [
    "str('spam') #используется print: форма, дружественная к пользователю"
   ]
  },
  {
   "cell_type": "code",
   "execution_count": null,
   "metadata": {},
   "outputs": [],
   "source": [
    "print(1 < 2) #меньше\r\n",
    "print(2.0 >= 1) #больше или равно: число разнородного типа 1 преобразуется в 1.0\r\n",
    "print(2.0 == 2.0) #равенство значений\r\n",
    "print(2.0 != 2.0) #неравенство значений"
   ]
  },
  {
   "cell_type": "code",
   "execution_count": null,
   "metadata": {},
   "outputs": [],
   "source": [
    "X = 2\r\n",
    "Y = 4\r\n",
    "Z = 6\r\n",
    "print(X < Y < Z) #сцепленные сравнения: проверки вхождения в диапазон\r\n",
    "print(X < Y and Y < Z)\r\n",
    "print(X < Y > Z)\r\n",
    "print(X < Y and Y > Z)\r\n",
    "print(1 < 2 < 3.0 < 4)\r\n",
    "print(1 > 2 > 3.0 > 4)\r\n",
    "print(1 == 2 < 3) #то же, что и 1 == 2, 2 < 3\r\n",
    "                 #не то же, что и  False < 3(эквивалентно 0 < 3, которое истинно!)\r\n",
    "print(1.1 + 2.2 == 3.3) #разве это не должно быть True?\r\n",
    "1.1 + 2.2 #близко к 3.3, но не точно: ограниченная точность. \r\n",
    "int(1.1+2.2)==int(3.3) #нормально в случае преобразования:см. также round, floor, trunc.Здесь могут также помочь десятичные и дробные числа"
   ]
  },
  {
   "cell_type": "code",
   "execution_count": null,
   "metadata": {},
   "outputs": [],
   "source": [
    " X = 10\r\n",
    " Y = 5\r\n",
    " print(X / Y) #классическое и настоящее деление\r\n",
    " print(X // Y) #деление с округлением в меньшую сторону"
   ]
  },
  {
   "cell_type": "code",
   "execution_count": null,
   "metadata": {},
   "outputs": [],
   "source": [
    "import math\r\n",
    "print(math.floor(2.5)) #ближайшее меньшее значение\r\n",
    "print(math.floor(-2.5))\r\n",
    "print(math.trunc(2.5)) #усечение дробной части (в сторону нуля)\r\n",
    "print(math.trunc(-2.5))\r\n",
    " "
   ]
  },
  {
   "cell_type": "code",
   "execution_count": null,
   "metadata": {},
   "outputs": [],
   "source": [
    "print(999999999999999999999999999999 +1) #в Python 3.x поддерживают неограниченный размер, в Python 2.x предусматривает написание в хвостовой буквой L\r\n"
   ]
  },
  {
   "cell_type": "code",
   "execution_count": null,
   "metadata": {},
   "outputs": [],
   "source": [
    "print(1j * 1J) #Комплексные числа представляются в виде двух чисел с плавающей точкой — дейс­ твительной и мнимой частей — и записываются с добавлением суффикса j или J к мнимой части.\r\n",
    "print(2 + 1j * 3)\r\n",
    "print((2+1j)* 3)"
   ]
  },
  {
   "cell_type": "code",
   "execution_count": null,
   "metadata": {},
   "outputs": [],
   "source": [
    "print(0o1,0o20,0o377) #восьмеричные литераы:основание 8, цифры 0 - 7\r\n",
    "print(0x01,0x10,0xff) #шестнадцатеричные литералы: основание 16, цифры 0 - 9/A - F\r\n",
    "print(0b1,0b10000,0b11111111) #двоичные литералы:основание 2, цифры 0 -1\r\n",
    "print(0xFF,(15*(16**1))+(15*(16**0))) #как шестнадцатеричное/ двоичное число отображается на десятичное\r\n",
    "print(0x2F,(2*(16**1))+(15*(16**0)))\r\n",
    "print(0xF,0b1111,(1*(2**3))+1*(2**2)+1*(2**2)+1*(2**0))\r\n",
    "print(oct(64),hex(64),bin(64)) # числа => строки цифр. Функция oct преобразует десятичное число в восьмеричное, hex — в шестнадца­ теричное и bin — в двоичное.\r\n",
    "print(64,0o100,0x40,0b1000000) #цифры => числа в сценариях и строки\r\n",
    "print(int('64'),int('100',8),int('40',16),int('1000000',2))\r\n",
    "print(int('0x40',16),(int('0b1000000',2))) #литеральные формы также поддерживаются\r\n"
   ]
  },
  {
   "cell_type": "code",
   "execution_count": null,
   "metadata": {},
   "outputs": [],
   "source": [
    "eval('64'), eval('0o100'), eval('0x40'),eval('0b1000000') #Фактически eval компилирует и запускает строку как порцию программы, при этом предполагая, что выполняемая строка была получе­ на из надежного источника\r\n",
    "print('{0:0},{1:x},{2:b}'.format(64,64,64)) #числа => цифры, python2.6+\r\n",
    "print(0o1,0o20,0o377) #новый восьмеричный формат в python 2.6+ (такой же,как в Python 3.X)\r\n",
    "# print(01,020,0377) #старые восьмеричные литералы в Python 2.x (ошибка в python 3.x)\r\n"
   ]
  },
  {
   "cell_type": "code",
   "execution_count": null,
   "metadata": {},
   "outputs": [],
   "source": [
    "x = 1 #десятичное значение 1 в битах выглядит как 0001\r\n",
    "print(x << 2) #сдвиг влена на 2 бита : 0100\r\n",
    "print(x | 2) #побитовое ИЛИ (один из битов = 1): 0011\r\n",
    "print(x & 1) #побитовое И(оба бита = 1): 0001\r\n",
    "#В первом выражении двоичная 1 (по основанию 2, 0001) сдвигается влево на две позиции, чтобы породить двоичную 4 (0100).\r\n",
    "#Последние две операции выполняют двоичное “ИЛИ” для объединения битов (0001 | 0010 = 0011) и двоичное “И” для выбора общих битов (0001 & 0001 = 0001).\r\n",
    "\r\n",
    "X = 0b0001 #двоичные литералы\r\n",
    "print(X << 2) #сдвиг влево\r\n",
    "print(bin(X<<2)) #строка двоичных цифр\r\n",
    "print(bin(X|0b010)) #побитовое ИЛИ: один из битов = 1\r\n",
    "print(bin(X & 0b1)) #побитое И: оба бита = 1\r\n",
    "\r\n",
    "X = 0xFF #шестнадцатеричные литералы\r\n",
    "bin(X)\r\n",
    "print(X ^ 0b10101010) #побитовое исключающее ИЛИ: один из битов = 1, но не оба\r\n",
    "print(bin(X ^ 0b10101010))\r\n",
    "print(int('01010101',2)) #Цифры => число: трока в целое по указанному основанию\r\n",
    "print(hex(85)) #Число => цифры: строка в шестнадцатеричных цифрах\r\n",
    "\r\n",
    "X = 99\r\n",
    "bin(X), X.bit_length(),len(bin(X)) -2 #Представление величины числа в двоичном виде. Метод bit/length. Того же можно досчить вычитая 2 из длины строки bin, полученной с помощью len,но length более эффективна"
   ]
  },
  {
   "cell_type": "code",
   "execution_count": null,
   "metadata": {},
   "outputs": [],
   "source": [
    "import math\r\n",
    "print(math.pi, math.e) #общие константы\r\n",
    "print(math.sin(2 * math.pi / 180)) #синус, тангенс, косинус\r\n",
    "print(math.sqrt(144), math.sqrt(2)) #квадратный корень\r\n",
    "print(pow(2,4),2 ** 4,2.0 ** 4.00) #возведение в степень\r\n",
    "print(abs(-42.0),sum((1,2,3,4))) #абсолютное значение, суммирование\r\n",
    "print(min(3,1,2,4),max(3,1,2,4)) #минимум, максимум\r\n",
    "print(math.floor(2.567),math.floor(-2.567)) #округление в меньшую строку(до меньшего целого)\r\n",
    "print(math.trunc(2.567),math.trunc(-2.567)) #усечение (отбрасывание десятичных цифр)\r\n",
    "print(int(2.567),int(-2.567)) #усечение(преобразование в целое число)\r\n",
    "print(round(2.567),round(2.467),round(2.567,2)) #округление\r\n",
    "'%.1f' % 2.567, '{0:.2f}'.format(2.567) #округление для отображения"
   ]
  },
  {
   "cell_type": "code",
   "execution_count": null,
   "metadata": {},
   "outputs": [],
   "source": [
    "print(math.sqrt(144)) #функция из модуля\n",
    "print(144 ** .5) #выражение\n",
    "pow(144, .5) #встроенная функиця"
   ]
  },
  {
   "cell_type": "code",
   "execution_count": null,
   "metadata": {},
   "outputs": [],
   "source": [
    "print(0.1 + 0.1 + 0.1 - 0.3) #результат близок к нулю, но здесь недостаточно битов, чтобы обеспечить точность\n",
    "from decimal import Decimal\n",
    "print(Decimal('0.1') + Decimal('0.1') + Decimal('0.1') - Decimal('0.3')) #в случае использование десятичных типов результат может быть нулевым\n",
    "print(Decimal(0.1) + Decimal(0.1) + Decimal(0.1) - Decimal(0.3)) #преобразование является точным, но иногда выдает большое количество цифр по умолчанию, если только не зафиксировать его.\n",
    "import decimal\n",
    "print(decimal.Decimal(1) / decimal.Decimal(7)) #по умолчанию 28 цифр\n",
    "decimal.getcontext().prec = 4 #фиксированная точность\n",
    "print(decimal.Decimal(1) / decimal.Decimal(7))\n",
    "print(Decimal(0.1) + Decimal(0.1) + Decimal(0.1) - Decimal(0.3)) #ближе к 0\n",
    "\n",
    "\n"
   ]
  },
  {
   "cell_type": "code",
   "execution_count": null,
   "metadata": {},
   "outputs": [],
   "source": [
    "print(\"Диспетчер контекста для чисел:\")\n",
    "print(decimal.Decimal('1.00') / decimal.Decimal('3.00'))\n",
    "\n",
    "with decimal.localcontext() as ctx:\n",
    "     ctx.prec = 2\n",
    "     print(decimal.Decimal('1.00') / decimal.Decimal('3.00'))\n",
    "\n",
    "print(decimal.Decimal('1.00') / decimal.Decimal('3.00'))\n"
   ]
  },
  {
   "source": [
    "# Дробный тип - Fraction"
   ],
   "cell_type": "markdown",
   "metadata": {}
  },
  {
   "cell_type": "code",
   "execution_count": null,
   "metadata": {},
   "outputs": [],
   "source": [
    "from fractions import Fraction\n",
    "x = Fraction(1, 3) #числитель, знаменатель\n",
    "y = Fraction(4, 6) #упрощается до 2, 3 по наибольшему делителю\n",
    "\n",
    "print(x)\n",
    "print(y)\n",
    "print(x + y) #результаты точны: числитель, знаменатель\n",
    "print(x - y)\n",
    "print(x * y)\n",
    "\n",
    "#Объекты Fraction также можно создавать из строк с числами с плавающей точкой\n",
    "print(Fraction('.25'))\n",
    "print(Fraction('1.25'))\n",
    "print(Fraction('.25') + Fraction('1.25'))"
   ]
  },
  {
   "source": [
    "# Числовая точность дробных и десятичных типов"
   ],
   "cell_type": "markdown",
   "metadata": {}
  },
  {
   "cell_type": "code",
   "execution_count": null,
   "metadata": {},
   "outputs": [],
   "source": [
    "a = 1 / 3.0 #результат точен линь настолько, насколько позволяют аппаратные средства\n",
    "b = 4 / 6.0 #точность может теряться из-за множества вычислений\n",
    "print(a)\n",
    "print(b)\n",
    "print(a + b)\n",
    "print(a - b)\n",
    "print(a * b)\n",
    "#Такая ограниченная точность, присущая математике с плавающей точкой, особенна заметна для значений, которые не могут быть точно представлены по причине ограниченного количества битов в памяти.print\n",
    "print(0.1 + 0.1 + 0.1 - 0.3) #должен быть нулем\n",
    "from fractions import Fraction\n",
    "Fraction(1,10) + Fraction(1, 10) + Fraction(1, 10) - Fraction(3, 10)\n",
    "\n",
    "from decimal import Decimal\n",
    "print(Decimal('0.1') + Decimal('0.1') + Decimal('0.1') - Decimal('0.3')) #Но типы Fraction и Decimal обеспечивают точный ответ\n",
    "\n",
    "#Дробный и десятичные типы позволяют получать более понятные и точные результаты, чем иногда способен тип с плавающей точкой, разными путями - за счет представления в рационально виде и за счет ограничения точности\n",
    "print()\n",
    "print(1/3)\n",
    "Fraction(1, 3) #числовая точность, два пути\n",
    "import decimal\n",
    "decimal.getcontext().prec = 2\n",
    "\n",
    "print(Decimal(1) / Decimal(3))\n",
    "print((1/3) + (6/12))\n",
    "print(Fraction(6, 12)) #результат автоматически упрощается\n",
    "print(Fraction(1,3) + Fraction(6,12))\n",
    "print(decimal.Decimal(str(1/3)) + decimal.Decimal(str(6/12)))\n",
    "print(1000.0/1234567890)\n",
    "print(Fraction(1000,1234567890)) #значительно проще"
   ]
  },
  {
   "source": [
    "# Преобразование дробей и разнородные типы"
   ],
   "cell_type": "markdown",
   "metadata": {}
  },
  {
   "cell_type": "code",
   "execution_count": null,
   "metadata": {},
   "outputs": [],
   "source": [
    "#Для поддержки преобразования дробей объекты с плавающей точкой теперь име­ют метод, который выдает их числитель и знаменатель, \n",
    "#дробные объекты располага­ ют методом from float и float принимает в качестве аргумента объект Fraction. \n",
    "#В следующем взаимодействии видно, как все это делается (символ ★ во второй провер­ ке представляет собой специальный синтаксис, который раскрывает кортеж в инди­ видуальные аргументы;\n",
    "\n"
   ]
  },
  {
   "cell_type": "code",
   "execution_count": null,
   "metadata": {},
   "outputs": [],
   "source": [
    "print((2.5).as_integer_ratio()) #метод объекта с плавающей точкой\n",
    "f = 2.5\n",
    "z = Fraction(*f.as_integer_ratio()) #преобразует объект с плавающей точкой в дробь: Два аргумента. То же, что и Fraction(5, 2)\n",
    "print(z)\n",
    "print(float(z)) #преобразует дробь в объект с плавающей точкой\n",
    "print(Fraction.from_float(1.75)) #преобразует объект с плавающей точкой в дробь: другой способ\n",
    "print(Fraction(*(1.75).as_integer_ratio()))\n",
    "# В выражениях разрешено смешивать некоторые типы, хотя для предохранения точности требуется преобразовывать в тип Fraction в ручную\n",
    "print()\n",
    "print(z)\n",
    "print(z + 2) #объект дроби + объект целового => объект дроби\n",
    "print(z + 2.0) #объект дроби + объект с плавающей точкой => объект с плавающей точкой\n",
    "print(z + (1./3)) #объект дроби + объект с плавающей точкой => объект с плавающей точкой\n",
    "print(z + (4./3))\n",
    "print(z + Fraction(4,3)) #объект дроби + объект дроби => объект дроби\n",
    "# несмотря на возможность преобразования числа с плаваю­ щей точкой в дробь, в ряде случаев при этом возникает неизбежная потеря точности, потому что число в своей исходной форме с плавающей точкой не является точным.\n",
    "print()\n",
    "print(4.0 / 3)\n",
    "print((4.0/3).as_integer_ratio()) #точность теряется из-за числа с плавающей точкой\n",
    "a = z + Fraction(*(4.0 / 3).as_integer_ratio())\n",
    "print(a)\n",
    "print(17263798571586901/4503599627370496)\n",
    "print(a.limit_denominator(10)) #упростить до ближайшей дроби"
   ]
  },
  {
   "source": [
    "# Множества"
   ],
   "cell_type": "markdown",
   "metadata": {}
  },
  {
   "cell_type": "code",
   "execution_count": 48,
   "metadata": {},
   "outputs": [
    {
     "output_type": "stream",
     "name": "stdout",
     "text": [
      "{'a', 'e', 'c'}\n{'e', 'z', 'a', 'y', 'c', 'b', 'd', 'x'}\n{'b', 'd'}\n{'e', 'z', 'y', 'c', 'x', 'a'}\nFalse False\nTrue\nTrue True\n{'b', 'd'}\n{'b', 'd', 'SPAM'}\n{'Y', 'b', 'd', 'X', 'SPAM'}\n{'Y', 'd', 'X', 'SPAM'}\naaa\nccc\nbbb\n"
     ]
    }
   ],
   "source": [
    "x = set('abcde')\n",
    "y = set('bdxyz')\n",
    "print(x - y) #разность\n",
    "print(x | y) #объединение\n",
    "print(x & y) #пересечение\n",
    "print(x ^ y) #симметрическая разность(исключающее ИЛИ)\n",
    "print(x > y, x < y) #надмножество, подмножества\n",
    "print('e' in x) #проверка членства(множества)\n",
    "print('e' in 'Camelot',22 in [11,22,33]) #но работает также и с другими типами\n",
    "\n",
    "z = x.intersection(y) #то же, что и x & y\n",
    "print(z)\n",
    "z.add('SPAM') #вставка одного элемента\n",
    "print(z)\n",
    "z.update(set(['X','Y'])) #слияние: объединение на месте\n",
    "print(z)\n",
    "z.remove('b') #удаление одного элемента\n",
    "print(z)\n",
    "\n",
    "for item in set('abc'):print(item*3)"
   ]
  },
  {
   "cell_type": "code",
   "execution_count": 69,
   "metadata": {},
   "outputs": [
    {
     "output_type": "stream",
     "name": "stdout",
     "text": [
      "{1, 2, 3, 4}\n{1, 2, 3}\n{1, 2, 3, 4}\n{1, 3}\n{1, 2, 3}\nTrue\n"
     ]
    }
   ],
   "source": [
    "s = set([1,2,3])\n",
    "print(s | set([3, 4])) #выражения требуют двух множеств \n",
    "#s | [3,4] неподдежриваемые типы операндов для |\n",
    "print(s)\n",
    "print(s.union([3,4])) #но методы разрешают указывать любой итерируемый тип #Возвращает множество из 2х множеств, исключая дупликаты\n",
    "print(s.intersection((1,3,5))) #возвращает множество которое содержит similarity между 2 или более сэтами\n",
    "print(s.issubset(range(-5,5))) #Возвращает true если все множества сэта существует в специализированном сэте\n",
    "#Пример:s = set([1,2,3]) в сете числа 1,2,3\n",
    "#s.issubset(range(-5,5))) Проверяет есть ли эти числа в радиусе от -5 до 5, если есть, то возвращает true. Можно использовать не range,а другой set, например set([4,5,6]) вернет false,а set([1,2,3,4,5,6]) вернет true,т.к. 1,2,3 там есть.\n"
   ]
  },
  {
   "source": [
    "# Литералы множеств"
   ],
   "cell_type": "markdown",
   "metadata": {}
  },
  {
   "cell_type": "code",
   "execution_count": 70,
   "metadata": {},
   "outputs": [
    {
     "output_type": "execute_result",
     "data": {
      "text/plain": [
       "{1, 2, 3, 4}"
      ]
     },
     "metadata": {},
     "execution_count": 70
    }
   ],
   "source": [
    "set([1,2,3,4,]) #вызов встроенной функции(все версии)\n",
    "{1,2,3,4} #более новые литералы множеств"
   ]
  },
  {
   "cell_type": "code",
   "execution_count": 77,
   "metadata": {},
   "outputs": [
    {
     "output_type": "stream",
     "name": "stdout",
     "text": [
      "{'p', 's', 'a', 'm'}\n{'p', 'a', 's', 'm', 'alot'}\n{1, 3}\n{1, 2, 3, 4}\n"
     ]
    },
    {
     "output_type": "execute_result",
     "data": {
      "text/plain": [
       "True"
      ]
     },
     "metadata": {},
     "execution_count": 77
    }
   ],
   "source": [
    "set([1,2,3,4]) #встроенная функция, та же что и в python 2.6\n",
    "set('spam') #добавить все элементы из итерируемого объекта\n",
    "{1,2,3,4} #литералы множеств: новые в python\n",
    "s = {'s','p','a','m'}\n",
    "print(s)\n",
    "s.add('alot')#методы работают как и ранее\n",
    "print(s)\n",
    "\n",
    "s1 = {1,2,3,4}\n",
    "print(s1 & {1,3}) #пересечение\n",
    "{1,5,3,6} | s1 #объединение\n",
    "s1 - {1,3,4} #разность\n",
    "print(s1)\n",
    "s1 > {3,4} #надмножество. если все элементы множества s1 есть в множестве 3,4, возвращает true, иначе false\n"
   ]
  },
  {
   "cell_type": "code",
   "execution_count": 80,
   "metadata": {},
   "outputs": [
    {
     "output_type": "execute_result",
     "data": {
      "text/plain": [
       "{1.23}"
      ]
     },
     "metadata": {},
     "execution_count": 80
    }
   ],
   "source": [
    "s1 - {1,2,3,4} #пустые множества выводятся по-другому\n",
    "type({}) #поскольку {} - пустой словарь\n",
    "s = set() #инициализация пустого множества\n",
    "s.add(1.23)\n",
    "s"
   ]
  },
  {
   "cell_type": "code",
   "execution_count": 88,
   "metadata": {},
   "outputs": [
    {
     "output_type": "stream",
     "name": "stdout",
     "text": [
      "{1.23, (1, 2, 3), (4, 5, 6)}\nTrue\nFalse\n"
     ]
    },
    {
     "output_type": "execute_result",
     "data": {
      "text/plain": [
       "{1, 4, 9, 16}"
      ]
     },
     "metadata": {},
     "execution_count": 88
    }
   ],
   "source": [
    "#Множества способны содержать только объекты неизменяемых(хешируемых) типов. Следовательно, списки и словари не могут встраиваться во множества, но кортежи могут, если необходимо хранить составные значения.\n",
    "#s.add([1,2,3]) #выдаси ошибку, list нельзя встроить в множество\n",
    "#s.add({'a':1}) #выдаст ошибку, dict нельзя встроить в множество\n",
    "s.add((1,2,3))\n",
    "s #кортежи разрешены\n",
    "print(s | {(4,5,6),(1,2,3)}) #объединение, то же, что и s.union\n",
    "print((1,2,3) in s) #членство: по полным значениям\n",
    "print((1,4,3) in s)\n"
   ]
  },
  {
   "source": [
    "# Включения множеств"
   ],
   "cell_type": "markdown",
   "metadata": {}
  },
  {
   "cell_type": "code",
   "execution_count": 100,
   "metadata": {},
   "outputs": [
    {
     "output_type": "stream",
     "name": "stdout",
     "text": [
      "{16, 1, 4, 9}\n{'p', 's', 'a', 'm'}\n{'ssss', 'mmmm', 'aaaa', 'pppp'}\n['ssss', 'pppp', 'aaaa', 'mmmm', 'hhhh', 'aaaa', 'mmmm']\n"
     ]
    },
    {
     "output_type": "execute_result",
     "data": {
      "text/plain": [
       "{'mmmm'}"
      ]
     },
     "metadata": {},
     "execution_count": 100
    }
   ],
   "source": [
    "print({x ** 2 for x in[1,2,3,4]}) #включение множества в Python. Предоставить новое множество, содержащее квадраты х для каждого х в списке\n",
    "\n",
    "print({x for x in 'spam'}) #также работает и со строками. То же, что и set('spam')\n",
    "\n",
    "print({c * 4 for c in 'spam'}) #множество накопленных результатов выражения\n",
    "\n",
    "print([c * 4 for c in 'spamham'])\n",
    "\n",
    "S = {c * 4 for c in 'spam'}\n",
    "S | {'mmmm','xxxx'}\n",
    "S & {'mmmm','xxxx'}"
   ]
  },
  {
   "cell_type": "code",
   "execution_count": 116,
   "metadata": {},
   "outputs": [
    {
     "output_type": "stream",
     "name": "stdout",
     "text": [
      "{3, 7}\n{'f', 'e', 'c'}\n{'p', 's'}\n{'__getnewargs__'}\n{'__delitem__', 'pop', 'insert', 'extend', '__alloc__', 'copy', '__imul__', 'remove', 'clear', 'reverse', '__setitem__', 'append', '__iadd__'}\nFalse\nTrue\nTrue\n"
     ]
    },
    {
     "output_type": "execute_result",
     "data": {
      "text/plain": [
       "(False, True, True)"
      ]
     },
     "metadata": {},
     "execution_count": 116
    }
   ],
   "source": [
    "L = [1,2,1,3,2,4,5]\n",
    "set(L)\n",
    "L = list(set(L)) #удаление дубликатов\n",
    "L\n",
    "list(set(['yy','cc','aa','xx','dd','aa'])) #удаление дубликатов, но порядок может изменитьс\n",
    "\n",
    "print(set([1,3,5,7]) - set([1,2,4,5,6])) #найти различия в списках\n",
    "print(set('abcdefg') - set('abdghij')) #найти различия в строках\n",
    "print(set('spam') - set(['h','a','m'])) #найти различия, разнородные типы \n",
    "print(set(dir(bytes)) - set(dir(bytearray))) #в bytes, но не в bytearray\n",
    "print(set(dir(bytearray)) -set(dir(bytes)))\n",
    "\n",
    "l1, l2 = [1,3,5,2,4],[2,5,3,4,1]\n",
    "print(l1 == l2) #в последовательностях порядок имеет значение\n",
    "print(set(l1) == set(l2)) #проверка на равенстов, нейтральное к порядку\n",
    "print(sorted(l1) == sorted(l2)) #похожая проверка, но результаты упорядочены\n",
    "\n",
    "'spam' == 'asmp', set('spam') == set('asmp'), sorted('spam') == sorted('asmp')"
   ]
  },
  {
   "cell_type": "code",
   "execution_count": 125,
   "metadata": {},
   "outputs": [
    {
     "output_type": "stream",
     "name": "stdout",
     "text": [
      "True\n{'sue'}\n{'tom', 'sue', 'bob', 'vic', 'ann'}\n{'tom'}\n{'vic', 'bob', 'ann'}\nFalse\nTrue\nTrue\n{'tom', 'ann', 'bob', 'vic'}\n"
     ]
    },
    {
     "output_type": "execute_result",
     "data": {
      "text/plain": [
       "{'sue'}"
      ]
     },
     "metadata": {},
     "execution_count": 125
    }
   ],
   "source": [
    "engineers = {'bob','sue','ann','vic'}\n",
    "managers ={'tom','sue'}\n",
    "print('bob' in engineers) #является ли сотрудник bob инженером?\n",
    "print(engineers & managers) #кто одновременно инженер и менеджер?\n",
    "print(engineers | managers) #все сотрудники в обеих категориях\n",
    "print(managers - engineers) #менеджеры не являющиеся инженерами\n",
    "print(engineers - managers) #инженеры, не являющиеся менеджерами\n",
    "print(engineers > managers) #все ли менеджеры - инженеры? (надмножество)\n",
    "print({'bob','sue'} < engineers) #оба ли сотрудника инженеры?(подмножество)\n",
    "print((managers | engineers) > managers) #все сотрудники - надмножество менеджеров?\n",
    "print(managers ^ engineers) #кто  находится в одной категории, но не в обеих?\n",
    "(managers | engineers) - (managers ^ engineers) #пересечение"
   ]
  },
  {
   "source": [
    "# Булевские значения"
   ],
   "cell_type": "markdown",
   "metadata": {}
  },
  {
   "cell_type": "code",
   "execution_count": 126,
   "metadata": {},
   "outputs": [
    {
     "output_type": "stream",
     "name": "stdout",
     "text": [
      "<class 'bool'>\nTrue\nTrue\nFalse\nTrue\n5\n"
     ]
    }
   ],
   "source": [
    "print(type(True))\n",
    "print(isinstance(True,int))\n",
    "print(True == 1) #то же самое значение\n",
    "print(True is 1) # но другой объект\n",
    "print(True or False) #то же что и 1 or 0\n",
    "print(True + 4) #упс"
   ]
  },
  {
   "cell_type": "code",
   "execution_count": null,
   "metadata": {},
   "outputs": [],
   "source": []
  }
 ],
 "metadata": {
  "kernelspec": {
   "display_name": "Python 3",
   "language": "python",
   "name": "python3"
  },
  "language_info": {
   "codemirror_mode": {
    "name": "ipython",
    "version": 3
   },
   "file_extension": ".py",
   "mimetype": "text/x-python",
   "name": "python",
   "nbconvert_exporter": "python",
   "pygments_lexer": "ipython3",
   "version": "3.8.5-final"
  },
  "orig_nbformat": 2
 },
 "nbformat": 4,
 "nbformat_minor": 2
}