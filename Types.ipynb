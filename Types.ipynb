{
 "metadata": {
  "language_info": {
   "codemirror_mode": {
    "name": "ipython",
    "version": 3
   },
   "file_extension": ".py",
   "mimetype": "text/x-python",
   "name": "python",
   "nbconvert_exporter": "python",
   "pygments_lexer": "ipython3",
   "version": "3.8.5-final"
  },
  "orig_nbformat": 2,
  "kernelspec": {
   "name": "python3",
   "display_name": "Python 3.8.5 64-bit",
   "metadata": {
    "interpreter": {
     "hash": "b3ba2566441a7c06988d0923437866b63cedc61552a5af99d1f4fb67d367b25f"
    }
   }
  }
 },
 "nbformat": 4,
 "nbformat_minor": 2,
 "cells": [
  {
   "source": [
    "# Ссылки или копии"
   ],
   "cell_type": "markdown",
   "metadata": {}
  },
  {
   "cell_type": "code",
   "execution_count": 2,
   "metadata": {},
   "outputs": [],
   "source": [
    "X = [1,2,3]\n",
    "L = ['a',X,'b']\n",
    "D = {'x':X,'y':2}"
   ]
  },
  {
   "cell_type": "code",
   "execution_count": 4,
   "metadata": {},
   "outputs": [
    {
     "output_type": "stream",
     "name": "stdout",
     "text": [
      "['a', [1, 'surprise', 3], 'b']\n{'x': [1, 'surprise', 3], 'y': 2}\n"
     ]
    }
   ],
   "source": [
    "#Так как списки изменямы, модификация разделяемого спискового объекта через любую из трех ссылок также отражается на остальных двух ссылках:\n",
    "X[1] = 'surprise' #изменяет все три ссылки!\n",
    "print(L)\n",
    "print(D)"
   ]
  },
  {
   "source": [
    "Копии можно создать используя:\n",
    "• выражения срезов с пустыми границами (L [: ]) копируют последовательности;\n",
    "• метод сору словаря, множества и списка (X. сору ()) копирует словарь, множес­ тво и список (метод сору доступен в списках, начиная с версии Python 3.3); \n",
    "• некоторые встроенные функции, такие как list и diet, делают копии (list (L), diet (D), set (S));\n",
    "• стандартный библиотечный модуль сору при необходимости создает полные копии."
   ],
   "cell_type": "code",
   "metadata": {},
   "execution_count": null,
   "outputs": []
  },
  {
   "cell_type": "code",
   "execution_count": null,
   "metadata": {},
   "outputs": [],
   "source": [
    "#Пусть имеется список и словарь, и мы не хотим, что их значения изменялись через другие переменные\n",
    "L = [1,2,3]\n",
    "D = {'a':1,'b':2}\n",
    "#Для этого просто присвоим другим переменным копии, а не ссылки на данные объекты\n",
    "A = L[:] #вместо A = L(или же list(L ))"
   ]
  }
 ]
}