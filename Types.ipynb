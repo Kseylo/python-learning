{
 "metadata": {
  "language_info": {
   "codemirror_mode": {
    "name": "ipython",
    "version": 3
   },
   "file_extension": ".py",
   "mimetype": "text/x-python",
   "name": "python",
   "nbconvert_exporter": "python",
   "pygments_lexer": "ipython3",
   "version": "3.8.5-final"
  },
  "orig_nbformat": 2,
  "kernelspec": {
   "name": "python3",
   "display_name": "Python 3.8.5 64-bit ('ProgramData': virtualenv)",
   "metadata": {
    "interpreter": {
     "hash": "b3ba2566441a7c06988d0923437866b63cedc61552a5af99d1f4fb67d367b25f"
    }
   }
  }
 },
 "nbformat": 4,
 "nbformat_minor": 2,
 "cells": [
  {
   "source": [
    "# Ссылки или копии"
   ],
   "cell_type": "markdown",
   "metadata": {}
  },
  {
   "cell_type": "code",
   "execution_count": null,
   "metadata": {},
   "outputs": [],
   "source": [
    "X = [1,2,3]\n",
    "L = ['a',X,'b']\n",
    "D = {'x':X,'y':2}"
   ]
  },
  {
   "cell_type": "code",
   "execution_count": null,
   "metadata": {},
   "outputs": [],
   "source": [
    "#Так как списки изменямы, модификация разделяемого спискового объекта через любую из трех ссылок также отражается на остальных двух ссылках:\n",
    "X[1] = 'surprise' #изменяет все три ссылки!\n",
    "print(L)\n",
    "print(D)"
   ]
  },
  {
   "source": [
    "Копии можно создать используя:\n",
    "• выражения срезов с пустыми границами (L [: ]) копируют последовательности;\n",
    "• метод сору словаря, множества и списка (X. сору ()) копирует словарь, множес­ тво и список (метод сору доступен в списках, начиная с версии Python 3.3); \n",
    "• некоторые встроенные функции, такие как list и diet, делают копии (list (L), diet (D), set (S));\n",
    "• стандартный библиотечный модуль сору при необходимости создает полные копии."
   ],
   "cell_type": "code",
   "metadata": {},
   "execution_count": null,
   "outputs": []
  },
  {
   "cell_type": "code",
   "execution_count": null,
   "metadata": {},
   "outputs": [],
   "source": [
    "#Пусть имеется список и словарь, и мы не хотим, что их значения изменялись через другие переменные\n",
    "L = [1,2,3]\n",
    "D = {'a':1,'b':2}\n",
    "#Для этого просто присвоим другим переменным копии, а не ссылки на данные объекты\n",
    "A = L[:] #вместо A = L(или же list(L ))\n",
    "B = D.copy() #вместо B = D   (тоже самое для множеств)\n",
    "#в таком случа изменения будут воздейстовать на копии,а не на оригинал\n",
    "A[1] = 'Ni'\n",
    "B['c'] = 'spam'\n",
    "print(L,D)\n",
    "print(A,B)\n"
   ]
  },
  {
   "cell_type": "code",
   "execution_count": null,
   "metadata": {},
   "outputs": [],
   "source": [
    "X = [1,2,3]\n",
    "L = ['a',X[:],'b'] #встаривание копии срезом\n",
    "D = {'x':X[:],'y':2}\n",
    "X[1] = 'surprise?'\n",
    "print(X,L,D)"
   ]
  },
  {
   "cell_type": "code",
   "execution_count": null,
   "metadata": {},
   "outputs": [],
   "source": [
    "import copy\n",
    "X = copy.deepcopy(Y) #полная копия объекта Y с произвольно глубоким вложением"
   ]
  },
  {
   "source": [
    "# Сравнение,равенство и истинность"
   ],
   "cell_type": "markdown",
   "metadata": {}
  },
  {
   "cell_type": "code",
   "execution_count": null,
   "metadata": {},
   "outputs": [],
   "source": [
    "L1 = [1,('a',3)] #одинаковые значения, уникальны объекты\n",
    "L2 = [1,('a',3)]\n",
    "L1 == L2,L1 is L2 #эквивалентны? тот же самый объект?"
   ]
  },
  {
   "cell_type": "code",
   "execution_count": null,
   "metadata": {},
   "outputs": [],
   "source": [
    "S1 = 'spam'\n",
    "S2 = 'spam'\n",
    "print(S1 == S2, S1 is S2) #кеширует короткие строки с целью оптимизации, поэтому выдает True\n",
    "\n",
    "S1 = 'a longer string'\n",
    "S2 = 'a longer string'\n",
    "print(S1 == S2, S1 is S2)"
   ]
  },
  {
   "cell_type": "code",
   "execution_count": null,
   "metadata": {},
   "outputs": [],
   "source": [
    "L1 = [1,('a',3)]\n",
    "L2 = [1,('a',2)]\n",
    "L1 < L2, L1 == L2, L1 > L2 #меньше, равно, больше: кортеж результатов"
   ]
  },
  {
   "cell_type": "code",
   "execution_count": null,
   "metadata": {},
   "outputs": [],
   "source": [
    "D1 = {'a':1,'b':2}\n",
    "D2 = {'a':1,'b':3}\n",
    "D1 == D2\n",
    "#D1 > D2 выдаст ошибку,т.к.сравнение величин было изъято из python 3.X\n",
    "print(sorted(D1.items()) < sorted(D2.items()))\n",
    "print(sorted(D1.items()) > sorted(D2.items()))\n"
   ]
  },
  {
   "source": [
    "# Смысл понятий \"истина\" и \"ложь\" в Python"
   ],
   "cell_type": "markdown",
   "metadata": {}
  },
  {
   "source": [
    "Числа представляют собой ложь в случае нуля, истину в противном случае\n",
    "Остальные объекты представляют собой ложь, если они пусты,и истину в противном случае."
   ],
   "cell_type": "markdown",
   "metadata": {}
  },
  {
   "cell_type": "code",
   "execution_count": null,
   "metadata": {},
   "outputs": [],
   "source": [
    "tabledata = [[\"'spam'\",True],\n",
    "             ['\"\"' ,False],\n",
    "             [[1,2], True],\n",
    "             [[],False],\n",
    "             [{'a':1},True],\n",
    "             [{},False],\n",
    "             [1,True],\n",
    "             [0.0,False],\n",
    "             [None ,False]]\n",
    "import pandas as pd \n",
    "pd.DataFrame(tabledata, columns = [\"Объект\",\"Значение\"])"
   ]
  },
  {
   "source": [
    "# Объекты type"
   ],
   "cell_type": "markdown",
   "metadata": {}
  },
  {
   "source": [
    "![title](TypesTable.PNG)"
   ],
   "cell_type": "markdown",
   "metadata": {}
  },
  {
   "source": [
    "# Упражнения"
   ],
   "cell_type": "markdown",
   "metadata": {}
  },
  {
   "cell_type": "code",
   "execution_count": null,
   "metadata": {},
   "outputs": [],
   "source": [
    "2 ** 16\n",
    "2 / 5, 2/ 5.0\n",
    "'spam' + 'eggs'\n",
    "S = 'ham'\n",
    "'eggs' + S\n",
    "S * 5\n",
    "S[:0]\n",
    "\"green %s and %s\" % ('eggs',S)\n",
    "'green {0} and {1}'.format('eggs', S)\n",
    "('x',)[0]\n",
    "('x','y')[1]\n",
    "L = [1,2,3] + [4,5,6]\n",
    "L,L[:],L[:0],L[-2],L[-2:]\n",
    "([1,2,3] + [4,5,6])[2:4]\n",
    "[L[2],L[3]]\n",
    "L.reverse(); L\n",
    "L.sort(); L\n",
    "L.index(4)\n",
    "{'a':1,'b':2}['b']\n",
    "D = {'x':1,'y':2,\"z\":3}\n",
    "D['w'] = 0\n",
    "D['x'] + D['w']\n",
    "D[(1,2,3)] = 4\n",
    "list(D.keys()), list(D.values()), (1,2,3) in D\n",
    "[[]],[\"\",[],(),{},None]"
   ]
  },
  {
   "cell_type": "code",
   "execution_count": null,
   "metadata": {},
   "outputs": [],
   "source": [
    "X = 'spam'\n",
    "Y = 'eggs'\n",
    "X, Y = Y, X\n"
   ]
  },
  {
   "cell_type": "code",
   "execution_count": null,
   "metadata": {},
   "outputs": [],
   "source": [
    "D = {}\n",
    "D[1] = 'a'\n",
    "D[2] = 'b'\n",
    "D[(1,2,3)] = 'c'\n",
    "D"
   ]
  },
  {
   "cell_type": "code",
   "execution_count": null,
   "metadata": {},
   "outputs": [],
   "source": [
    "D = {'a':1,'b':2,'c':3}\n",
    "D['d'] = 'spam'\n",
    "D"
   ]
  },
  {
   "cell_type": "code",
   "execution_count": 123,
   "metadata": {},
   "outputs": [],
   "source": [
    "myfile = open('myfile.txt' ,'w')\n",
    "myfile.write(\"Hello file world!\")\n",
    "myfile.close()\n"
   ]
  },
  {
   "cell_type": "code",
   "execution_count": 124,
   "metadata": {},
   "outputs": [
    {
     "output_type": "stream",
     "name": "stdout",
     "text": [
      "Hello file world!\n"
     ]
    }
   ],
   "source": [
    "myfile = open('myfile.txt')\n",
    "print(myfile.readline())"
   ]
  },
  {
   "cell_type": "code",
   "execution_count": null,
   "metadata": {},
   "outputs": [],
   "source": []
  }
 ]
}