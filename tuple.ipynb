{
 "cells": [
  {
   "cell_type": "markdown",
   "metadata": {},
   "source": [
    "Объект кортежа примерно похож на список, который нельзя изменять — кортежи являются последовательностями подобно спискам, но они неизменяемые подобно строка­ми. \r\n",
    "Функционально они используются для представления фиксированных коллекций элементов: скажем, компонентов специфической "
   ]
  },
  {
   "cell_type": "code",
   "execution_count": null,
   "metadata": {},
   "outputs": [],
   "source": [
    "T = (1,2,3,4,4) #кортеж из 4 элементов\r\n",
    "print(len(T)) #длина кортежа\r\n",
    "print(T + (5,6)) #конкатенация\r\n",
    "print(T) #сам кортеж при этом не изменяется\r\n",
    "print(T[0]) #индексация, нарезание и т.д.\r\n",
    "print(T) #опять таки, кортеж не меняется\r\n",
    "T.index(4) #4 обнаруживается по смещению 3\r\n",
    "print(T.count(4)) #4 обнаруживается 2 раза\r\n",
    "# T[0] = 2 #кортежи неизменяемы\r\n",
    "T = (2,) + T[1:] #создает новый кортеж для нового значения\r\n",
    "print(T)"
   ]
  },
  {
   "cell_type": "code",
   "execution_count": null,
   "metadata": {},
   "outputs": [],
   "source": [
    "T = 'spam', 3.0, [11,22,33] #поддерживают смешанные типы, круглые скобки часто можно опускать. Запятые - это то, что фактически строит кортеж\r\n",
    "print(T[1])\r\n",
    "print(T[2][1])\r\n",
    "# T.appends(4) #неизменяемы."
   ]
  },
  {
   "source": [
    "() - пустой кортеж\n",
    "\n",
    "T = (0,) одноэлементный кортеж(не выражение)\n",
    "\n",
    "T = (0,'Ni',1.2,3) четырехэлементный кортеж\n",
    "\n",
    "T = 0, 'Ni', 1.2, 3 еще один четырехэлементный кортеж(такой же, как в предыдущей строке)\n",
    "\n",
    "T = ('Bob',('dev','mgr')) вложенные кортежи\n",
    "\n",
    "T = tuple('spam') кортеж из элементов итерируемого объекта\n",
    "\n",
    "T[i] индекс\n",
    "\n",
    "T[i][j] индекс среза\n",
    "\n",
    "T[i:j] срез\n",
    "\n",
    "len(T)длина\n",
    "\n",
    "T1 + T2 конкатенация\n",
    "\n",
    "T*3 повторение\n",
    "\n",
    "for x in T: print(x) итерация\n",
    "\n",
    "'spam' in T члнство\n",
    "[x ** 2 for x in T]\n",
    "\n",
    "T.index('Ni') поиск\n",
    "T.count('NI') подсчет\n",
    "\n",
    "namedtuple('Emp',['name','jobs']) Тип расширения именованного кортежа"
   ],
   "cell_type": "markdown",
   "metadata": {}
  },
  {
   "source": [
    "# Кортежи в действии"
   ],
   "cell_type": "markdown",
   "metadata": {}
  },
  {
   "cell_type": "code",
   "execution_count": 4,
   "metadata": {},
   "outputs": [
    {
     "output_type": "stream",
     "name": "stdout",
     "text": [
      "(1, 2, 3, 4)\n(1, 2, 1, 2, 1, 2, 1, 2)\n1\n(2, 3)\n"
     ]
    }
   ],
   "source": [
    "print((1,2) + (3,4)) #конкатенация\n",
    "\n",
    "print((1,2) * 4) #повторение\n",
    "\n",
    "T = (1,2,3,4)\n",
    "print(T[0])\n",
    "print(T[1:3]) #нарезание\n"
   ]
  },
  {
   "source": [
    "# Особенности синтаксиса кортежей: запятые и круглые скобки"
   ],
   "cell_type": "markdown",
   "metadata": {}
  },
  {
   "cell_type": "code",
   "execution_count": 5,
   "metadata": {},
   "outputs": [
    {
     "output_type": "stream",
     "name": "stdout",
     "text": [
      "40\n(40,)\n"
     ]
    }
   ],
   "source": [
    "x = (40) #целое число\n",
    "print(x)\n",
    "y = (40,) #кортеж, содержащий целое число\n",
    "print(y)"
   ]
  },
  {
   "source": [
    "# Преобразования, методы и неизменяемость"
   ],
   "cell_type": "markdown",
   "metadata": {}
  },
  {
   "cell_type": "code",
   "execution_count": 16,
   "metadata": {},
   "outputs": [
    {
     "output_type": "stream",
     "name": "stdout",
     "text": [
      "['aa', 'bb', 'cc', 'dd']\n('aa', 'bb', 'cc', 'dd')\n(1, 2, 3, 4, 5)\n"
     ]
    }
   ],
   "source": [
    "T = ('cc','aa','dd','bb')\n",
    "tmp = list(T) #создание списка из элементов кортежа\n",
    "tmp.sort() #сортировка списка\n",
    "print(tmp)\n",
    "\n",
    "T = tuple(tmp) #создание кортежа из элементо списка\n",
    "print(T)\n",
    "\n",
    "sorted(T) #либо использование встроенной функции sorted и экономия двух шагов"
   ]
  },
  {
   "cell_type": "code",
   "execution_count": 26,
   "metadata": {},
   "outputs": [
    {
     "output_type": "stream",
     "name": "stdout",
     "text": [
      "[21, 22, 23, 24, 25, 22]\n1\n5\n2\n(1, ['spam', 3], 4)\n"
     ]
    }
   ],
   "source": [
    "#преобразовать кортеж можно также с помощью использования списковых включений\n",
    "T = (1,2,3,4,5,2)\n",
    "L = [x + 20 for x in T]\n",
    "print(L)\n",
    "\n",
    "print(T.index(2)) #смещение первого элемента 2\n",
    "\n",
    "print(T.index(2, 2)) #появления еще одного элемента 2 после первого появления\n",
    "\n",
    "print(T.count(2)) #сколько всего элементов 2?\n",
    "\n",
    "#Неизменяемость кортежа применяется только к верхнему уровню кортежа, но не к его содержимому, например список можно изменить внутри кортежа\n",
    "\n",
    "T = (1,[2,3],4)\n",
    "# T[1] = 'spam' выкинет ошибку, т.к. мы пытаемся изменить сам кортеж\n",
    "T[1][0] = 'spam' #работает, изменяемы объекты внутри кортежа можно модифицировать\n",
    "print(T)\n"
   ]
  },
  {
   "source": [
    "# именованные кортежи"
   ],
   "cell_type": "markdown",
   "metadata": {}
  },
  {
   "cell_type": "code",
   "execution_count": 47,
   "metadata": {},
   "outputs": [
    {
     "output_type": "stream",
     "name": "stdout",
     "text": [
      "('Bob', 40.5, ['dev', 'mgr'])\n{'name': 'Bob', 'age': 40.5, 'jobs': ['dev', 'mgr']}\n\n('Bob', 40.5, ['dev', 'mgr'])\ndict_items([('name', 'Bob'), ('age', 40.5), ('jobs', ['dev', 'mgr'])])\nRec(name='Bob', age=40.5, jobs=['dev', 'mgr'])\nBob ['dev', 'mgr']\nBob ['dev', 'mgr']\nBob ['dev', 'mgr']\n{'name': 'Bob', 'age': 40.5, 'jobs': ['dev', 'mgr']}\n"
     ]
    }
   ],
   "source": [
    "bob = ('Bob',40.5,['dev','mgr']) #запись в виде кортежа\n",
    "print(bob)\n",
    "bob[0],bob[2] #доступ по позиции\n",
    "\n",
    "#та же запись, представленная в виде словаря:\n",
    "bob = dict(name='Bob',age=40.5,jobs=['dev','mgr']) #запись в виде словаря\n",
    "print(bob)\n",
    "bob['name'],bob['jobs'] # доступ по ключу\n",
    "\n",
    "#при необходимости мы можем преобразовывать части словаря в кортеж:\n",
    "print()\n",
    "print(tuple(bob.values())) #преобразование значений в кортеж\n",
    "print(bob.items()) #преобразование элементов в список кортежей\n",
    "\n",
    "from collections import namedtuple #импортирование типа расширения\n",
    "\n",
    "Rec = namedtuple('Rec',['name','age','jobs']) #создание производного класса\n",
    "\n",
    "bob = Rec('Bob',age = 40.5,jobs = ['dev','mgr']) #запись в виде именованного кортежа\n",
    "print(bob)\n",
    "print(bob[0],bob[2]) #доступ по позиции\n",
    "print(bob.name,bob.jobs) #доступ по атрибуту\n",
    "\n",
    "#именованный кортеж можно преобразовать в словарь, чтобы обеспечить поведение, основанное на ключах:\n",
    "\n",
    "o = bob._asdict() #форма похожая на словарь\n",
    "print(o['name'],o['jobs']) #доступ также и по ключу\n",
    "print(o)"
   ]
  },
  {
   "cell_type": "code",
   "execution_count": 74,
   "metadata": {},
   "outputs": [
    {
     "output_type": "stream",
     "name": "stdout",
     "text": [
      "40.5 Bob \n\nBob\n40.5\n['dev', 'mgr']\n"
     ]
    }
   ],
   "source": [
    "bob = {'name': 'Bob','age': 40.5,'jobs': ['dev','mgr']}\n",
    "job, name, age = bob.values()\n",
    "print(name, job,'\\n') #эквивалент dict(но порядок может варьироваться)\n",
    "for x in bob: print(bob[x]) #проход по ключам, индексация значений"
   ]
  }
 ],
 "metadata": {
  "kernelspec": {
   "display_name": "Python 3",
   "name": "python3",
   "language": "python"
  },
  "language_info": {
   "codemirror_mode": {
    "name": "ipython",
    "version": 3
   },
   "file_extension": ".py",
   "mimetype": "text/x-python",
   "name": "python",
   "nbconvert_exporter": "python",
   "pygments_lexer": "ipython3",
   "version": "3.8.5-final"
  },
  "orig_nbformat": 2
 },
 "nbformat": 4,
 "nbformat_minor": 2
}