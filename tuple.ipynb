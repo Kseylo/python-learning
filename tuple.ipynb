{
 "cells": [
  {
   "cell_type": "markdown",
   "metadata": {},
   "source": [
    "Объект кортежа примерно похож на список, который нельзя изменять — кортежи являются последовательностями подобно спискам, но они неизменяемые подобно строка­ми. \r\n",
    "Функционально они используются для представления фиксированных коллекций элементов: скажем, компонентов специфической "
   ]
  },
  {
   "cell_type": "code",
   "execution_count": null,
   "metadata": {},
   "outputs": [],
   "source": [
    "T = (1,2,3,4,4) #кортеж из 4 элементов\r\n",
    "print(len(T)) #длина кортежа\r\n",
    "print(T + (5,6)) #конкатенация\r\n",
    "print(T) #сам кортеж при этом не изменяется\r\n",
    "print(T[0]) #индексация, нарезание и т.д.\r\n",
    "print(T) #опять таки, кортеж не меняется\r\n",
    "T.index(4) #4 обнаруживается по смещению 3\r\n",
    "print(T.count(4)) #4 обнаруживается 2 раза\r\n",
    "# T[0] = 2 #кортежи неизменяемы\r\n",
    "T = (2,) + T[1:] #создает новый кортеж для нового значения\r\n",
    "print(T)"
   ]
  },
  {
   "cell_type": "code",
   "execution_count": null,
   "metadata": {},
   "outputs": [],
   "source": [
    "T = 'spam', 3.0, [11,22,33] #поддерживают смешанные типы, круглые скобки часто можно опускать. Запятые - это то, что фактически строит кортеж\r\n",
    "print(T[1])\r\n",
    "print(T[2][1])\r\n",
    "# T.appends(4) #неизменяемы."
   ]
  },
  {
   "cell_type": "code",
   "execution_count": null,
   "metadata": {},
   "outputs": [],
   "source": []
  }
 ],
 "metadata": {
  "kernelspec": {
   "display_name": "Python 3.8.5 64-bit ('base': conda)",
   "metadata": {
    "interpreter": {
     "hash": "5e5909fe99dbc90ce5f9fbb62ac9d98cbabe5a981ad7d3c167c6ed03bed873a2"
    }
   },
   "name": "python3"
  },
  "language_info": {
   "codemirror_mode": {
    "name": "ipython",
    "version": 3
   },
   "file_extension": ".py",
   "mimetype": "text/x-python",
   "name": "python",
   "nbconvert_exporter": "python",
   "pygments_lexer": "ipython3",
   "version": "3.8.5"
  },
  "orig_nbformat": 2
 },
 "nbformat": 4,
 "nbformat_minor": 2
}