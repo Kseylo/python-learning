{
 "cells": [
  {
   "cell_type": "code",
   "execution_count": null,
   "metadata": {},
   "outputs": [],
   "source": [
    "total = 0\n",
    "for i in range(1, 5):\n",
    "    total += i\n",
    "print(total)"
   ]
  },
  {
   "cell_type": "code",
   "execution_count": null,
   "metadata": {},
   "outputs": [],
   "source": [
    "i1 = 0\n",
    "\n",
    "while i1 < 5:\n",
    "    i1 += 1\n",
    "    print(i1)\n",
    "    "
   ]
  },
  {
   "cell_type": "code",
   "execution_count": null,
   "metadata": {},
   "outputs": [],
   "source": [
    "my_list = [7, 5, 4, 3, 2, 1, -5, -10, -15] # создаем лист с положительными  и отрицательным числами\n",
    "total3 = 0 # переменная сумма\n",
    "i2 = 0 # переменная счетчик\n",
    "\n",
    "while my_list[i2] > 0: # создаем условие,пока i2 больше нуля, а в списке у нас отрицательные числа\n",
    "    total3 += my_list[i2]#прибавляет к переменной сумме то что находится в этом списке на каждой итерации цикла\n",
    "    i2 += 1 #инкрементируем переменную счетчик\n",
    "    #print(total3) раскоментируй чтобы понять как это происходит в теле цикла\n",
    "        \n",
    "total4 = 0  #создаем переменную счетчик     \n",
    "for element in my_list: #создаем переменную element и для каждой переменной element в списке\n",
    "    if element > 0: #если она больше нуля, то\n",
    "        total4 += element #инкрементируем ее в переменную счетчик\n",
    "        #print(total4) раскоменть чтобы понять как это происходит в цикле\n",
    "\n",
    "print(total3)\n",
    "print(total4)"
   ]
  },
  {
   "cell_type": "code",
   "execution_count": null,
   "metadata": {},
   "outputs": [],
   "source": [
    "total5 = 0 #переменная сумма\n",
    "i5 = 0 #переменная счетчик\n",
    "\n",
    "while total5 < 10 and my_list[i5] > 0: #пока сумма меньше 10 и значение индекса в элементе больше 0\n",
    "    total5 += my_list[i5] #инкрементируем сумму на значение индекса в элемента в итерации\n",
    "    i5 += 1 #инкрементируем счетчик\n",
    "\n",
    "print(i5) #2 раза прошли, потому что сработало условие и сумма стала больше 10\n",
    "print(total5) # 5 + 7 = 12, условие сработало"
   ]
  },
  {
   "cell_type": "code",
   "execution_count": null,
   "metadata": {},
   "outputs": [],
   "source": [
    "my_list1 = [7,6,5,4,3,2,1]\n",
    "\n",
    "total_sum = 0\n",
    "a = 0\n",
    "\n",
    "#while my_list1[a] > 0: #пока переменная счетчик больше 0\n",
    "    #total_sum += my_list1[a] #сумма увеличивается на элемент из списка по которому мы проходимся\n",
    "    #a += 1#инкрементируем счетчик\n",
    "\n",
    "#Когда мы пройдемся по циклу, то переменная счетчик будет на 7 элементе\n",
    "# и попробует продолжить работать, потому что мы не указали в условие\n",
    "#ограничение, и мы выйдет из цикла с ошибкой list index out of range\n",
    "    \n",
    "#print(total_sum)\n",
    "\n",
    "#пример как надо было сделать:\n",
    "\n",
    "while a < len(my_list1) and my_list1[a] > 0: #len - определяет размер листа. Цикл будет выполняться пока лист переменная счетчик не больше длины листа и значение в индексе больше 0\n",
    "    total_sum += my_list1[a]\n",
    "    a += 1\n",
    "    \n",
    "print(total_sum)"
   ]
  },
  {
   "cell_type": "code",
   "execution_count": null,
   "metadata": {},
   "outputs": [],
   "source": [
    "i6 = 0 \n",
    "while True: #бесконечный цикл\n",
    "    if i6 == 100: #если i6 равно 100 выходим из цикла break\n",
    "        break\n",
    "        \n",
    "    print(i6) #печатает каждую итерацию\n",
    "    i6 += 1 #увеличиваем переменную счетчик чтобы не застрять в бесконечном цикле  \n",
    "     "
   ]
  },
  {
   "cell_type": "code",
   "execution_count": 1,
   "metadata": {},
   "outputs": [
    {
     "name": "stdout",
     "output_type": "stream",
     "text": [
      "-61\n"
     ]
    }
   ],
   "source": [
    "my_list2 = [7,5,4,4,3,2,1,-5,-10,-13,-15,-18]\n",
    "\n",
    "a2 = -1 #даем значение -1, начинаем с последнего элемента\n",
    "neg_sum = 0\n",
    "while my_list2[a2] < 0: #запускаем цикл while пока а2 меньше 0, как только а2 = 0 и больше выходим из цилка\n",
    "        neg_sum += my_list2[a2] #считаем сумму отрицатльных чисел\n",
    "        a2 += -1 #инкрементируем переменную счетчик и проходимся с конца списка\n",
    "        \n",
    "print(neg_sum)\n",
    "    "
   ]
  },
  {
   "cell_type": "code",
   "execution_count": 5,
   "metadata": {},
   "outputs": [
    {
     "name": "stdout",
     "output_type": "stream",
     "text": [
      "-61\n"
     ]
    }
   ],
   "source": [
    "my_list2.reverse() #переворачиваю список так, что последний элемент становится первым\n",
    "\n",
    "for element in my_list2:\n",
    "    if element > 0: #если значение элемента в индексе больше 0 выходим из цикла\n",
    "        break\n",
    "    else: #иначе суммируем значение элемента к переменной-сумме\n",
    "        neg_sum += element\n",
    "print(neg_sum)"
   ]
  },
  {
   "cell_type": "code",
   "execution_count": 8,
   "metadata": {},
   "outputs": [],
   "source": [
    "words = [\"apple\",\"banana\",\"orange\",\"pineapple\",\"stop\",\"biba\",\"boba\"] #список слов"
   ]
  },
  {
   "cell_type": "code",
   "execution_count": 9,
   "metadata": {},
   "outputs": [
    {
     "name": "stdout",
     "output_type": "stream",
     "text": [
      "apple\n",
      "banana\n",
      "orange\n",
      "pineapple\n"
     ]
    }
   ],
   "source": [
    "for element in words:\n",
    "    if element == \"stop\": #если в списке попадается элемент со значение \"stop\", прекращаем итерацию и выходим из цикла\n",
    "        break\n",
    "    else:\n",
    "        print(element) #иначе выводим на экран слова"
   ]
  },
  {
   "cell_type": "code",
   "execution_count": null,
   "metadata": {},
   "outputs": [],
   "source": []
  }
 ],
 "metadata": {
  "kernelspec": {
   "display_name": "Python 3",
   "language": "python",
   "name": "python3"
  },
  "language_info": {
   "codemirror_mode": {
    "name": "ipython",
    "version": 3
   },
   "file_extension": ".py",
   "mimetype": "text/x-python",
   "name": "python",
   "nbconvert_exporter": "python",
   "pygments_lexer": "ipython3",
   "version": "3.8.5"
  }
 },
 "nbformat": 4,
 "nbformat_minor": 4
}
