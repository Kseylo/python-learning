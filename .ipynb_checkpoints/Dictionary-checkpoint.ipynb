{
 "cells": [
  {
   "cell_type": "code",
   "execution_count": null,
   "metadata": {},
   "outputs": [],
   "source": [
    "numbers = [0,1,2,3,4,5]"
   ]
  },
  {
   "cell_type": "code",
   "execution_count": null,
   "metadata": {},
   "outputs": [],
   "source": [
    "summ = 0\n",
    "for i in range(len(numbers)):\n",
    "    for j in range(i + 1):\n",
    "        summ += i\n",
    "        print(summ)"
   ]
  },
  {
   "cell_type": "code",
   "execution_count": null,
   "metadata": {},
   "outputs": [],
   "source": [
    "d = {\"Alex\": 25, \"Petr\": 37}\n",
    "#d = dict() тоже самое"
   ]
  },
  {
   "cell_type": "code",
   "execution_count": null,
   "metadata": {},
   "outputs": [],
   "source": [
    "print(d) #выводим на экран словарь\n",
    "len(d) # длина ключей в словаре"
   ]
  },
  {
   "cell_type": "code",
   "execution_count": null,
   "metadata": {},
   "outputs": [],
   "source": [
    "d[\"Kate\"] = 18 #добавить в словарь еще одну пару"
   ]
  },
  {
   "cell_type": "code",
   "execution_count": null,
   "metadata": {},
   "outputs": [],
   "source": [
    "print(d)"
   ]
  },
  {
   "cell_type": "code",
   "execution_count": null,
   "metadata": {},
   "outputs": [],
   "source": [
    "print(d[\"Petr\"]) #обращение по ключу и получаем значение"
   ]
  },
  {
   "cell_type": "code",
   "execution_count": null,
   "metadata": {},
   "outputs": [],
   "source": [
    "d[\"Petr\"] = 24 #изменили значение у ключа\n",
    "print(d[\"Petr\"])"
   ]
  },
  {
   "cell_type": "code",
   "execution_count": null,
   "metadata": {},
   "outputs": [],
   "source": [
    "d[10] = 20 #можем смещать и добавить численный тип в словарь\n",
    "print(d)"
   ]
  },
  {
   "cell_type": "code",
   "execution_count": null,
   "metadata": {},
   "outputs": [],
   "source": [
    "for k, v in d.items(): #в k кладем ключ, в v значение. d.items возвращает все значения словаря\n",
    "    print(k)\n",
    "    print(v)"
   ]
  },
  {
   "cell_type": "code",
   "execution_count": null,
   "metadata": {},
   "outputs": [],
   "source": [
    "for key, value in d.items():\n",
    "    print(\"ключ: \" + str(key) + \" ,значение: \" + str(value))"
   ]
  },
  {
   "cell_type": "code",
   "execution_count": 1,
   "metadata": {},
   "outputs": [],
   "source": [
    "a = [\"first\", 1, 2, 3, \"second\", 10, 20, \"Third\", 15 , 56 , 70, \"fourth\", -50]"
   ]
  },
  {
   "cell_type": "code",
   "execution_count": 4,
   "metadata": {},
   "outputs": [
    {
     "name": "stdout",
     "output_type": "stream",
     "text": [
      "{'first': [1, 2, 3], 'second': [10, 20], 'Third': [15, 56, 70], 'fourth': [-50]}\n"
     ]
    }
   ],
   "source": [
    "my_dict = {} #создаем пустой список\n",
    "current_str = None #создаем временную перемену\n",
    "\n",
    "for e in a:\n",
    "    if(type(e) == str): #если тип элемента из списка равен String \n",
    "        my_dict[e] = [] #создаем пустое значение для ключа e\n",
    "        current_str = e #добавляет текущее значение во временную переменную\n",
    "    else:\n",
    "        my_dict[current_str].append(e) #к текущему ключу добавляем значения из списка\n",
    "        \n",
    "print(my_dict)"
   ]
  },
  {
   "cell_type": "code",
   "execution_count": 13,
   "metadata": {},
   "outputs": [],
   "source": [
    "my_text = \"Привет пока как дела привет пока как дела арбзу бамбуз кукуруз стол как слон банан апельсин\""
   ]
  },
  {
   "cell_type": "code",
   "execution_count": 14,
   "metadata": {},
   "outputs": [
    {
     "name": "stdout",
     "output_type": "stream",
     "text": [
      "{'Привет': 1, 'пока': 2, 'как': 3, 'дела': 2, 'привет': 1, 'арбзу': 1, 'бамбуз': 1, 'кукуруз': 1, 'стол': 1, 'слон': 1, 'банан': 1, 'апельсин': 1}\n"
     ]
    }
   ],
   "source": [
    "my_dict2 = {} #создаем пустой словарь\n",
    "for word in my_text.split(): #проходимся по списку и разделяем слова пробелами\n",
    "    if word in my_dict2: # если слово находится в словаре\n",
    "        my_dict2[word] = my_dict2[word] + 1 #если слово есть в словаре, мы обращаемся к этому слову и инкрементируем\n",
    "    else:\n",
    "        my_dict2[word] = 1 #иначе помещаем новое слово в словарь со значением 1\n",
    "\n",
    "print(my_dict2)"
   ]
  },
  {
   "cell_type": "code",
   "execution_count": 19,
   "metadata": {},
   "outputs": [
    {
     "name": "stdout",
     "output_type": "stream",
     "text": [
      "{'Привет': 1}\n",
      "{'Привет': 1, 'пока': 1}\n",
      "{'Привет': 1, 'пока': 1, 'как': 1}\n",
      "{'Привет': 1, 'пока': 1, 'как': 1, 'дела': 1}\n",
      "{'Привет': 1, 'пока': 1, 'как': 1, 'дела': 1, 'привет': 1}\n",
      "{'Привет': 1, 'пока': 2, 'как': 1, 'дела': 1, 'привет': 1}\n",
      "{'Привет': 1, 'пока': 2, 'как': 2, 'дела': 1, 'привет': 1}\n",
      "{'Привет': 1, 'пока': 2, 'как': 2, 'дела': 2, 'привет': 1}\n",
      "{'Привет': 1, 'пока': 2, 'как': 2, 'дела': 2, 'привет': 1, 'арбзу': 1}\n",
      "{'Привет': 1, 'пока': 2, 'как': 2, 'дела': 2, 'привет': 1, 'арбзу': 1, 'бамбуз': 1}\n",
      "{'Привет': 1, 'пока': 2, 'как': 2, 'дела': 2, 'привет': 1, 'арбзу': 1, 'бамбуз': 1, 'кукуруз': 1}\n",
      "{'Привет': 1, 'пока': 2, 'как': 2, 'дела': 2, 'привет': 1, 'арбзу': 1, 'бамбуз': 1, 'кукуруз': 1, 'стол': 1}\n",
      "{'Привет': 1, 'пока': 2, 'как': 3, 'дела': 2, 'привет': 1, 'арбзу': 1, 'бамбуз': 1, 'кукуруз': 1, 'стол': 1}\n",
      "{'Привет': 1, 'пока': 2, 'как': 3, 'дела': 2, 'привет': 1, 'арбзу': 1, 'бамбуз': 1, 'кукуруз': 1, 'стол': 1, 'слон': 1}\n",
      "{'Привет': 1, 'пока': 2, 'как': 3, 'дела': 2, 'привет': 1, 'арбзу': 1, 'бамбуз': 1, 'кукуруз': 1, 'стол': 1, 'слон': 1, 'банан': 1}\n",
      "{'Привет': 1, 'пока': 2, 'как': 3, 'дела': 2, 'привет': 1, 'арбзу': 1, 'бамбуз': 1, 'кукуруз': 1, 'стол': 1, 'слон': 1, 'банан': 1, 'апельсин': 1}\n",
      "{'Привет': 1, 'пока': 2, 'как': 3, 'дела': 2, 'привет': 1, 'арбзу': 1, 'бамбуз': 1, 'кукуруз': 1, 'стол': 1, 'слон': 1, 'банан': 1, 'апельсин': 1}\n"
     ]
    }
   ],
   "source": [
    "my_dict2 = {} #создаем пустой словарь\n",
    "for word in my_text.split(): #проходимся по списку разделяем слова пробелами\n",
    "    my_dict2[word] = my_dict2.get(word, 0) + 1\n",
    "    # print(my_dict2) раскоменьт чтобы понять\n",
    "    \n",
    "    #если слово нет в словаре, то возвращаем ключ плюс значение 0 + 1 = 1\n",
    "    #если слово уже есть, то возвращается n количество значений + 1\n",
    "    \n",
    "print(my_dict2)"
   ]
  },
  {
   "cell_type": "code",
   "execution_count": null,
   "metadata": {},
   "outputs": [],
   "source": [
    "   "
   ]
  }
 ],
 "metadata": {
  "kernelspec": {
   "display_name": "Python 3",
   "language": "python",
   "name": "python3"
  },
  "language_info": {
   "codemirror_mode": {
    "name": "ipython",
    "version": 3
   },
   "file_extension": ".py",
   "mimetype": "text/x-python",
   "name": "python",
   "nbconvert_exporter": "python",
   "pygments_lexer": "ipython3",
   "version": "3.8.5"
  }
 },
 "nbformat": 4,
 "nbformat_minor": 4
}
