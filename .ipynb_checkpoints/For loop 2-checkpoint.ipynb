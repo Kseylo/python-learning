{
 "cells": [
  {
   "cell_type": "code",
   "execution_count": 1,
   "metadata": {},
   "outputs": [],
   "source": [
    "names = [\"Mike\", \"Tom\", \"Katy\",  \"Alex\"]"
   ]
  },
  {
   "cell_type": "code",
   "execution_count": 2,
   "metadata": {},
   "outputs": [
    {
     "name": "stdout",
     "output_type": "stream",
     "text": [
      "Mike\n",
      "Tom\n",
      "Katy\n",
      "Alex\n"
     ]
    }
   ],
   "source": [
    "for element in names:\n",
    "    print(element) #выводим элементы"
   ]
  },
  {
   "cell_type": "code",
   "execution_count": 5,
   "metadata": {},
   "outputs": [
    {
     "name": "stdout",
     "output_type": "stream",
     "text": [
      "Mike\n",
      "Tom\n",
      "Katy\n",
      "Alex\n"
     ]
    }
   ],
   "source": [
    "for i in range(0, 4): # 0 , 1 , 2, 3 хардкод\n",
    "    print(names[i]) #выводим элементы по индексу"
   ]
  },
  {
   "cell_type": "code",
   "execution_count": 6,
   "metadata": {},
   "outputs": [
    {
     "name": "stdout",
     "output_type": "stream",
     "text": [
      "Mike\n",
      "Tom\n",
      "Katy\n",
      "Alex\n"
     ]
    }
   ],
   "source": [
    "for i in range(len(names)): #len - length - длина\n",
    "    print(names[i])"
   ]
  },
  {
   "cell_type": "code",
   "execution_count": 9,
   "metadata": {},
   "outputs": [
    {
     "name": "stdout",
     "output_type": "stream",
     "text": [
      "Mike\n",
      "Tom\n",
      "Tom\n",
      "Katy\n",
      "Katy\n",
      "Katy\n",
      "Alex\n",
      "Alex\n",
      "Alex\n",
      "Alex\n"
     ]
    }
   ],
   "source": [
    "    for i in range(len(names)): #внешний цикл 0,1,2,3,4\n",
    "        \n",
    "        # i = 0, j = 0\n",
    "        # i = 1, j = 0, 1\n",
    "        # i = 2, j = 0, 1, 2\n",
    "        \n",
    "        for j in range(i  + 1):\n",
    "            print(names[i])"
   ]
  },
  {
   "cell_type": "code",
   "execution_count": null,
   "metadata": {},
   "outputs": [],
   "source": []
  }
 ],
 "metadata": {
  "kernelspec": {
   "display_name": "Python 3",
   "language": "python",
   "name": "python3"
  },
  "language_info": {
   "codemirror_mode": {
    "name": "ipython",
    "version": 3
   },
   "file_extension": ".py",
   "mimetype": "text/x-python",
   "name": "python",
   "nbconvert_exporter": "python",
   "pygments_lexer": "ipython3",
   "version": "3.8.5"
  }
 },
 "nbformat": 4,
 "nbformat_minor": 4
}
