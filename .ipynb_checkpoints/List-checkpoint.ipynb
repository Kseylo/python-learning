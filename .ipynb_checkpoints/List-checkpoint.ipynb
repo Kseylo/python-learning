{
 "cells": [
  {
   "cell_type": "code",
   "execution_count": 1,
   "metadata": {},
   "outputs": [],
   "source": [
    "a = [3,5,20] #создаем лист"
   ]
  },
  {
   "cell_type": "code",
   "execution_count": 2,
   "metadata": {},
   "outputs": [
    {
     "name": "stdout",
     "output_type": "stream",
     "text": [
      "[3, 5, 20]\n"
     ]
    }
   ],
   "source": [
    "print(a) #вызываем лист и выводим на экран"
   ]
  },
  {
   "cell_type": "code",
   "execution_count": 3,
   "metadata": {},
   "outputs": [
    {
     "name": "stdout",
     "output_type": "stream",
     "text": [
      "[3, 5, 20, 15]\n"
     ]
    }
   ],
   "source": [
    "a.append(15) # добавляем еще одно число в лист, оно добавляется в конец\n",
    "print(a)"
   ]
  },
  {
   "cell_type": "code",
   "execution_count": 5,
   "metadata": {},
   "outputs": [
    {
     "name": "stdout",
     "output_type": "stream",
     "text": [
      "[3, 5, 20, 15, 'Hello']\n"
     ]
    }
   ],
   "source": [
    "a.append(\"Hello\") #В pythone мы можем добавлять различные типы данных в лист\n",
    "print(a)"
   ]
  },
  {
   "cell_type": "code",
   "execution_count": 7,
   "metadata": {
    "scrolled": true
   },
   "outputs": [
    {
     "name": "stdout",
     "output_type": "stream",
     "text": [
      "[3, 5, 20, 15, 'Hello', [5, 6]]\n"
     ]
    }
   ],
   "source": [
    "a.append([5,6]) #также мы можем добавлять в уже существующий лист новый лист\n",
    "print(a)"
   ]
  },
  {
   "cell_type": "code",
   "execution_count": 8,
   "metadata": {},
   "outputs": [
    {
     "name": "stdout",
     "output_type": "stream",
     "text": [
      "[3, 5, 20, 15, 'Hello']\n"
     ]
    }
   ],
   "source": [
    "a.pop() # pop - выскачить,удаляем последний элемент из листа\n",
    "print(a)"
   ]
  },
  {
   "cell_type": "code",
   "execution_count": 9,
   "metadata": {},
   "outputs": [
    {
     "name": "stdout",
     "output_type": "stream",
     "text": [
      "[3, 5, 20, 15]\n"
     ]
    }
   ],
   "source": [
    "a.pop() #если передать например 2 как аргумент, то элемент под 2 индексом удалиться \n",
    "print(a)"
   ]
  },
  {
   "cell_type": "code",
   "execution_count": 10,
   "metadata": {},
   "outputs": [
    {
     "name": "stdout",
     "output_type": "stream",
     "text": [
      "3\n"
     ]
    }
   ],
   "source": [
    "print(a[0]) # обращаемся в первому элементу списка и выводим его на экран"
   ]
  },
  {
   "cell_type": "code",
   "execution_count": 12,
   "metadata": {},
   "outputs": [
    {
     "name": "stdout",
     "output_type": "stream",
     "text": [
      "15\n"
     ]
    }
   ],
   "source": [
    "print(a[3]) #круглые скобки вызывают функцию print, а квадратные обращаются к листу"
   ]
  },
  {
   "cell_type": "code",
   "execution_count": 13,
   "metadata": {},
   "outputs": [
    {
     "name": "stdout",
     "output_type": "stream",
     "text": [
      "15\n"
     ]
    }
   ],
   "source": [
    "print(a[-1]) # 3 - 0 элемент, -1 вызывается последний элемент в списке"
   ]
  },
  {
   "cell_type": "code",
   "execution_count": 14,
   "metadata": {},
   "outputs": [
    {
     "name": "stdout",
     "output_type": "stream",
     "text": [
      "[100, 5, 20, 15]\n"
     ]
    }
   ],
   "source": [
    "a[0] = 100 #меняем 0 элемент, назначаем новое значение\n",
    "print(a)"
   ]
  },
  {
   "cell_type": "code",
   "execution_count": 16,
   "metadata": {},
   "outputs": [
    {
     "name": "stdout",
     "output_type": "stream",
     "text": [
      "['Hello', 'How are you', 'How are you']\n",
      "['Hello', 'How are you', 'Goodbye']\n"
     ]
    }
   ],
   "source": [
    "b = [\"Hello\",\"Goodbye\",\"How are you\"]\n",
    "temp = b[1] #создаем временную переменную\n",
    "b[1] = b[2]\n",
    "print(b) # затерли элемент под индексом 1 и назначали значени последнего\n",
    "b[2] = temp\n",
    "print(b) # вернули значение из временной переменной"
   ]
  },
  {
   "cell_type": "code",
   "execution_count": 17,
   "metadata": {},
   "outputs": [
    {
     "name": "stdout",
     "output_type": "stream",
     "text": [
      "['Goodbye', 'How are you', 'Hello']\n"
     ]
    }
   ],
   "source": [
    "b[0],b[2] = b[2], b[0] #Присваивам значение первого элемента последнему в списке,а последнему значение первого\n",
    "print(b)"
   ]
  },
  {
   "cell_type": "code",
   "execution_count": 19,
   "metadata": {},
   "outputs": [
    {
     "name": "stdout",
     "output_type": "stream",
     "text": [
      "1\n",
      "2\n"
     ]
    }
   ],
   "source": [
    "a,b = 1,2 #Синтаксис сверху модно использовать и вот так\n",
    "print(a)\n",
    "print(b)"
   ]
  },
  {
   "cell_type": "code",
   "execution_count": null,
   "metadata": {},
   "outputs": [],
   "source": []
  },
  {
   "cell_type": "code",
   "execution_count": null,
   "metadata": {},
   "outputs": [],
   "source": []
  }
 ],
 "metadata": {
  "kernelspec": {
   "display_name": "Python 3",
   "language": "python",
   "name": "python3"
  },
  "language_info": {
   "codemirror_mode": {
    "name": "ipython",
    "version": 3
   },
   "file_extension": ".py",
   "mimetype": "text/x-python",
   "name": "python",
   "nbconvert_exporter": "python",
   "pygments_lexer": "ipython3",
   "version": "3.8.5"
  }
 },
 "nbformat": 4,
 "nbformat_minor": 4
}
