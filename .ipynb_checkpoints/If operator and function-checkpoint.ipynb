{
 "cells": [
  {
   "cell_type": "code",
   "execution_count": 1,
   "metadata": {},
   "outputs": [
    {
     "name": "stdout",
     "output_type": "stream",
     "text": [
      "Hello World!\n"
     ]
    }
   ],
   "source": [
    "print(\"Hello World!\")"
   ]
  },
  {
   "cell_type": "code",
   "execution_count": 8,
   "metadata": {},
   "outputs": [
    {
     "name": "stdout",
     "output_type": "stream",
     "text": [
      "a меньше б\n",
      "вне блока if\n"
     ]
    }
   ],
   "source": [
    "a = 1\n",
    "b = 2\n",
    "if a < b:\n",
    "    print (\"a меньше б\")\n",
    "    \n",
    "print(\"вне блока if\")"
   ]
  },
  {
   "cell_type": "code",
   "execution_count": 10,
   "metadata": {},
   "outputs": [
    {
     "name": "stdout",
     "output_type": "stream",
     "text": [
      "c либо больше d, либо равно d\n",
      "вне блока if\n"
     ]
    }
   ],
   "source": [
    "c = 3\n",
    "d = 4\n",
    "if c > d:\n",
    "    print(\"c больше d\")\n",
    "else:\n",
    "    print(\"c либо больше d, либо равно d\")\n",
    "    \n",
    "print(\"вне блока if\")"
   ]
  },
  {
   "cell_type": "code",
   "execution_count": 19,
   "metadata": {},
   "outputs": [
    {
     "name": "stdout",
     "output_type": "stream",
     "text": [
      "Если e больше чем f выводим эту строку\n"
     ]
    }
   ],
   "source": [
    "e = 20\n",
    "f = 8\n",
    "if e < f:\n",
    "    print(\"e меньше чем f\")\n",
    "elif e == f: #конструкция else if,выполняется при соблюдении условия\n",
    "    print(\"e равно f\") \n",
    "elif e > f + 10:\n",
    "    print(\"Если e больше чем f на 10 выводим эту строку\")\n",
    "else:\n",
    "    print(\"е больше чем f\")"
   ]
  },
  {
   "cell_type": "code",
   "execution_count": 24,
   "metadata": {},
   "outputs": [
    {
     "name": "stdout",
     "output_type": "stream",
     "text": [
      "g больше чем h\n"
     ]
    }
   ],
   "source": [
    "g = 7\n",
    "h = 8\n",
    "if g < h:\n",
    "    print(\"g больше чем h\")\n",
    "else:\n",
    "    if g == h: # тоже самое что и elif \n",
    "        print(\"g равно h\")\n",
    "    else:\n",
    "        print(\"g больше чем h\")\n",
    "    "
   ]
  },
  {
   "cell_type": "code",
   "execution_count": 30,
   "metadata": {},
   "outputs": [
    {
     "name": "stdout",
     "output_type": "stream",
     "text": [
      "индекс массы тела: 20.0\n",
      "У Tom нет лишнего веса\n"
     ]
    }
   ],
   "source": [
    "name = \"Tom\"\n",
    "height = 2\n",
    "weight = 80\n",
    "bmi = weight / (height  ** 2) # возвести переменную height в квадрат(** означает возведение в степень)\n",
    "print(\"индекс массы тела: \" + str(bmi)) #приведение float к string\n",
    " \n",
    "if bmi < 25:\n",
    "    print(\"У \" + name + \" нет лишнего веса\")\n",
    "else:\n",
    "    print(\"У \" + name + \" есть лишний вес\")"
   ]
  },
  {
   "cell_type": "code",
   "execution_count": 31,
   "metadata": {},
   "outputs": [
    {
     "data": {
      "text/plain": [
       "False"
      ]
     },
     "execution_count": 31,
     "metadata": {},
     "output_type": "execute_result"
    }
   ],
   "source": [
    "10 < 5 # тип boolean"
   ]
  },
  {
   "cell_type": "code",
   "execution_count": 32,
   "metadata": {},
   "outputs": [
    {
     "data": {
      "text/plain": [
       "True"
      ]
     },
     "execution_count": 32,
     "metadata": {},
     "output_type": "execute_result"
    }
   ],
   "source": [
    "10 < 15 # тип boolean"
   ]
  },
  {
   "cell_type": "code",
   "execution_count": 36,
   "metadata": {},
   "outputs": [
    {
     "name": "stdout",
     "output_type": "stream",
     "text": [
      "False\n"
     ]
    }
   ],
   "source": [
    "my_bool = 10 < 5 # тип boolean\n",
    "print(my_bool)"
   ]
  },
  {
   "cell_type": "code",
   "execution_count": 37,
   "metadata": {},
   "outputs": [
    {
     "data": {
      "text/plain": [
       "bool"
      ]
     },
     "execution_count": 37,
     "metadata": {},
     "output_type": "execute_result"
    }
   ],
   "source": [
    "type(1 < 2) # проверяет какой тип в скобках"
   ]
  },
  {
   "cell_type": "code",
   "execution_count": 38,
   "metadata": {},
   "outputs": [
    {
     "name": "stdout",
     "output_type": "stream",
     "text": [
      "Hello from outside function\n"
     ]
    }
   ],
   "source": [
    "def function(): #def от define(определять, обозначать) обозначает функцию\n",
    "    print(\"Hello1\")\n",
    "    print(\"Hello2\")\n",
    "print(\"Hello from outside function\") #мы объявили функцию,но не вызывали ее"
   ]
  },
  {
   "cell_type": "code",
   "execution_count": 40,
   "metadata": {},
   "outputs": [
    {
     "name": "stdout",
     "output_type": "stream",
     "text": [
      "Hello1\n",
      "Hello2\n"
     ]
    }
   ],
   "source": [
    " function() # вызов функции"
   ]
  },
  {
   "cell_type": "code",
   "execution_count": null,
   "metadata": {},
   "outputs": [],
   "source": [
    " "
   ]
  }
 ],
 "metadata": {
  "kernelspec": {
   "display_name": "Python 3",
   "language": "python",
   "name": "python3"
  },
  "language_info": {
   "codemirror_mode": {
    "name": "ipython",
    "version": 3
   },
   "file_extension": ".py",
   "mimetype": "text/x-python",
   "name": "python",
   "nbconvert_exporter": "python",
   "pygments_lexer": "ipython3",
   "version": "3.8.5"
  }
 },
 "nbformat": 4,
 "nbformat_minor": 4
}
