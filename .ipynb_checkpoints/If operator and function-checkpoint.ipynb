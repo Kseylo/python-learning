{
 "cells": [
  {
   "cell_type": "code",
   "execution_count": null,
   "metadata": {},
   "outputs": [],
   "source": [
    "print(\"Hello World!\")"
   ]
  },
  {
   "cell_type": "code",
   "execution_count": null,
   "metadata": {},
   "outputs": [],
   "source": [
    "a = 1\n",
    "b = 2\n",
    "if a < b:\n",
    "    print (\"a меньше б\")\n",
    "    \n",
    "print(\"вне блока if\")"
   ]
  },
  {
   "cell_type": "code",
   "execution_count": null,
   "metadata": {},
   "outputs": [],
   "source": [
    "c = 3\n",
    "d = 4\n",
    "if c > d:\n",
    "    print(\"c больше d\")\n",
    "else:\n",
    "    print(\"c либо больше d, либо равно d\")\n",
    "    \n",
    "print(\"вне блока if\")"
   ]
  },
  {
   "cell_type": "code",
   "execution_count": null,
   "metadata": {},
   "outputs": [],
   "source": [
    "e = 20\n",
    "f = 8\n",
    "if e < f:\n",
    "    print(\"e меньше чем f\")\n",
    "elif e == f: #конструкция else if,выполняется при соблюдении условия\n",
    "    print(\"e равно f\") \n",
    "elif e > f + 10:\n",
    "    print(\"Если e больше чем f на 10 выводим эту строку\")\n",
    "else:\n",
    "    print(\"е больше чем f\")"
   ]
  },
  {
   "cell_type": "code",
   "execution_count": null,
   "metadata": {},
   "outputs": [],
   "source": [
    "g = 7\n",
    "h = 8\n",
    "if g < h:\n",
    "    print(\"g больше чем h\")\n",
    "else:\n",
    "    if g == h: # тоже самое что и elif \n",
    "        print(\"g равно h\")\n",
    "    else:\n",
    "        print(\"g больше чем h\")\n",
    "    "
   ]
  },
  {
   "cell_type": "code",
   "execution_count": null,
   "metadata": {},
   "outputs": [],
   "source": [
    "name = \"Tom\"\n",
    "height = 2\n",
    "weight = 80\n",
    "bmi = weight / (height  ** 2) # возвести переменную height в квадрат(** означает возведение в степень)\n",
    "print(\"индекс массы тела: \" + str(bmi)) #приведение float к string\n",
    " \n",
    "if bmi < 25:\n",
    "    print(\"У \" + name + \" нет лишнего веса\")\n",
    "else:\n",
    "    print(\"У \" + name + \" есть лишний вес\")"
   ]
  },
  {
   "cell_type": "code",
   "execution_count": null,
   "metadata": {},
   "outputs": [],
   "source": [
    "10 < 5 # тип boolean"
   ]
  },
  {
   "cell_type": "code",
   "execution_count": null,
   "metadata": {},
   "outputs": [],
   "source": [
    "10 < 15 # тип boolean"
   ]
  },
  {
   "cell_type": "code",
   "execution_count": null,
   "metadata": {},
   "outputs": [],
   "source": [
    "my_bool = 10 < 5 # тип boolean\n",
    "print(my_bool)"
   ]
  },
  {
   "cell_type": "code",
   "execution_count": null,
   "metadata": {},
   "outputs": [],
   "source": [
    "type(1 < 2) # проверяет какой тип в скобках"
   ]
  },
  {
   "cell_type": "code",
   "execution_count": null,
   "metadata": {},
   "outputs": [],
   "source": [
    "def function(): #def от define(определять, обозначать) обозначает функцию\n",
    "    print(\"Hello1\")\n",
    "    print(\"Hello2\")\n",
    "print(\"Hello from outside function\") #мы объявили функцию,но не вызывали ее"
   ]
  },
  {
   "cell_type": "code",
   "execution_count": null,
   "metadata": {},
   "outputs": [],
   "source": [
    " function() # вызов функции"
   ]
  },
  {
   "cell_type": "code",
   "execution_count": null,
   "metadata": {},
   "outputs": [],
   "source": [
    " def function1(x): #передает значение в функцию\n",
    "        return 2*x # возвращаемое значение"
   ]
  },
  {
   "cell_type": "code",
   "execution_count": null,
   "metadata": {},
   "outputs": [],
   "source": [
    "a = function1(5) # передаем на вход 5\n",
    "print(a) # возвращает 10"
   ]
  },
  {
   "cell_type": "code",
   "execution_count": null,
   "metadata": {},
   "outputs": [],
   "source": [
    "print(function1(4)) #так написать тоже допускается"
   ]
  },
  {
   "cell_type": "code",
   "execution_count": null,
   "metadata": {},
   "outputs": [],
   "source": [
    "d = function1() # не сработает потому что мы не передаем значение "
   ]
  },
  {
   "cell_type": "code",
   "execution_count": null,
   "metadata": {},
   "outputs": [],
   "source": [
    "def sum_of_two_numbers(x,y): # два значения на вход\n",
    "    return x + y # возвращаем два значения"
   ]
  },
  {
   "cell_type": "code",
   "execution_count": null,
   "metadata": {},
   "outputs": [],
   "source": [
    "e = sum_of_two_numbers( 4, 5) # вызываем функцию и передаем ей значения\n",
    "print(e) # получаем сумму двух чисел"
   ]
  },
  {
   "cell_type": "code",
   "execution_count": null,
   "metadata": {},
   "outputs": [],
   "source": [
    "def function5(some_argument): #принимаем аргумент,но не возвращаем его\n",
    "    print(some_argument)\n",
    "    print(\"aasdfg\")"
   ]
  },
  {
   "cell_type": "code",
   "execution_count": null,
   "metadata": {},
   "outputs": [],
   "source": [
    "function5(5) # передеаем 5 как аргумент"
   ]
  },
  {
   "cell_type": "code",
   "execution_count": null,
   "metadata": {},
   "outputs": [],
   "source": [
    " def function6(): #фукнция без передаваемого значения\n",
    "        return 5 #но она возвращает константу 5"
   ]
  },
  {
   "cell_type": "code",
   "execution_count": null,
   "metadata": {},
   "outputs": [],
   "source": [
    "function6() # и при вызове функции мы получаем 5ку"
   ]
  },
  {
   "cell_type": "code",
   "execution_count": null,
   "metadata": {},
   "outputs": [],
   "source": [
    "a = function5(123)\n",
    "print(a) #получаем none  "
   ]
  },
  {
   "cell_type": "code",
   "execution_count": null,
   "metadata": {},
   "outputs": [],
   "source": [
    "def function7(x): # не передает значения на вход\n",
    "    print(x) # выводим на экран\n",
    "    print(\"blabla\") #без комментариев\n",
    "    return 3*x #возвращаем 3 * на значение которое мы передадим ниже\n",
    "\n",
    "a = function7(10) # передаем значение при создании и выполняем блок код\n",
    "print(a) # получаем 30 потому что мы вернули значение после выполнения блока"
   ]
  },
  {
   "cell_type": "code",
   "execution_count": 18,
   "metadata": {},
   "outputs": [],
   "source": [
    "def convert(miles):\n",
    "    return miles * 1.609"
   ]
  },
  {
   "cell_type": "code",
   "execution_count": 17,
   "metadata": {},
   "outputs": [
    {
     "name": "stdout",
     "output_type": "stream",
     "text": [
      "Км в милях: 8.045\n"
     ]
    }
   ],
   "source": [
    "print(\"Км в милях: \" + str(convert(5)))"
   ]
  },
  {
   "cell_type": "code",
   "execution_count": 20,
   "metadata": {},
   "outputs": [],
   "source": [
    "def area(x , y):\n",
    "    return x * y"
   ]
  },
  {
   "cell_type": "code",
   "execution_count": 21,
   "metadata": {},
   "outputs": [
    {
     "name": "stdout",
     "output_type": "stream",
     "text": [
      "Площадь прямоугольника: 80\n"
     ]
    }
   ],
   "source": [
    "print(\"Площадь прямоугольника: \" + str(area(8,10)))"
   ]
  },
  {
   "cell_type": "code",
   "execution_count": 26,
   "metadata": {},
   "outputs": [],
   "source": [
    "def is_even(a):\n",
    "    if a % 2:\n",
    "        print(\"Число нечетное: \" + str(a))\n",
    "    else:\n",
    "        print(\"Число четное: \" + str(a))\n"
   ]
  },
  {
   "cell_type": "code",
   "execution_count": 27,
   "metadata": {},
   "outputs": [
    {
     "name": "stdout",
     "output_type": "stream",
     "text": [
      "Число нечетное: 5\n"
     ]
    }
   ],
   "source": [
    "is_even(5)"
   ]
  },
  {
   "cell_type": "code",
   "execution_count": null,
   "metadata": {},
   "outputs": [],
   "source": []
  }
 ],
 "metadata": {
  "kernelspec": {
   "display_name": "Python 3",
   "language": "python",
   "name": "python3"
  },
  "language_info": {
   "codemirror_mode": {
    "name": "ipython",
    "version": 3
   },
   "file_extension": ".py",
   "mimetype": "text/x-python",
   "name": "python",
   "nbconvert_exporter": "python",
   "pygments_lexer": "ipython3",
   "version": "3.8.5"
  }
 },
 "nbformat": 4,
 "nbformat_minor": 4
}
