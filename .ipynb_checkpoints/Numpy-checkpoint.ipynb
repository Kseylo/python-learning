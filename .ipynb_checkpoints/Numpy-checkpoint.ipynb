{
 "cells": [
  {
   "cell_type": "code",
   "execution_count": 2,
   "metadata": {},
   "outputs": [],
   "source": [
    "import numpy as np #импортирую библиотеку numpy"
   ]
  },
  {
   "cell_type": "code",
   "execution_count": null,
   "metadata": {},
   "outputs": [],
   "source": [
    "data = [1,2,3,4,5] #создаю обычной py лист"
   ]
  },
  {
   "cell_type": "code",
   "execution_count": null,
   "metadata": {},
   "outputs": [],
   "source": [
    "arr= np.array(data) #создаю из list массив numpy"
   ]
  },
  {
   "cell_type": "code",
   "execution_count": null,
   "metadata": {},
   "outputs": [],
   "source": [
    "print(arr) #вывожу на экран элементы из массива\n",
    "print(arr.shape) # вывожу количество элементов\n",
    "print(arr.dtype) #тип\n",
    "print(arr.ndim) #размерность - одномерный массив, поэтому 1"
   ]
  },
  {
   "cell_type": "code",
   "execution_count": null,
   "metadata": {},
   "outputs": [],
   "source": [
    "arr2 = np.array([1 ,2 ,3 ,4 ,5]) #можем создать и таким образом\n",
    "print(arr2)"
   ]
  },
  {
   "cell_type": "code",
   "execution_count": null,
   "metadata": {},
   "outputs": [],
   "source": [
    "arr3 = np.array([1 ,2 ,3 ,4, 5], dtype=np.float)\n",
    "print(arr3)\n",
    "print(arr3.dtype)\n",
    "print(len(arr3)) #можем посмотреть длину массива\n",
    "print(arr.size)"
   ]
  },
  {
   "cell_type": "code",
   "execution_count": null,
   "metadata": {},
   "outputs": [],
   "source": [
    "arr3 = arr3.astype(np.int64) # приводим все элементы float к типу int\n",
    "\n",
    "print(arr3)\n",
    "print(arr3.dtype)"
   ]
  },
  {
   "cell_type": "code",
   "execution_count": null,
   "metadata": {},
   "outputs": [],
   "source": [
    "arr4 = np.arange(0, 20, 1.5) #генерирует лист от 0 до 20 с шагом в 1.5\n",
    "print(arr4)"
   ]
  },
  {
   "cell_type": "code",
   "execution_count": null,
   "metadata": {},
   "outputs": [],
   "source": [
    "arr5 = np.linspace(0, 2, 5) #числа 5 чисел от 0 до 2\n",
    "print(arr5) #Если не понимаешь, поиграйся с последним значением"
   ]
  },
  {
   "cell_type": "code",
   "execution_count": null,
   "metadata": {},
   "outputs": [],
   "source": [
    "random_arr = np.random.random((5,)) #генерируем список из 5 рандомных чисел\n",
    "random_arr\n"
   ]
  },
  {
   "cell_type": "code",
   "execution_count": null,
   "metadata": {},
   "outputs": [],
   "source": [
    "random_arr2 = np.random.random_sample((5,)) #работает таким же образом как и пример выше\n",
    "random_arr2"
   ]
  },
  {
   "cell_type": "code",
   "execution_count": null,
   "metadata": {},
   "outputs": [],
   "source": [
    "random_arr3 = (10 - 5) * np.random.random_sample((5,)) - 5 #генерация 5 рандомных чисел в диапазоне от 10 до -5\n",
    "random_arr3"
   ]
  },
  {
   "cell_type": "code",
   "execution_count": null,
   "metadata": {},
   "outputs": [],
   "source": [
    "arr = np.array([1, 2, 3, 4, 5])\n",
    "\n",
    "arr = np.sqrt(arr) #sqrt преобразует числа из массива в квадратные из этих чисел\n",
    "print(arr)\n",
    "\n",
    "arr = np.sin(arr) #sin - синус\n",
    "print(arr)\n",
    "\n",
    "arr = np.cos(arr) #cos - косинус\n",
    "print(arr)\n",
    "\n",
    "arr = np.log(arr) #log - логарифм\n",
    "print(arr)\n",
    "\n",
    "arr = np.exp(arr) #exp - экспонента\n",
    "print(arr)"
   ]
  },
  {
   "cell_type": "code",
   "execution_count": null,
   "metadata": {},
   "outputs": [],
   "source": [
    "a = np.array([1, 2, 3, 4, 5])\n",
    "b = np.array([6, 7, 8, 9, 10])\n",
    "\n",
    "print(a)\n",
    "print(b)"
   ]
  },
  {
   "cell_type": "code",
   "execution_count": null,
   "metadata": {},
   "outputs": [],
   "source": [
    "c = np.add(a,b) # c = a + b\n",
    "print(c)"
   ]
  },
  {
   "cell_type": "code",
   "execution_count": null,
   "metadata": {},
   "outputs": [],
   "source": [
    "a * b #np.multiply(a,b)"
   ]
  },
  {
   "cell_type": "code",
   "execution_count": null,
   "metadata": {},
   "outputs": [],
   "source": [
    "a - b #np.subtract"
   ]
  },
  {
   "cell_type": "code",
   "execution_count": null,
   "metadata": {},
   "outputs": [],
   "source": [
    "a / b #np.divide"
   ]
  },
  {
   "cell_type": "code",
   "execution_count": null,
   "metadata": {},
   "outputs": [],
   "source": [
    "arr = np.array([1, 2, 3, 4, 5])\n",
    "arr = arr * 2 #все элементы умножить на 2\n",
    "print(arr)\n",
    "arr = arr ** 2 #все элементы возводим в квадрат\n",
    "print(arr)"
   ]
  },
  {
   "cell_type": "code",
   "execution_count": 3,
   "metadata": {},
   "outputs": [
    {
     "data": {
      "text/plain": [
       "array([ 5, -5, -5,  1,  9,  2,  2, -1,  1, -4])"
      ]
     },
     "execution_count": 3,
     "metadata": {},
     "output_type": "execute_result"
    }
   ],
   "source": [
    "arr = np.random.randint(-5, 10, 10) # рандомные числа от - 5 до 10 в количестве 10\n",
    "arr"
   ]
  },
  {
   "cell_type": "code",
   "execution_count": 4,
   "metadata": {},
   "outputs": [
    {
     "name": "stdout",
     "output_type": "stream",
     "text": [
      "9\n",
      "-5\n",
      "0.5\n",
      "5\n",
      "4.2485291572496005\n",
      "1.0\n"
     ]
    }
   ],
   "source": [
    "print(arr.max()) #поиск самого большого элемента в списке\n",
    "print(arr.min()) #самого минимума\n",
    "print(arr.mean()) #среднего\n",
    "print(arr.sum()) #сумма\n",
    "print(arr.std()) #стандартное отклонение\n",
    "print(np.median(arr)) #медиана"
   ]
  },
  {
   "cell_type": "code",
   "execution_count": 7,
   "metadata": {},
   "outputs": [
    {
     "data": {
      "text/plain": [
       "array([False,  True,  True,  True, False, False, False,  True,  True,\n",
       "        True])"
      ]
     },
     "execution_count": 7,
     "metadata": {},
     "output_type": "execute_result"
    }
   ],
   "source": [
    "arr < 2 #массив меньше 2, проверяем каждый элемент массиван на соответствие условия"
   ]
  },
  {
   "cell_type": "code",
   "execution_count": 8,
   "metadata": {},
   "outputs": [
    {
     "data": {
      "text/plain": [
       "array([  5,  -5, -20,  -5,   1,   9,   2,   2,  -1,   1,  -4])"
      ]
     },
     "execution_count": 8,
     "metadata": {},
     "output_type": "execute_result"
    }
   ],
   "source": [
    "np.insert(arr,2, -20)# вставляем элемент 20 в позицию 2(индекс в массиве)"
   ]
  },
  {
   "cell_type": "code",
   "execution_count": 9,
   "metadata": {},
   "outputs": [
    {
     "data": {
      "text/plain": [
       "array([ 5, -5,  1,  9,  2,  2, -1,  1, -4])"
      ]
     },
     "execution_count": 9,
     "metadata": {},
     "output_type": "execute_result"
    }
   ],
   "source": [
    "np.delete(arr, 2) #удаляем элемент во 2 позиции"
   ]
  },
  {
   "cell_type": "code",
   "execution_count": 11,
   "metadata": {},
   "outputs": [
    {
     "data": {
      "text/plain": [
       "array([-5, -5, -4, -1,  1,  1,  2,  2,  5,  9])"
      ]
     },
     "execution_count": 11,
     "metadata": {},
     "output_type": "execute_result"
    }
   ],
   "source": [
    "np.sort(arr) #сортировка "
   ]
  },
  {
   "cell_type": "code",
   "execution_count": 12,
   "metadata": {},
   "outputs": [
    {
     "data": {
      "text/plain": [
       "array([ 5, -5, -5,  1,  9,  2,  2, -1,  1, -4,  0,  0,  0])"
      ]
     },
     "execution_count": 12,
     "metadata": {},
     "output_type": "execute_result"
    }
   ],
   "source": [
    "arr2 = np.array([0,0,0])\n",
    "arr = np.concatenate((arr, arr2)) #склеивает 2 списка вместе\n",
    "arr"
   ]
  },
  {
   "cell_type": "code",
   "execution_count": 13,
   "metadata": {},
   "outputs": [
    {
     "data": {
      "text/plain": [
       "[array([ 5, -5, -5,  1,  9]), array([ 2,  2, -1,  1]), array([-4,  0,  0,  0])]"
      ]
     },
     "execution_count": 13,
     "metadata": {},
     "output_type": "execute_result"
    }
   ],
   "source": [
    "np.array_split(arr, 3)# делим наш список на 3 списка  #hsplit, vsplit "
   ]
  },
  {
   "cell_type": "code",
   "execution_count": 15,
   "metadata": {},
   "outputs": [
    {
     "name": "stdout",
     "output_type": "stream",
     "text": [
      "3\n",
      "[ 0 -2]\n",
      "[ 5 -4  3 -2  0]\n",
      "[ 0 -2 -4]\n",
      "[]\n",
      "[-2 -4  5]\n",
      "[0 0 0 0 5]\n"
     ]
    }
   ],
   "source": [
    "arr = np.array([1,-2,3,-4,5])\n",
    "arr[0] = 0 #обнуляем первый элемент\n",
    "print(arr[2]) #выводим 2 элемент(индекс)\n",
    "print(arr[0:2]) #срез, смотрим элемент от 0 до 2(по индексу)\n",
    "print(arr[::-1]) #переворачиваем массив в обратном порядке\n",
    "print(arr[arr < 2]) # выбираем элементы из списка которые меньше 2\n",
    "print(arr[(arr < 2) & (arr > 0)]) #меньше двух и больше нуля\n",
    "print(arr[(arr > 4) | (arr < 0)]) #больше четырех ИЛИ меньше нуля\n",
    "arr[1:4] = 0 #обнуляем все элементы с 1 по 4 \n",
    "print(arr)"
   ]
  },
  {
   "cell_type": "code",
   "execution_count": 17,
   "metadata": {},
   "outputs": [
    {
     "data": {
      "text/plain": [
       "array([[1., 2., 3.],\n",
       "       [4., 5., 6.]])"
      ]
     },
     "execution_count": 17,
     "metadata": {},
     "output_type": "execute_result"
    }
   ],
   "source": [
    "matrix = np.array([(1,2,3),(4,5,6)],dtype = np.float64)\n",
    "matrix"
   ]
  },
  {
   "cell_type": "code",
   "execution_count": 18,
   "metadata": {},
   "outputs": [
    {
     "data": {
      "text/plain": [
       "array([[1, 2, 3],\n",
       "       [4, 5, 6],\n",
       "       [7, 8, 9]])"
      ]
     },
     "execution_count": 18,
     "metadata": {},
     "output_type": "execute_result"
    }
   ],
   "source": [
    "matrix = np.array([(1,2,3),(4,5,6),(7,8,9)])\n",
    "matrix"
   ]
  },
  {
   "cell_type": "code",
   "execution_count": 19,
   "metadata": {},
   "outputs": [
    {
     "data": {
      "text/plain": [
       "array([[1, 2],\n",
       "       [3, 4],\n",
       "       [5, 6],\n",
       "       [7, 8]])"
      ]
     },
     "execution_count": 19,
     "metadata": {},
     "output_type": "execute_result"
    }
   ],
   "source": [
    "a_3d_array = np.array([[1, 2],[3,4],[5,6],[7,8]]) #трехмерный массив\n",
    "a_3d_array"
   ]
  },
  {
   "cell_type": "code",
   "execution_count": 21,
   "metadata": {},
   "outputs": [
    {
     "ename": "SyntaxError",
     "evalue": "invalid syntax (<ipython-input-21-23a56363fc6c>, line 2)",
     "output_type": "error",
     "traceback": [
      "\u001b[1;36m  File \u001b[1;32m\"<ipython-input-21-23a56363fc6c>\"\u001b[1;36m, line \u001b[1;32m2\u001b[0m\n\u001b[1;33m    matrix\u001b[0m\n\u001b[1;37m    ^\u001b[0m\n\u001b[1;31mSyntaxError\u001b[0m\u001b[1;31m:\u001b[0m invalid syntax\n"
     ]
    }
   ],
   "source": [
    "matrix = np.array([(1,2,3),(4,5,6),(7,8,9)]\n",
    "matrix"
   ]
  },
  {
   "cell_type": "code",
   "execution_count": null,
   "metadata": {},
   "outputs": [],
   "source": []
  }
 ],
 "metadata": {
  "kernelspec": {
   "display_name": "Python 3",
   "language": "python",
   "name": "python3"
  },
  "language_info": {
   "codemirror_mode": {
    "name": "ipython",
    "version": 3
   },
   "file_extension": ".py",
   "mimetype": "text/x-python",
   "name": "python",
   "nbconvert_exporter": "python",
   "pygments_lexer": "ipython3",
   "version": "3.8.5"
  }
 },
 "nbformat": 4,
 "nbformat_minor": 4
}
