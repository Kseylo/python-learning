{
 "cells": [
  {
   "cell_type": "markdown",
   "metadata": {},
   "source": [
    "File\r\n",
    "Объекты файлов являются главным интерфейсом к внешним файлам на компью­тере. Они могут применяться для чтения и записи текстовых заметок, аудиоклипов, документов Excel, сохраненных сообщений электронной почты и всего того, что вы в итоге сохранили на своем компьютере. Файлы относятся к основным типам, но они кое в чем своеобразны — специфический литеральный синтаксис для их создания от­сутствует, Взамен, чтобы создать объект файла, необходимо вызвать встроенную фун­кцию open, передав ей в виде строк имя внешнего файла и необязательный режим обработки."
   ]
  },
  {
   "cell_type": "code",
   "execution_count": 5,
   "metadata": {},
   "outputs": [],
   "source": [
    "f = open('data.txt', 'w') #создать новый файл в режими записи ('w')\r\n",
    "f.write('Hello\\n') #записать в него строки символов\r\n",
    "f.write('world\\n') \r\n",
    "f.close() # закрыть для сбрасывания буферов вывода на диск"
   ]
  },
  {
   "cell_type": "code",
   "execution_count": 10,
   "metadata": {},
   "outputs": [
    {
     "name": "stdout",
     "output_type": "stream",
     "text": [
      "Hello\n",
      "world\n",
      "\n"
     ]
    },
    {
     "data": {
      "text/plain": "['Hello', 'world']"
     },
     "execution_count": 10,
     "metadata": {},
     "output_type": "execute_result"
    }
   ],
   "source": [
    "f = open('data.txt') #'r'(чтение) - стандартный режим обработки по умолчанию\r\n",
    "text = f.read()# прочитать все содержимое файла в строку #'Hello\\nworld\\n'\r\n",
    "text\r\n",
    "print(text) #print интерпретирует управляющие символы \\n и делает перенос строки\r\n",
    "text.split() #содержимое файла - всегда строка"
   ]
  },
  {
   "cell_type": "code",
   "execution_count": 15,
   "metadata": {},
   "outputs": [
    {
     "name": "stdout",
     "output_type": "stream",
     "text": [
      "Hello\n",
      "\n",
      "world\n",
      "\n"
     ]
    }
   ],
   "source": [
    "for line in open('data.txt'): print(line)\r\n",
    "#dir(f)\r\n",
    "#help(f.buffer)"
   ]
  },
  {
   "cell_type": "code",
   "execution_count": 21,
   "metadata": {},
   "outputs": [],
   "source": [
    "import struct\r\n",
    "packed = struct.pack('<i4sh',7,b'spam',8) #создать упакованные двоичные данные\r\n",
    "packed\r\n",
    "file = open('data.bin', 'wb') # открыть двоичный файл для записи\r\n",
    "file.write(packed) #запсать упакованные двоичные данные\r\n",
    "file.close()"
   ]
  },
  {
   "cell_type": "code",
   "execution_count": 31,
   "metadata": {},
   "outputs": [
    {
     "name": "stdout",
     "output_type": "stream",
     "text": [
      "b'\\x07\\x00\\x00\\x00spam\\x08\\x00'\n",
      "b'spam'\n"
     ]
    },
    {
     "data": {
      "text/plain": "(117440512, b'spam', 2048)"
     },
     "execution_count": 31,
     "metadata": {},
     "output_type": "execute_result"
    }
   ],
   "source": [
    "data = open('data.bin','rb').read() #открыть/прочитать двоичный файл данных\r\n",
    "print(data) #10 байтов, неизменные\r\n",
    "print(data[4:8]) #нарезать байты в середине\r\n",
    "list(data) #последовательность 8-битных байтов\r\n",
    "struct.unpack('>i4sh',data) #снова распаковать в объекты\r\n"
   ]
  },
  {
   "cell_type": "code",
   "execution_count": 2,
   "metadata": {},
   "outputs": [
    {
     "name": "stdout",
     "output_type": "stream",
     "text": [
      "spÄm\n",
      "Ä\n",
      "spÄm\n",
      "4\n"
     ]
    }
   ],
   "source": [
    "S = 'sp\\xc4m' # текст unicode, отличающийся от ASCII\r\n",
    "print(S)\r\n",
    "print(S[2]) #последовательность символов\r\n",
    "file = open('unidata.txt','w',encoding = 'utf-8') #записать/ закодировать текст в UTF-8\r\n",
    "file.write(S) #записано 4 символа\r\n",
    "file.close()\r\n",
    "text = open('unidata.txt',encoding='utf-8').read() #прочитать/декодировать текст в utf-8\r\n",
    "print(text)\r\n",
    "print(len(text))"
   ]
  },
  {
   "cell_type": "code",
   "execution_count": 5,
   "metadata": {},
   "outputs": [
    {
     "name": "stdout",
     "output_type": "stream",
     "text": [
      "b'sp\\xc3\\x84m'\n",
      "5\n"
     ]
    }
   ],
   "source": [
    "raw = open('unidata.txt','rb').read() #читать закодированные байты\r\n",
    "print(raw)\r\n",
    "print(len(raw)) #5 байтов в кодировке utf-8"
   ]
  },
  {
   "cell_type": "code",
   "execution_count": 13,
   "metadata": {},
   "outputs": [
    {
     "name": "stdout",
     "output_type": "stream",
     "text": [
      "b'sp\\xc4m'\n",
      "b'\\xff\\xfes\\x00p\\x00\\xc4\\x00m\\x00'\n",
      "4\n",
      "10\n",
      "spÄm\n",
      "spÄm\n"
     ]
    }
   ],
   "source": [
    "text.encode('utf-8') #вручную кодировать в байты\r\n",
    "text.encode('utf-16') #вручную декодировать в строку\r\n",
    "print(text.encode('latin-1')) #байты отличаются от других\r\n",
    "print(text.encode('utf-16'))\r\n",
    "print(len(text.encode('latin-1')))\r\n",
    "print(len(text.encode('utf-16')))\r\n",
    "print(b'\\xff\\xfes\\x00p\\x00\\xc4\\x00m\\x00'.decode('utf-16')) #но декодируются в ту же самую строку\r\n",
    "print(b'sp\\xc4m'.decode('latin-1'))"
   ]
  },
  {
   "cell_type": "code",
   "execution_count": null,
   "metadata": {},
   "outputs": [],
   "source": []
  }
 ],
 "metadata": {
  "kernelspec": {
   "display_name": "Python 3",
   "language": "python",
   "name": "python3"
  },
  "language_info": {
   "codemirror_mode": {
    "name": "ipython",
    "version": 3
   },
   "file_extension": ".py",
   "mimetype": "text/x-python",
   "name": "python",
   "nbconvert_exporter": "python",
   "pygments_lexer": "ipython3",
   "version": "3.8.5"
  },
  "orig_nbformat": 2
 },
 "nbformat": 4,
 "nbformat_minor": 2
}