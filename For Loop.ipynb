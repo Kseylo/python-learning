{
 "cells": [
  {
   "cell_type": "code",
   "execution_count": 2,
   "metadata": {},
   "outputs": [
    {
     "name": "stdout",
     "output_type": "stream",
     "text": [
      "Hey\n",
      "Hello\n",
      "Goodbye\n"
     ]
    }
   ],
   "source": [
    "a = [\"Hey\",\"Hello\",\"Goodbye\"]\n",
    "print(a[0])\n",
    "print(a[1])\n",
    "print(a[2])"
   ]
  },
  {
   "cell_type": "code",
   "execution_count": 3,
   "metadata": {},
   "outputs": [
    {
     "name": "stdout",
     "output_type": "stream",
     "text": [
      "Hey\n",
      "Hello\n",
      "Goodbye\n"
     ]
    }
   ],
   "source": [
    "for element in a: #Для каждого элемента в списке а\n",
    "    print(element) #печатаем каждый элемент\n",
    "    #Каждый проход списка элемент равен какому-то индексу в списке"
   ]
  },
  {
   "cell_type": "code",
   "execution_count": 6,
   "metadata": {},
   "outputs": [
    {
     "name": "stdout",
     "output_type": "stream",
     "text": [
      "20\n",
      "20\n",
      "30\n",
      "30\n",
      "50\n",
      "50\n",
      "60\n",
      "60\n"
     ]
    }
   ],
   "source": [
    "b = [20,30,50,60]\n",
    "for num in b: #можно называть как угодно\n",
    "    print(num)\n",
    "    print(num)#каждую итерацию цикла num равен какому-то значению из списка , поэтому выводится дважды\n",
    "    "
   ]
  },
  {
   "cell_type": "code",
   "execution_count": 5,
   "metadata": {},
   "outputs": [
    {
     "name": "stdout",
     "output_type": "stream",
     "text": [
      "[20, 30, 50, 60]\n",
      "[20, 30, 50, 60]\n",
      "[20, 30, 50, 60]\n",
      "[20, 30, 50, 60]\n"
     ]
    }
   ],
   "source": [
    "for num in b:\n",
    "    print(b) #выводим каждый раз весь список по количеству элементов в списке "
   ]
  },
  {
   "cell_type": "code",
   "execution_count": 7,
   "metadata": {},
   "outputs": [
    {
     "name": "stdout",
     "output_type": "stream",
     "text": [
      "20\n",
      "50\n",
      "100\n",
      "160\n",
      "160\n"
     ]
    }
   ],
   "source": [
    "total_sum = 0\n",
    "for e in b:\n",
    "    total_sum = total_sum + e #первую итерацию цикла мы делаем 0 + 20,потом 20 + 30 и так далее\n",
    "    print(total_sum) #наглядно выводим каждую итерацию цилка\n",
    "print(total_sum)#выводим финальный результат"
   ]
  },
  {
   "cell_type": "code",
   "execution_count": 8,
   "metadata": {},
   "outputs": [
    {
     "data": {
      "text/plain": [
       "range(1, 5)"
      ]
     },
     "execution_count": 8,
     "metadata": {},
     "output_type": "execute_result"
    }
   ],
   "source": [
    "range(1,5) #задаем числа от одного до 5, последнее число не включительно"
   ]
  },
  {
   "cell_type": "code",
   "execution_count": 10,
   "metadata": {},
   "outputs": [
    {
     "name": "stdout",
     "output_type": "stream",
     "text": [
      "[1, 2, 3, 4]\n"
     ]
    }
   ],
   "source": [
    "print(list(range(1,5))) #оборачиваем в лист, выводятся числа из диапазона"
   ]
  },
  {
   "cell_type": "code",
   "execution_count": 11,
   "metadata": {},
   "outputs": [
    {
     "name": "stdout",
     "output_type": "stream",
     "text": [
      "1\n",
      "2\n",
      "3\n",
      "4\n"
     ]
    }
   ],
   "source": [
    "for i in range(1,5):\n",
    "    print(i) #выводим числа от 1 до 5"
   ]
  },
  {
   "cell_type": "code",
   "execution_count": 13,
   "metadata": {},
   "outputs": [
    {
     "name": "stdout",
     "output_type": "stream",
     "text": [
      "20\n"
     ]
    }
   ],
   "source": [
    "total_sum2 = 0\n",
    "for i in range(1, 5):\n",
    "    total_sum2 = total_sum2 + i\n",
    "    # total_sum2 += i #идентична записи сверху\n",
    "    \n",
    "print(total_sum2)"
   ]
  },
  {
   "cell_type": "code",
   "execution_count": 14,
   "metadata": {},
   "outputs": [
    {
     "name": "stdout",
     "output_type": "stream",
     "text": [
      "[1, 2, 3, 4, 5, 6, 7, 8, 9, 10, 11, 12, 13, 14, 15, 16, 17, 18, 19, 20, 21, 22, 23, 24, 25, 26, 27, 28, 29, 30, 31, 32, 33, 34, 35, 36, 37, 38, 39, 40, 41, 42, 43, 44, 45, 46, 47, 48, 49, 50, 51, 52, 53, 54, 55, 56, 57, 58, 59, 60, 61, 62, 63, 64, 65, 66, 67, 68, 69, 70, 71, 72, 73, 74, 75, 76, 77, 78, 79, 80, 81, 82, 83, 84, 85, 86, 87, 88, 89, 90, 91, 92, 93, 94, 95, 96, 97, 98, 99]\n"
     ]
    }
   ],
   "source": [
    "print(list(range(1, 100)))"
   ]
  },
  {
   "cell_type": "code",
   "execution_count": 16,
   "metadata": {},
   "outputs": [
    {
     "name": "stdout",
     "output_type": "stream",
     "text": [
      "1683\n"
     ]
    }
   ],
   "source": [
    "total_sum3 = 0 #переменная буфер\n",
    "for i in range(1, 100): #создаем цикл форм от одного до ста\n",
    "    if i % 3 == 0: #если число делится без остатка на 3, то\n",
    "        total_sum3 += i #прибавляем его сюда \n",
    "print(total_sum3) #выводим сумму всех чисел которые делятся без остатка на 3 в диапазоне от 1 до 100"
   ]
  },
  {
   "cell_type": "code",
   "execution_count": 17,
   "metadata": {},
   "outputs": [
    {
     "name": "stdout",
     "output_type": "stream",
     "text": [
      "2318\n"
     ]
    }
   ],
   "source": [
    "total_sum3 = 0 \n",
    "for i in range(1, 100): \n",
    "    if i % 3 == 0 or i % 5 == 0: #если число делится без остатка на 3,либо число делится на 5, то мы получаем true и плюсуем это число к сумме \n",
    "        total_sum3 += i #тоже самое что и сверху, но мы добавили оператор or\n",
    "print(total_sum3) #сумма изменилась потому что добавились числа которые делятся на 5"
   ]
  },
  {
   "cell_type": "code",
   "execution_count": 62,
   "metadata": {},
   "outputs": [],
   "source": [
    "def function(n, k):\n",
    "    total_sum = 0\n",
    "    if n > 20:\n",
    "        return 0\n",
    "    else:\n",
    "        for i in range(1,n):\n",
    "            if i % 2 == 0:\n",
    "                total_sum = total_sum + i ** k\n",
    "                print(total_sum)\n",
    "                \n",
    " # в диапазоне чисел от 1 до n, если n > 20, то возвращаем 0,\n",
    "# иначе каждое четное число возводим в степень\n",
    "                #надо переделать\n",
    "            \n",
    "            \n",
    "                \n",
    "             "
   ]
  },
  {
   "cell_type": "code",
   "execution_count": 64,
   "metadata": {},
   "outputs": [
    {
     "name": "stdout",
     "output_type": "stream",
     "text": [
      "4\n",
      "20\n",
      "56\n",
      "120\n",
      "220\n",
      "364\n",
      "560\n",
      "None\n"
     ]
    }
   ],
   "source": [
    "a = function(15, 2)\n",
    "print(a)"
   ]
  },
  {
   "cell_type": "code",
   "execution_count": null,
   "metadata": {},
   "outputs": [],
   "source": []
  },
  {
   "cell_type": "code",
   "execution_count": null,
   "metadata": {},
   "outputs": [],
   "source": []
  },
  {
   "cell_type": "code",
   "execution_count": null,
   "metadata": {},
   "outputs": [],
   "source": []
  }
 ],
 "metadata": {
  "kernelspec": {
   "display_name": "Python 3",
   "language": "python",
   "name": "python3"
  },
  "language_info": {
   "codemirror_mode": {
    "name": "ipython",
    "version": 3
   },
   "file_extension": ".py",
   "mimetype": "text/x-python",
   "name": "python",
   "nbconvert_exporter": "python",
   "pygments_lexer": "ipython3",
   "version": "3.8.5"
  }
 },
 "nbformat": 4,
 "nbformat_minor": 4
}
