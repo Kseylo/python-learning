{
 "cells": [
  {
   "cell_type": "code",
   "execution_count": null,
   "metadata": {},
   "outputs": [],
   "source": [
    "numbers = [0,1,2,3,4,5]"
   ]
  },
  {
   "cell_type": "code",
   "execution_count": null,
   "metadata": {},
   "outputs": [],
   "source": [
    "summ = 0\n",
    "for i in range(len(numbers)):\n",
    "    for j in range(i + 1):\n",
    "        summ += i\n",
    "        print(summ)"
   ]
  },
  {
   "cell_type": "code",
   "execution_count": null,
   "metadata": {},
   "outputs": [],
   "source": [
    "d = {\"Alex\": 25, \"Petr\": 37}\n",
    "#d = dict() тоже самое"
   ]
  },
  {
   "cell_type": "code",
   "execution_count": null,
   "metadata": {},
   "outputs": [],
   "source": [
    "print(d) #выводим на экран словарь\n",
    "len(d) # длина ключей в словаре"
   ]
  },
  {
   "cell_type": "code",
   "execution_count": null,
   "metadata": {},
   "outputs": [],
   "source": [
    "d[\"Kate\"] = 18 #добавить в словарь еще одну пару"
   ]
  },
  {
   "cell_type": "code",
   "execution_count": null,
   "metadata": {},
   "outputs": [],
   "source": [
    "print(d)"
   ]
  },
  {
   "cell_type": "code",
   "execution_count": null,
   "metadata": {},
   "outputs": [],
   "source": [
    "print(d[\"Petr\"]) #обращение по ключу и получаем значение"
   ]
  },
  {
   "cell_type": "code",
   "execution_count": null,
   "metadata": {},
   "outputs": [],
   "source": [
    "d[\"Petr\"] = 24 #изменили значение у ключа\n",
    "print(d[\"Petr\"])"
   ]
  },
  {
   "cell_type": "code",
   "execution_count": null,
   "metadata": {},
   "outputs": [],
   "source": [
    "d[10] = 20 #можем смещать и добавить численный тип в словарь\n",
    "print(d)"
   ]
  },
  {
   "cell_type": "code",
   "execution_count": null,
   "metadata": {},
   "outputs": [],
   "source": [
    "for k, v in d.items(): #в k кладем ключ, в v значение. d.items возвращает все значения словаря\n",
    "    print(k)\n",
    "    print(v)"
   ]
  },
  {
   "cell_type": "code",
   "execution_count": null,
   "metadata": {},
   "outputs": [],
   "source": [
    "for key, value in d.items():\n",
    "    print(\"ключ: \" + str(key) + \" ,значение: \" + str(value))"
   ]
  },
  {
   "cell_type": "code",
   "execution_count": null,
   "metadata": {},
   "outputs": [],
   "source": [
    "a = [\"first\", 1, 2, 3, \"second\", 10, 20, \"Third\", 15 , 56 , 70, \"fourth\", -50]"
   ]
  },
  {
   "cell_type": "code",
   "execution_count": null,
   "metadata": {},
   "outputs": [],
   "source": [
    "my_dict = {} #создаем пустой список\n",
    "current_str = None #создаем временную перемену\n",
    "\n",
    "for e in a:\n",
    "    if(type(e) == str): #если тип элемента из списка равен String \n",
    "        my_dict[e] = [] #создаем пустое значение для ключа e\n",
    "        current_str = e #добавляет текущее значение во временную переменную\n",
    "    else:\n",
    "        my_dict[current_str].append(e) #к текущему ключу добавляем значения из списка\n",
    "        \n",
    "print(my_dict)"
   ]
  },
  {
   "cell_type": "code",
   "execution_count": null,
   "metadata": {},
   "outputs": [],
   "source": [
    "my_text = \"Привет пока как дела привет пока как дела арбзу бамбуз кукуруз стол как слон банан апельсин\""
   ]
  },
  {
   "cell_type": "code",
   "execution_count": null,
   "metadata": {},
   "outputs": [],
   "source": [
    "my_dict2 = {} #создаем пустой словарь\n",
    "for word in my_text.split(): #проходимся по списку и разделяем слова пробелами\n",
    "    if word in my_dict2: # если слово находится в словаре\n",
    "        my_dict2[word] = my_dict2[word] + 1 #если слово есть в словаре, мы обращаемся к этому слову и инкрементируем\n",
    "    else:\n",
    "        my_dict2[word] = 1 #иначе помещаем новое слово в словарь со значением 1\n",
    "\n",
    "print(my_dict2)"
   ]
  },
  {
   "cell_type": "code",
   "execution_count": null,
   "metadata": {},
   "outputs": [],
   "source": [
    "my_dict2 = {} #создаем пустой словарь\n",
    "for word in my_text.split(): #проходимся по списку разделяем слова пробелами\n",
    "    my_dict2[word] = my_dict2.get(word, 0) + 1\n",
    "    # print(my_dict2) раскоменьт чтобы понять\n",
    "    \n",
    "    #если слово нет в словаре, то возвращаем ключ плюс значение 0 + 1 = 1\n",
    "    #если слово уже есть, то возвращается n количество значений + 1\n",
    "    \n",
    "print(my_dict2)"
   ]
  },
  {
   "cell_type": "code",
   "execution_count": null,
   "metadata": {},
   "outputs": [],
   "source": [
    "d = {'food' : 'Spam', 'quantity' : 4,'color' : 'pink'}\n",
    "d['food'] #извлечь значение связанное с ключем"
   ]
  },
  {
   "cell_type": "code",
   "execution_count": null,
   "metadata": {},
   "outputs": [],
   "source": [
    "d['quantity'] += 1 #добавить +1 к значению связанному с quantity\n",
    "print(d)"
   ]
  },
  {
   "cell_type": "code",
   "execution_count": null,
   "metadata": {},
   "outputs": [],
   "source": [
    "d = {}\n",
    "d['name'] = 'Bob' #присваивание приводит к созданию ключей\n",
    "d['job'] = 'dev'\n",
    "d['age'] = 40\n",
    "print(d)\n",
    "print(d['name'])"
   ]
  },
  {
   "cell_type": "code",
   "execution_count": null,
   "metadata": {},
   "outputs": [],
   "source": [
    "bob1 = dict(name='bob',job='dev',age=40)\n",
    "bob1"
   ]
  },
  {
   "cell_type": "code",
   "execution_count": null,
   "metadata": {},
   "outputs": [],
   "source": [
    "bob2 = dict(zip(['name','job','age'],['bob','dev',40])) #связывание вместе\n",
    "bob2"
   ]
  },
  {
   "cell_type": "code",
   "execution_count": null,
   "metadata": {},
   "outputs": [],
   "source": [
    "rec = {'name': {'first': 'Bob','last': 'Smith'},\r\n",
    "        'jobs': ['dev','mgr'],\r\n",
    "        'age': 40.5}"
   ]
  },
  {
   "cell_type": "code",
   "execution_count": null,
   "metadata": {},
   "outputs": [],
   "source": [
    "print(rec['name']) # 'name' - вложенный словарь\r\n",
    "print(rec['name']['last']) # индексация во вложенном словаре\r\n",
    "print(rec['jobs']) # 'jobs' - вложенный список\r\n",
    "print(rec['jobs'][-1]) #индексация во вложеном списке\r\n",
    "rec['jobs'].append('janitor') #расширение списка названия должностей на месте\r\n",
    "print(rec) #вывод всего словаря\r\n",
    "rec = 0 #область памяти очищена, но в python это делает автоматически сборщиком мусора\r\n",
    "print(rec)"
   ]
  },
  {
   "cell_type": "code",
   "execution_count": 31,
   "metadata": {},
   "outputs": [
    {
     "name": "stdout",
     "output_type": "stream",
     "text": [
      "{'a': 1, 'b': 2, 'c': 3}\n",
      "{'a': 1, 'b': 2, 'c': 3, 'e': 99}\n",
      "missing\n",
      "no , really...\n",
      "0\n",
      "0\n"
     ]
    },
    {
     "data": {
      "text/plain": "['a', 'b', 'c', 'e']"
     },
     "execution_count": 31,
     "metadata": {},
     "output_type": "execute_result"
    }
   ],
   "source": [
    "d = {'a': 1,'b': 2,'c': 3}\r\n",
    "print(d)\r\n",
    "d['e'] = 99 #присваивание новому ключу увеличивает словарь\r\n",
    "print(d)\r\n",
    "# d['f'] #ссылка на несуществующий ключ приводит к ошибке\r\n",
    "'f' in d#выражение проверки членства в словаре in\r\n",
    "if not 'f' in d: #единственный оператор выбора в Python. Если 'f' нету в словаре, то выполняет команда из блока ниже\r\n",
    "    print('missing')\r\n",
    "    print('no , really...') #блоки операторов вводятся с отступом\r\n",
    "\r\n",
    "value = d.get('x',0) #индекс со стандартным вариантом, если поставить вместо 'x', 'c', например, то вернется значение 3\r\n",
    "print(value)\r\n",
    "value = d['x'] if 'x' in d else 0 #форма выражения if/else\r\n",
    "print(value)"
   ]
  },
  {
   "cell_type": "code",
   "execution_count": 57,
   "metadata": {},
   "outputs": [
    {
     "name": "stdout",
     "output_type": "stream",
     "text": [
      "['a', 'b', 'c']\n",
      "['a', 'b', 'c']\n",
      "a => 1\n",
      "b => 2\n",
      "c => 3\n"
     ]
    }
   ],
   "source": [
    "D = {'a':1,'b':2,'c':3} #словари не подследовательности, они не поддерживают сколько-нибудь надежный порядок слева направо\r\n",
    "Ks = list(D) \r\n",
    "print(Ks) #должен выводиться неупорядоченный список, но у меня почему-то выводится упорядоченный изначально, без сортировки\r\n",
    "Ks.sort() #Отсортированный список ключей\r\n",
    "print(Ks)\r\n",
    "for key in Ks: #проход по отсортированным ключам\r\n",
    "    print(key,'=>', D[key]) "
   ]
  },
  {
   "cell_type": "code",
   "execution_count": 59,
   "metadata": {},
   "outputs": [
    {
     "name": "stdout",
     "output_type": "stream",
     "text": [
      "a => 1\n",
      "b => 2\n",
      "c => 3\n"
     ]
    }
   ],
   "source": [
    "D\r\n",
    "for key in sorted(D): #вызов sorted возвращает результат и сортирует объеты разнообразных типов\r\n",
    "    print(key, '=>', D[key])"
   ]
  },
  {
   "cell_type": "code",
   "execution_count": null,
   "metadata": {},
   "outputs": [],
   "source": []
  }
 ],
 "metadata": {
  "kernelspec": {
   "display_name": "Python 3",
   "language": "python",
   "name": "python3"
  },
  "language_info": {
   "codemirror_mode": {
    "name": "ipython",
    "version": 3
   },
   "file_extension": ".py",
   "mimetype": "text/x-python",
   "name": "python",
   "nbconvert_exporter": "python",
   "pygments_lexer": "ipython3",
   "version": "3.8.5"
  }
 },
 "nbformat": 4,
 "nbformat_minor": 4
}