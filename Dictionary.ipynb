{
 "cells": [
  {
   "cell_type": "code",
   "execution_count": null,
   "metadata": {},
   "outputs": [],
   "source": [
    "numbers = [0,1,2,3,4,5]"
   ]
  },
  {
   "cell_type": "code",
   "execution_count": null,
   "metadata": {},
   "outputs": [],
   "source": [
    "summ = 0\n",
    "for i in range(len(numbers)):\n",
    "    for j in range(i + 1):\n",
    "        summ += i\n",
    "        print(summ)"
   ]
  },
  {
   "cell_type": "code",
   "execution_count": null,
   "metadata": {},
   "outputs": [],
   "source": [
    "d = {\"Alex\": 25, \"Petr\": 37}\n",
    "#d = dict() тоже самое"
   ]
  },
  {
   "cell_type": "code",
   "execution_count": null,
   "metadata": {},
   "outputs": [],
   "source": [
    "print(d) #выводим на экран словарь\n",
    "len(d) # длина ключей в словаре"
   ]
  },
  {
   "cell_type": "code",
   "execution_count": null,
   "metadata": {},
   "outputs": [],
   "source": [
    "d[\"Kate\"] = 18 #добавить в словарь еще одну пару"
   ]
  },
  {
   "cell_type": "code",
   "execution_count": null,
   "metadata": {},
   "outputs": [],
   "source": [
    "print(d)"
   ]
  },
  {
   "cell_type": "code",
   "execution_count": null,
   "metadata": {},
   "outputs": [],
   "source": [
    "print(d[\"Petr\"]) #обращение по ключу и получаем значение"
   ]
  },
  {
   "cell_type": "code",
   "execution_count": null,
   "metadata": {},
   "outputs": [],
   "source": [
    "d[\"Petr\"] = 24 #изменили значение у ключа\n",
    "print(d[\"Petr\"])"
   ]
  },
  {
   "cell_type": "code",
   "execution_count": null,
   "metadata": {},
   "outputs": [],
   "source": [
    "d[10] = 20 #можем смещать и добавить численный тип в словарь\n",
    "print(d)"
   ]
  },
  {
   "cell_type": "code",
   "execution_count": null,
   "metadata": {},
   "outputs": [],
   "source": [
    "for k, v in d.items(): #в k кладем ключ, в v значение. d.items возвращает все значения словаря\n",
    "    print(k)\n",
    "    print(v)"
   ]
  },
  {
   "cell_type": "code",
   "execution_count": null,
   "metadata": {},
   "outputs": [],
   "source": [
    "for key, value in d.items():\n",
    "    print(\"ключ: \" + str(key) + \" ,значение: \" + str(value))"
   ]
  },
  {
   "cell_type": "code",
   "execution_count": null,
   "metadata": {},
   "outputs": [],
   "source": [
    "a = [\"first\", 1, 2, 3, \"second\", 10, 20, \"Third\", 15 , 56 , 70, \"fourth\", -50]"
   ]
  },
  {
   "cell_type": "code",
   "execution_count": null,
   "metadata": {},
   "outputs": [],
   "source": [
    "my_dict = {} #создаем пустой список\n",
    "current_str = None #создаем временную перемену\n",
    "\n",
    "for e in a:\n",
    "    if(type(e) == str): #если тип элемента из списка равен String \n",
    "        my_dict[e] = [] #создаем пустое значение для ключа e\n",
    "        current_str = e #добавляет текущее значение во временную переменную\n",
    "    else:\n",
    "        my_dict[current_str].append(e) #к текущему ключу добавляем значения из списка\n",
    "        \n",
    "print(my_dict)"
   ]
  },
  {
   "cell_type": "code",
   "execution_count": null,
   "metadata": {},
   "outputs": [],
   "source": [
    "my_text = \"Привет пока как дела привет пока как дела арбзу бамбуз кукуруз стол как слон банан апельсин\""
   ]
  },
  {
   "cell_type": "code",
   "execution_count": null,
   "metadata": {},
   "outputs": [],
   "source": [
    "my_dict2 = {} #создаем пустой словарь\n",
    "for word in my_text.split(): #проходимся по списку и разделяем слова пробелами\n",
    "    if word in my_dict2: # если слово находится в словаре\n",
    "        my_dict2[word] = my_dict2[word] + 1 #если слово есть в словаре, мы обращаемся к этому слову и инкрементируем\n",
    "    else:\n",
    "        my_dict2[word] = 1 #иначе помещаем новое слово в словарь со значением 1\n",
    "\n",
    "print(my_dict2)"
   ]
  },
  {
   "cell_type": "code",
   "execution_count": null,
   "metadata": {},
   "outputs": [],
   "source": [
    "my_dict2 = {} #создаем пустой словарь\n",
    "for word in my_text.split(): #проходимся по списку разделяем слова пробелами\n",
    "    my_dict2[word] = my_dict2.get(word, 0) + 1\n",
    "    # print(my_dict2) раскоменьт чтобы понять\n",
    "    \n",
    "    #если слово нет в словаре, то возвращаем ключ плюс значение 0 + 1 = 1\n",
    "    #если слово уже есть, то возвращается n количество значений + 1\n",
    "    \n",
    "print(my_dict2)"
   ]
  },
  {
   "cell_type": "code",
   "execution_count": null,
   "metadata": {},
   "outputs": [],
   "source": [
    "d = {'food' : 'Spam', 'quantity' : 4,'color' : 'pink'}\n",
    "d['food'] #извлечь значение связанное с ключем"
   ]
  },
  {
   "cell_type": "code",
   "execution_count": null,
   "metadata": {},
   "outputs": [],
   "source": [
    "d['quantity'] += 1 #добавить +1 к значению связанному с quantity\n",
    "print(d)"
   ]
  },
  {
   "cell_type": "code",
   "execution_count": null,
   "metadata": {},
   "outputs": [],
   "source": [
    "d = {}\n",
    "d['name'] = 'Bob' #присваивание приводит к созданию ключей\n",
    "d['job'] = 'dev'\n",
    "d['age'] = 40\n",
    "print(d)\n",
    "print(d['name'])"
   ]
  },
  {
   "cell_type": "code",
   "execution_count": null,
   "metadata": {},
   "outputs": [],
   "source": [
    "bob1 = dict(name='bob',job='dev',age=40)\n",
    "bob1"
   ]
  },
  {
   "cell_type": "code",
   "execution_count": null,
   "metadata": {},
   "outputs": [],
   "source": [
    "bob2 = dict(zip(['name','job','age'],['bob','dev',40])) #связывание вместе\n",
    "bob2"
   ]
  },
  {
   "cell_type": "code",
   "execution_count": null,
   "metadata": {},
   "outputs": [],
   "source": [
    "rec = {'name': {'first': 'Bob','last': 'Smith'},\r\n",
    "        'jobs': ['dev','mgr'],\r\n",
    "        'age': 40.5}"
   ]
  },
  {
   "cell_type": "code",
   "execution_count": null,
   "metadata": {},
   "outputs": [],
   "source": [
    "print(rec['name']) # 'name' - вложенный словарь\r\n",
    "print(rec['name']['last']) # индексация во вложенном словаре\r\n",
    "print(rec['jobs']) # 'jobs' - вложенный список\r\n",
    "print(rec['jobs'][-1]) #индексация во вложеном списке\r\n",
    "rec['jobs'].append('janitor') #расширение списка названия должностей на месте\r\n",
    "print(rec) #вывод всего словаря\r\n",
    "rec = 0 #область памяти очищена, но в python это делает автоматически сборщиком мусора\r\n",
    "print(rec)"
   ]
  },
  {
   "cell_type": "code",
   "execution_count": null,
   "metadata": {},
   "outputs": [],
   "source": [
    "d = {'a': 1,'b': 2,'c': 3}\r\n",
    "print(d)\r\n",
    "d['e'] = 99 #присваивание новому ключу увеличивает словарь\r\n",
    "print(d)\r\n",
    "# d['f'] #ссылка на несуществующий ключ приводит к ошибке\r\n",
    "'f' in d#выражение проверки членства в словаре in\r\n",
    "if not 'f' in d: #единственный оператор выбора в Python. Если 'f' нету в словаре, то выполняет команда из блока ниже\r\n",
    "    print('missing')\r\n",
    "    print('no , really...') #блоки операторов вводятся с отступом\r\n",
    "\r\n",
    "value = d.get('x',0) #индекс со стандартным вариантом, если поставить вместо 'x', 'c', например, то вернется значение 3\r\n",
    "print(value)\r\n",
    "value = d['x'] if 'x' in d else 0 #форма выражения if/else\r\n",
    "print(value)"
   ]
  },
  {
   "cell_type": "code",
   "execution_count": null,
   "metadata": {},
   "outputs": [],
   "source": [
    "D = {'a':1,'b':2,'c':3} #словари не подследовательности, они не поддерживают сколько-нибудь надежный порядок слева направо\r\n",
    "Ks = list(D) \r\n",
    "print(Ks) #должен выводиться неупорядоченный список, но у меня почему-то выводится упорядоченный изначально, без сортировки\r\n",
    "Ks.sort() #Отсортированный список ключей\r\n",
    "print(Ks)\r\n",
    "for key in Ks: #проход по отсортированным ключам\r\n",
    "    print(key,'=>', D[key]) "
   ]
  },
  {
   "cell_type": "code",
   "execution_count": null,
   "metadata": {},
   "outputs": [],
   "source": [
    "D\r\n",
    "for key in sorted(D): #вызов sorted возвращает результат и сортирует объеты разнообразных типов\r\n",
    "    print(key, '=>', D[key])"
   ]
  },
  {
   "cell_type": "code",
   "execution_count": null,
   "metadata": {},
   "outputs": [],
   "source": [
    "D = {} #пустой словарь\n",
    "D = {'name': 'Bob', 'age': 40} #двухэлементный словарь\n",
    "E = {'cto': {'name': 'Bob', 'age': 40}} #вложенный словарь\n",
    "D = dict(name='Bob',age = 40) #альтернативные методики создания: ключевые слова, пары \"ключ/значение\",упакованные пары \"ключ/значение\", списки ключей\n",
    "D = dict([('name','Bob'),('age',40)])\n",
    "#D = dict(zip(keyslist, valueslist))\n",
    "D = dict.fromkeys(['name','age'])\n",
    "D['name'] # индексированите по ключу\n",
    "print(E['cto']['age']) #индексированию по вложенному словарю\n",
    "'age' in D #членство: проверка присутствия ключа\n",
    "D.keys() #Методы: все ключи\n",
    "D.values() #все значения\n",
    "D.items() #все кортежи ключ+значение\n",
    "D.copy() #копирование(верхнего уровня)\n",
    "D.clear() #очистка(удаление всех элементов)\n",
    "D.update(D) #объединение по ключам,\n",
    "#D.get(key,default?) извлечение по ключу;если отсутствует, тогда возвратить стандартное значение(или None)\n",
    "#D.pop(key,default?) удаление по ключу; если отсуствует, тогда возвратить стандартное значение(или ошибку)\n",
    "#D.setdefault(key,default?) установка по ключу; если отсутствует, тогда установить в стандартное значение(или None)\n",
    "#D.popitem удаление/ возвращение любой пары(ключ, значение) и т.д.\n",
    "len(D) #Длина: количество сохраненных элементов\n",
    "# D[key] = 42 #добавление ключей, изменение значений, связанных с ключами\n",
    "# del D[key] удаление элементов по ключу\n",
    "list(D.keys()) #словарные представления\n",
    "#D1.keys() & D2.keys()\n",
    "#D.viewkeys(),D.viewvalues() словарные представления python 2.7\n",
    "D = {x: x*2 for x in range(10)} #включение словаря"
   ]
  },
  {
   "source": [
    "# Базовые словарные операции"
   ],
   "cell_type": "markdown",
   "metadata": {}
  },
  {
   "cell_type": "code",
   "execution_count": null,
   "metadata": {},
   "outputs": [],
   "source": [
    "D = {'spam': 2,\"Ham\":1,\"eggs\":3} #создание словаря\n",
    "D['spam'] #извлечение по ключу\n",
    "print(D) #порядок перемешан\"\n",
    "len(D) #количество элементов в словаре\n",
    "'ham' in D #проверка членства\n",
    "list(D.keys()) #создание нового списка ключей в D\n",
    " "
   ]
  },
  {
   "source": [
    "# Изменение словарей на месте"
   ],
   "cell_type": "markdown",
   "metadata": {}
  },
  {
   "cell_type": "code",
   "execution_count": null,
   "metadata": {},
   "outputs": [],
   "source": [
    "D['Ham'] = ['grill','bake','fry'] #изменение элемента (значение - список)\n",
    "print(D)\n",
    "del D['eggs'] #удаление элемента\n",
    "print(D)\n",
    "D['brunch'] = \"Bacon\" #добавление нового элемента\n",
    "print(D)"
   ]
  },
  {
   "cell_type": "code",
   "execution_count": null,
   "metadata": {},
   "outputs": [],
   "source": [
    "D = {'Spam': 2,'Eggs': 1,\"Ham\": 3}\n",
    "list(D.values()) #возвращает значение словаря, возвращают итерируемый объект, поэтому они помещены в вызов list\n",
    "list(D.items()) #возвращат кортеж с парами\n",
    "\n",
    "D.get('Spam') # возвращает стандартное значение - None или переденанно ему значение, если ключ не существует. Ключ присутствует\n",
    "print(D.get('Toast')) # Ключ отсутствует\n",
    "\n",
    "D.get('Toast', 88) #возвращает переданное ему значение\n",
    "\n",
    "print(D)\n",
    "\n",
    "D2 = {'toast':4,\"Spam\":2,\"Ham\":1}\n",
    "print(D2)\n",
    "D.update(D2)\n",
    "print(D)"
   ]
  },
  {
   "cell_type": "code",
   "execution_count": null,
   "metadata": {},
   "outputs": [],
   "source": [
    "D.pop(\"toast\") #удаление ключа и возвращение связанного с ним значения"
   ]
  },
  {
   "cell_type": "code",
   "execution_count": null,
   "metadata": {},
   "outputs": [],
   "source": [
    "# Извлечение из списка по позиции\n",
    "L = ['aa','bb','cc','dd']\n",
    "L.pop() #удаление и возвращение из конца\n",
    "print(L)\n",
    "L.pop(1) #удаление по указанной позиции\n",
    "print(L)\n"
   ]
  },
  {
   "source": [
    "# База данных о фильмах\n"
   ],
   "cell_type": "markdown",
   "metadata": {}
  },
  {
   "cell_type": "code",
   "execution_count": null,
   "metadata": {},
   "outputs": [],
   "source": [
    "table = {'1975': 'Holy Grail', #ключ: Значение\n",
    "         '1979': 'Life of Brian',\n",
    "         '1983': 'The meaning of Life'}\n",
    "         #годы выходов фильмы - ключи, названия - значения\n",
    "year = '1983'\n",
    "movie = table[year] #словарь[ключ] => Значение\n",
    "print(movie)\n",
    "\n",
    "for year in table:\n",
    "    print(year + '\\t' + table[year]) # то же, что и for year in table.keys()"
   ]
  },
  {
   "cell_type": "code",
   "execution_count": null,
   "metadata": {},
   "outputs": [],
   "source": [
    "table = {'Holy Grail' : '1975',\n",
    "         'Life of Brian': '1979',\n",
    "         'The meaning of Life': '1983'}\n",
    "print(table['Holy Grail'])\n",
    "print(list(table.items())) # Значение => Ключ(год => название)\n",
    "print([title for (title,year) in table.items()if  year == '1975']) #просматривает пары ключ значения кортежа, возвращенные методом items,выбирая ключи с указанным значением. Индексация в обратном направление от значения к ключу\n",
    "K = 'Holy Grail'\n",
    "table[K] #Ключ => значение (нормальное использование)\n",
    "V = '1975'\n",
    "[key for(key,value) in table.items()if value == V] #Значение => ключ\n",
    "[key for key in table.keys() if table[key] == V] #то же самое\n"
   ]
  },
  {
   "cell_type": "code",
   "execution_count": null,
   "metadata": {},
   "outputs": [],
   "source": [
    "L = []\n",
    "L[99] = 'spam' #в случае применения списков, присваивать по смещению, попадающему за конец списка, запрещено.\n",
    "#Можно исправить предварительно используя выделение памяти ([0] * 100)"
   ]
  },
  {
   "cell_type": "code",
   "execution_count": null,
   "metadata": {},
   "outputs": [],
   "source": [
    "# со словарями можно делать что-то похожее, но они не требуют предварительного выделения памяти\n",
    "D = {}\n",
    "D[99] = 'spam'\n",
    "print(D[99])\n",
    "print(D)"
   ]
  },
  {
   "cell_type": "code",
   "execution_count": 56,
   "metadata": {},
   "outputs": [],
   "source": [
    "table = {1975: 'Holy Grail' ,\n",
    " 1979: 'Life of Brian' , #ключи являются целыми числами, не строками\n",
    "\n",
    " 1983: 'The Meaning of Life' }\n",
    " "
   ]
  },
  {
   "cell_type": "code",
   "execution_count": 58,
   "metadata": {},
   "outputs": [
    {
     "output_type": "execute_result",
     "data": {
      "text/plain": [
       "[(1975, 'Holy Grail'), (1979, 'Life of Brian'), (1983, 'The Meaning of Life')]"
      ]
     },
     "metadata": {},
     "execution_count": 58
    }
   ],
   "source": [
    "table[1975]\n",
    "list(table.items())"
   ]
  },
  {
   "source": [
    "# Использование словарей для разреженных структур данных: ключи в форме кортежей "
   ],
   "cell_type": "markdown",
   "metadata": {}
  },
  {
   "cell_type": "code",
   "execution_count": 61,
   "metadata": {},
   "outputs": [
    {
     "output_type": "execute_result",
     "data": {
      "text/plain": [
       "{(2, 3, 4): 88, (7, 8, 9): 99}"
      ]
     },
     "metadata": {},
     "execution_count": 61
    }
   ],
   "source": [
    "Matrix = {}\n",
    "Matrix[(2,3,4)] = 88\n",
    "Matrix[(7,8,9)] = 99\n",
    "\n",
    "x = 2; y = 3; z = 4 #отделяет операторы\n",
    "Matrix[(x,y,z)]\n",
    "Matrix"
   ]
  },
  {
   "source": [
    "# Избегание ошибок, связанных с отсутствующими ключами"
   ],
   "cell_type": "markdown",
   "metadata": {}
  },
  {
   "cell_type": "code",
   "execution_count": 70,
   "metadata": {},
   "outputs": [
    {
     "output_type": "stream",
     "name": "stdout",
     "text": [
      "0\n0\n88\n0\n"
     ]
    }
   ],
   "source": [
    "if (2,3,6) in Matrix: #проверка наличия ключа перед извлечением\n",
    "    print(Matrix[(2,3,6)])\n",
    "else:\n",
    "    print(0)\n",
    "\n",
    "try:\n",
    "    print(Matrix[(2,3,6)]) #попытка индексации\n",
    "except KeyError: #перехват и восстановление \n",
    "    print(0)\n",
    "\n",
    "print(Matrix.get((2,3,4),0)) #существует:извлечь и возвратить\n",
    "print(Matrix.get((2,3,6),0)) #не существует: использовать стандартный аргумент \n",
    "\n",
    "# Метод get самый лаконичный в плане написания кода, но if и try более универсальны \n"
   ]
  },
  {
   "source": [
    "# Вложение словарей"
   ],
   "cell_type": "markdown",
   "metadata": {}
  },
  {
   "cell_type": "code",
   "execution_count": 82,
   "metadata": {},
   "outputs": [
    {
     "output_type": "stream",
     "name": "stdout",
     "text": [
      "Bob\nBob\n['developer', 'manager']\nwww.bobs.org\nOverworker\n"
     ]
    },
    {
     "output_type": "execute_result",
     "data": {
      "text/plain": [
       "['developer', 'manager']"
      ]
     },
     "metadata": {},
     "execution_count": 82
    }
   ],
   "source": [
    "rec = {}\n",
    "rec['name'] = 'Bob'\n",
    "rec['age'] = 40.5\n",
    "rec['job'] = 'developer/manager'\n",
    "print(rec['name'])\n",
    "\n",
    "rec = {'name': 'Bob',\n",
    "       'jobs': ['developer','manager'],\n",
    "       'web' : 'www.bobs.org',\n",
    "       'home': {'State': 'Overworker','zip':12345 }}\n",
    "\n",
    "print(rec['name'])\n",
    "print(rec['jobs'])\n",
    "print(rec['web'])\n",
    "print(rec['home']['State']) #нужно обратиться к внутреннему значению, потом к вложенному\n",
    "\n",
    "db = []\n",
    "db.append(rec) #база данных в форме списка\n",
    "#db.append(other)\n",
    "db[0]['jobs']\n",
    "\n",
    "db = {}\n",
    "db['Bob'] = rec\n",
    "#db['sue'] = other #база данных в форме словаря\n",
    "db['Bob']['jobs']"
   ]
  },
  {
   "source": [
    "# Другие способы создания словарей\n"
   ],
   "cell_type": "markdown",
   "metadata": {}
  },
  {
   "cell_type": "code",
   "execution_count": 86,
   "metadata": {},
   "outputs": [
    {
     "output_type": "execute_result",
     "data": {
      "text/plain": [
       "{'a': 0, 'b': 0}"
      ]
     },
     "metadata": {},
     "execution_count": 86
    }
   ],
   "source": [
    "{'name': 'bob','age': 40} #традиционное литеральное выражение\n",
    "D = {} #динамическое присваивание по ключам\n",
    "D['name'] = 'Bob'\n",
    "D['age'] = 40\n",
    "\n",
    "dict(name='Bob',age = 40) #форма dict с ключевыми аргументами\n",
    "dict([('name','Bob'),('age',40)]) #форма dict с кортежами ключ|значение \n",
    "\n",
    "#Все четыре формы создают один и тот же словарь с двумя ключами, но они удобны в разных обстоятельствах. \n",
    "# • Первая форма удобна, если вы в состоянии записать словарь заранее. \n",
    "# • Вторая форма используется, когда словарь необходимо создавать на лету по од­ ному полю за раз. \n",
    "# • Третья форма сопряжена с меньшим объемом набора, чем первая, но требует, чтобы все ключи были строками. \n",
    "# • Четвертая форма применяется, если ключи и значения нужно накапливать как последовательности во время выполнения.\n",
    "\n",
    "#dict(zip(keylist,valueslist)) форма с упакованными кортежами ключ\\значение\n",
    "dict.fromkeys(['a','b'],0)"
   ]
  },
  {
   "cell_type": "code",
   "execution_count": 91,
   "metadata": {},
   "outputs": [
    {
     "output_type": "stream",
     "name": "stdout",
     "text": [
      "{'a': 1, 'b': 2, 'c': 3}\n"
     ]
    }
   ],
   "source": [
    "list(zip(['a','b','c'],[1,2,3])) #упаковка вместе ключей и значений\n",
    "D = dict(zip(['a','b','c'],[1,2,3,])) #создание словаря из результата zip\n",
    "D\n",
    "D = {k: v for(k,v) in zip(['a','b','c'],[1,2,3,])} #для каждой пары ключ\\значение в результате zip\n",
    "print(D)"
   ]
  },
  {
   "cell_type": "code",
   "execution_count": 6,
   "metadata": {},
   "outputs": [
    {
     "output_type": "stream",
     "name": "stdout",
     "text": [
      "{1: 1, 2: 4, 3: 9, 4: 16}\n{'S': 'SSSS', 'P': 'PPPP', 'A': 'AAAA', 'M': 'MMMM'}\n{'spam': 'SPAM!', 'eggs': 'EGGS!', 'ham': 'HAM!'}\n"
     ]
    }
   ],
   "source": [
    "D = {x: x ** 2 for x in [1,2,3,4]} #или range(1, 5)\n",
    "print(D)\n",
    "D = {c: c * 4 for c in 'SPAM'} #проход в цикл по любому итерируемому объекту\n",
    "print(D)\n",
    "D = {c.lower(): c + '!' for c in ['SPAM','EGGS','HAM']}\n",
    "print(D)"
   ]
  },
  {
   "cell_type": "code",
   "execution_count": 10,
   "metadata": {},
   "outputs": [
    {
     "output_type": "stream",
     "name": "stdout",
     "text": [
      "{'a': 0, 'b': 0, 'c': 0}\n{'a': 0, 'b': 0, 'c': 0}\n{'s': None, 'p': None, 'a': None, 'm': None}\n{'s': None, 'p': None, 'a': None, 'm': None}\n"
     ]
    }
   ],
   "source": [
    "D = dict.fromkeys(['a','b','c'],0) #Инициализация словаря из ключей\n",
    "print(D)\n",
    "D = {k:0 for k in ['a','b','c']} #то же самое, но посредством включения\n",
    "print(D)\n",
    "D = dict.fromkeys('spam') #другие итерируемые объекты,, стандартное значение\n",
    "print(D)\n",
    "D = {k: None for k in 'spam'}\n",
    "print(D)"
   ]
  },
  {
   "cell_type": "code",
   "execution_count": 28,
   "metadata": {},
   "outputs": [
    {
     "output_type": "stream",
     "name": "stdout",
     "text": [
      "{'c', 'a', 'b'}\n{'b'}\n{'b'}\n{'d', 'b', 'c', 'a'}\n"
     ]
    }
   ],
   "source": [
    "#В операциях над множествами представления могут смешиваться с другими представлениями, множествами и словарями\n",
    "\n",
    "D = {'a':1,'b':2,'c':3}\n",
    "print(D.keys() & D.keys()) #пересечение представлений ключей\n",
    "print(D.keys() & {'b'}) #возвращает пересечение ключей множества, если множества нет, возвращает None\n",
    "print(D.keys() & {'b':1}) #пересечение представления ключей и словаря\n",
    "print(D.keys() | {'b','c','d'}) #объединение представления ключей и множества\n",
    " "
   ]
  },
  {
   "cell_type": "code",
   "execution_count": 40,
   "metadata": {},
   "outputs": [
    {
     "output_type": "stream",
     "name": "stdout",
     "text": [
      "[('a', 1)]\n{'a', ('a', 1)}\n{'a', ('a', 1)}\n{('d', 4), ('c', 3), ('a', 1)}\n{'d': 4, 'c': 3, 'a': 1}\n"
     ]
    }
   ],
   "source": [
    "#Представления элементов тоже подобны множествам, ессли они хешируемы, т.е. содержат только неизменяемые объекты\n",
    "D = {'a':1}\n",
    "print(list(D.items())) #представление элементов подобны множествам, если хешируемы\n",
    "print(D.items() | D.keys()) #объединение представления и представления\n",
    "print(D.items() | D) #словарь трактуется так же, как его ключи\n",
    "print(D.items() | {('c',3),('d',4)}) #объединение представления ключей и множества\n",
    "print(dict(D.items() | {('c',3),('d',4)})) #словарь также принимает итерируемые множества\n"
   ]
  },
  {
   "source": [
    "# Сортировка ключей словаря в  Python"
   ],
   "cell_type": "markdown",
   "metadata": {}
  },
  {
   "cell_type": "code",
   "execution_count": 75,
   "metadata": {},
   "outputs": [
    {
     "output_type": "stream",
     "name": "stdout",
     "text": [
      "a 1\nb 2\nc 3\n{'a': 1, 'b': 2, 'c': 3}\ndict_keys(['a', 'b', 'c'])\na 1\nb 2\nc 3\n"
     ]
    }
   ],
   "source": [
    "D = {'a':1,'b':2,'c':3}\n",
    "D\n",
    "Ks = D.keys()\n",
    "#Ks.sort() #сортировка объекта представления не работает\n",
    "\n",
    "#Чтобы это решить, надо либо вручную выполнить преобразование в список, либо применить вызов встроенной функции sorted() на представлении ключей или на самом словаре:\n",
    "Ks = list(Ks) #преобразовать в список и затем сортировать\n",
    "Ks.sort()\n",
    "for k in Ks:print(k,D[k])\n",
    "print(D)\n",
    "\n",
    "Ks = D.keys()\n",
    "print(Ks)\n",
    "for a in sorted(Ks): print(a,D[a]) #или можно вызвать sorted на ключах, sorted принимает любой итерируемый объект и возвращает свой результат"
   ]
  },
  {
   "cell_type": "code",
   "execution_count": 76,
   "metadata": {},
   "outputs": [
    {
     "output_type": "stream",
     "name": "stdout",
     "text": [
      "a 1\nb 2\nc 3\n"
     ]
    }
   ],
   "source": [
    "D\n",
    "for k in sorted(D): print(k, D[k]) #еще лучше сортироват словарь напрямую\n",
    "#Итераторы словаря возвращают ключи"
   ]
  },
  {
   "cell_type": "code",
   "execution_count": 87,
   "metadata": {},
   "outputs": [
    {
     "output_type": "stream",
     "name": "stdout",
     "text": [
      "True\nFalse\npresent 3\n3\nNone\npresent 3\n"
     ]
    }
   ],
   "source": [
    "print('c' in D)\n",
    "print('x' in D)\n",
    "if 'c' in D:print('present',D['c']) #ветвление по результату\n",
    "print(D.get('c')) #извлечение со стандартным значением\n",
    "print(D.get('x'))\n",
    "if D.get('c') != None:print('present', D['c']) #еще один вариант"
   ]
  },
  {
   "cell_type": "code",
   "execution_count": 90,
   "metadata": {},
   "outputs": [],
   "source": []
  },
  {
   "cell_type": "code",
   "execution_count": null,
   "metadata": {},
   "outputs": [],
   "source": []
  }
 ],
 "metadata": {
  "kernelspec": {
   "display_name": "Python 3",
   "language": "python",
   "name": "python3"
  },
  "language_info": {
   "codemirror_mode": {
    "name": "ipython",
    "version": 3
   },
   "file_extension": ".py",
   "mimetype": "text/x-python",
   "name": "python",
   "nbconvert_exporter": "python",
   "pygments_lexer": "ipython3",
   "version": "3.8.5-final"
  }
 },
 "nbformat": 4,
 "nbformat_minor": 4
}