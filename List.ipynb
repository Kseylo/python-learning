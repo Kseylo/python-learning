{
 "cells": [
  {
   "cell_type": "code",
   "execution_count": 1,
   "metadata": {},
   "outputs": [],
   "source": [
    "a = [3,5,20] #создаем лист"
   ]
  },
  {
   "cell_type": "code",
   "execution_count": 2,
   "metadata": {},
   "outputs": [
    {
     "name": "stdout",
     "output_type": "stream",
     "text": [
      "[3, 5, 20]\n"
     ]
    }
   ],
   "source": [
    "print(a) #вызываем лист и выводим на экран"
   ]
  },
  {
   "cell_type": "code",
   "execution_count": 3,
   "metadata": {},
   "outputs": [
    {
     "name": "stdout",
     "output_type": "stream",
     "text": [
      "[3, 5, 20, 15]\n"
     ]
    }
   ],
   "source": [
    "a.append(15) # добавляем еще одно число в лист, оно добавляется в конец\n",
    "print(a)"
   ]
  },
  {
   "cell_type": "code",
   "execution_count": 5,
   "metadata": {},
   "outputs": [
    {
     "name": "stdout",
     "output_type": "stream",
     "text": [
      "[3, 5, 20, 15, 'Hello']\n"
     ]
    }
   ],
   "source": [
    "a.append(\"Hello\") #В pythone мы можем добавлять различные типы данных в лист\n",
    "print(a)"
   ]
  },
  {
   "cell_type": "code",
   "execution_count": 7,
   "metadata": {
    "scrolled": true
   },
   "outputs": [
    {
     "name": "stdout",
     "output_type": "stream",
     "text": [
      "[3, 5, 20, 15, 'Hello', [5, 6]]\n"
     ]
    }
   ],
   "source": [
    "a.append([5,6]) #также мы можем добавлять в уже существующий лист новый лист\n",
    "print(a)"
   ]
  },
  {
   "cell_type": "code",
   "execution_count": 8,
   "metadata": {},
   "outputs": [
    {
     "name": "stdout",
     "output_type": "stream",
     "text": [
      "[3, 5, 20, 15, 'Hello']\n"
     ]
    }
   ],
   "source": [
    "a.pop() # pop - выскачить,удаляем последний элемент из листа\n",
    "print(a)"
   ]
  },
  {
   "cell_type": "code",
   "execution_count": 9,
   "metadata": {},
   "outputs": [
    {
     "name": "stdout",
     "output_type": "stream",
     "text": [
      "[3, 5, 20, 15]\n"
     ]
    }
   ],
   "source": [
    "a.pop() #если передать например 2 как аргумент, то элемент под 2 индексом удалиться \n",
    "print(a)"
   ]
  },
  {
   "cell_type": "code",
   "execution_count": 10,
   "metadata": {},
   "outputs": [
    {
     "name": "stdout",
     "output_type": "stream",
     "text": [
      "3\n"
     ]
    }
   ],
   "source": [
    "print(a[0]) # обращаемся в первому элементу списка и выводим его на экран"
   ]
  },
  {
   "cell_type": "code",
   "execution_count": 12,
   "metadata": {},
   "outputs": [
    {
     "name": "stdout",
     "output_type": "stream",
     "text": [
      "15\n"
     ]
    }
   ],
   "source": [
    "print(a[3]) #круглые скобки вызывают функцию print, а квадратные обращаются к листу"
   ]
  },
  {
   "cell_type": "code",
   "execution_count": 13,
   "metadata": {},
   "outputs": [
    {
     "name": "stdout",
     "output_type": "stream",
     "text": [
      "15\n"
     ]
    }
   ],
   "source": [
    "print(a[-1]) # 3 - 0 элемент, -1 вызывается последний элемент в списке"
   ]
  },
  {
   "cell_type": "code",
   "execution_count": 14,
   "metadata": {},
   "outputs": [
    {
     "name": "stdout",
     "output_type": "stream",
     "text": [
      "[100, 5, 20, 15]\n"
     ]
    }
   ],
   "source": [
    "a[0] = 100 #меняем 0 элемент, назначаем новое значение\n",
    "print(a)"
   ]
  },
  {
   "cell_type": "code",
   "execution_count": 16,
   "metadata": {},
   "outputs": [
    {
     "name": "stdout",
     "output_type": "stream",
     "text": [
      "['Hello', 'How are you', 'How are you']\n",
      "['Hello', 'How are you', 'Goodbye']\n"
     ]
    }
   ],
   "source": [
    "b = [\"Hello\",\"Goodbye\",\"How are you\"]\n",
    "temp = b[1] #создаем временную переменную\n",
    "b[1] = b[2]\n",
    "print(b) # затерли элемент под индексом 1 и назначали значени последнего\n",
    "b[2] = temp\n",
    "print(b) # вернули значение из временной переменной"
   ]
  },
  {
   "cell_type": "code",
   "execution_count": 17,
   "metadata": {},
   "outputs": [
    {
     "name": "stdout",
     "output_type": "stream",
     "text": [
      "['Goodbye', 'How are you', 'Hello']\n"
     ]
    }
   ],
   "source": [
    "b[0],b[2] = b[2], b[0] #Присваивам значение первого элемента последнему в списке,а последнему значение первого\n",
    "print(b)"
   ]
  },
  {
   "cell_type": "code",
   "execution_count": 19,
   "metadata": {},
   "outputs": [
    {
     "name": "stdout",
     "output_type": "stream",
     "text": [
      "1\n",
      "2\n"
     ]
    }
   ],
   "source": [
    "a,b = 1,2 #Синтаксис сверху модно использовать и вот так\n",
    "print(a)\n",
    "print(b)"
   ]
  },
  {
   "cell_type": "code",
   "execution_count": 2,
   "metadata": {},
   "outputs": [
    {
     "name": "stdout",
     "output_type": "stream",
     "text": [
      "[1, 4, 9, 16, 25]\n"
     ]
    }
   ],
   "source": [
    "squares = [x ** 2 for x in [1,2,3,4,5]] #вычилсения квадрата для списка чисел\r\n",
    "print(squares)"
   ]
  },
  {
   "cell_type": "code",
   "execution_count": 4,
   "metadata": {},
   "outputs": [
    {
     "name": "stdout",
     "output_type": "stream",
     "text": [
      "1\n",
      "2\n",
      "3\n",
      "4\n",
      "5\n",
      "[1, 4, 9, 16, 25]\n"
     ]
    }
   ],
   "source": [
    "squares = []\r\n",
    "for x in [1,2,3,4,5]:  #это то что делает списковое включение\r\n",
    "    squares.append(x**2) #оба инструмента внутренее следуют протоколу итерации\r\n",
    "print(squares)"
   ]
  },
  {
   "source": [
    "# Распространенные списковые литералы и операции"
   ],
   "cell_type": "markdown",
   "metadata": {}
  },
  {
   "source": [
    " # https://i.imgur.com/bFEJzrN.png\n",
    " # https://i.imgur.com/CxA29OO.png"
   ],
   "cell_type": "markdown",
   "metadata": {}
  },
  {
   "source": [
    "# Базовые списковые операции"
   ],
   "cell_type": "markdown",
   "metadata": {}
  },
  {
   "cell_type": "code",
   "execution_count": 6,
   "metadata": {},
   "outputs": [
    {
     "output_type": "execute_result",
     "data": {
      "text/plain": [
       "[1, 2, '3', '4']"
      ]
     },
     "metadata": {},
     "execution_count": 6
    }
   ],
   "source": [
    "len([1,2,3]) #Длина\n",
    "[1,2,3] + [4,5,6] #конкатенация\n",
    "['Ni!'] * 4 # повтороение\n",
    "\n",
    "str([1,2]) + '34' #выполнить конкатенацию не получится, если сначала не преобразовать список в строку\n",
    "[1,2] + list('34') #преобразование строки в список\n"
   ]
  },
  {
   "source": [
    "# Итерация по спискам и списковые включения"
   ],
   "cell_type": "markdown",
   "metadata": {}
  },
  {
   "cell_type": "code",
   "execution_count": 16,
   "metadata": {},
   "outputs": [
    {
     "output_type": "stream",
     "name": "stdout",
     "text": [
      "1 2 3 ['SSSS', 'PPPP', 'AAAA', 'MMMM']\n"
     ]
    },
    {
     "output_type": "execute_result",
     "data": {
      "text/plain": [
       "[1, 2, 0, 1, 2]"
      ]
     },
     "metadata": {},
     "execution_count": 16
    }
   ],
   "source": [
    "3 in [1,2,3] #проверка на членство\n",
    "for x in[1,2,3]:\n",
    "    print(x, end = ' ')\n",
    "\n",
    "res = [c * 4 for c in 'SPAM'] #списковые включения\n",
    "res\n",
    "\n",
    "res = []\n",
    "for c in 'SPAM': #эквивалент спискового включения\n",
    "    res.append(c * 4)\n",
    "\n",
    "print(res)\n",
    "\n",
    "list(map(abs,[-1,-2,0,1,2])) #отображение функции по всей последовательности\n",
    "\n"
   ]
  },
  {
   "source": [
    "# Индексация, нарезание и матрицы"
   ],
   "cell_type": "markdown",
   "metadata": {}
  },
  {
   "cell_type": "code",
   "execution_count": 20,
   "metadata": {},
   "outputs": [
    {
     "output_type": "execute_result",
     "data": {
      "text/plain": [
       "['Spam', 'SPAM!']"
      ]
     },
     "metadata": {},
     "execution_count": 20
    }
   ],
   "source": [
    "L = ['spam','Spam','SPAM!']\n",
    "L[2] #смещение начинается с нуля\n",
    "L[-1] #отрицательные смещения отсчитываются справа\n",
    "L[1:] #нарезание извлекает сегменты"
   ]
  },
  {
   "cell_type": "code",
   "execution_count": 1,
   "metadata": {},
   "outputs": [
    {
     "output_type": "execute_result",
     "data": {
      "text/plain": [
       "['spam', 'eggs', 'SPAM!']"
      ]
     },
     "metadata": {},
     "execution_count": 1
    }
   ],
   "source": [
    "L = ['spam' , 'Spam', \"SPAM!\"]\n",
    "L[1] = 'eggs' # присваивание по индексу\n",
    "print(L)\n",
    "L[0:2] = ['eat', 'more'] #присваивание по срезу: удаление + вставка\n",
    "print(L) #заменяет элементы 0, 1"
   ]
  },
  {
   "cell_type": "code",
   "execution_count": 7,
   "metadata": {},
   "outputs": [
    {
     "output_type": "stream",
     "name": "stdout",
     "text": [
      "[1, 4, 5, 3]\n[1, 6, 7, 4, 5, 3]\n[1, 7, 4, 5, 3]\n"
     ]
    }
   ],
   "source": [
    "L = [1,2,3]\n",
    "L[1:2] = [4,5] #замена/вставка\n",
    "print(L)\n",
    "L[1:1] = [6,7] # вставка (ничего не заменяет)\n",
    "print(L)\n",
    "L[1:2] = [] # Удаление(ничего не вставляет)\n",
    "print(L)"
   ]
  },
  {
   "cell_type": "code",
   "execution_count": 14,
   "metadata": {},
   "outputs": [
    {
     "output_type": "stream",
     "name": "stdout",
     "text": [
      "[2, 3, 4, 1]\n[2, 3, 4, 1, 5, 6, 7]\n[2, 3, 4, 1, 5, 6, 7, 8, 9, 10]\n"
     ]
    }
   ],
   "source": [
    "L = [1]\n",
    "L[:0] = [2,3,4,] #вставить все на место :0, пустой срез в начале\n",
    "print(L)\n",
    "L[len(L):] = [5,6,7] #вставить все на место len(L):,пустой срез в конце\n",
    "print(L)\n",
    "L.extend([8,9,10]) #вставить все в конце, именованный метод\n",
    "print(L)"
   ]
  },
  {
   "source": [
    "# Вызовы списковых методов"
   ],
   "cell_type": "markdown",
   "metadata": {}
  },
  {
   "cell_type": "code",
   "execution_count": 23,
   "metadata": {},
   "outputs": [
    {
     "output_type": "stream",
     "name": "stdout",
     "text": [
      "['eat', 'more', 'SPAM!', 'please']\n"
     ]
    },
    {
     "output_type": "execute_result",
     "data": {
      "text/plain": [
       "['SPAM!', 'eat', 'more', 'please']"
      ]
     },
     "metadata": {},
     "execution_count": 23
    }
   ],
   "source": [
    "L = ['eat','more','SPAM!']\n",
    "L.append('please') # вызов метода дополнения: добавляет элемент в конец\n",
    "print(L)\n",
    "L.sort() # сортировка элементов списка('S'< 'e\")\n",
    "L"
   ]
  },
  {
   "source": [
    "# Дополнительные сведения о сортировке списков"
   ],
   "cell_type": "markdown",
   "metadata": {}
  },
  {
   "cell_type": "code",
   "execution_count": 27,
   "metadata": {},
   "outputs": [
    {
     "output_type": "execute_result",
     "data": {
      "text/plain": [
       "['ADB', 'aBe', 'abc']"
      ]
     },
     "metadata": {},
     "execution_count": 27
    }
   ],
   "source": [
    "L = ['abc','ADB','aBe'] #сортировка со смешанным регистром символов\n",
    "L.sort()\n",
    "L"
   ]
  }
 ],
 "metadata": {
  "kernelspec": {
   "display_name": "Python 3",
   "language": "python",
   "name": "python3"
  },
  "language_info": {
   "codemirror_mode": {
    "name": "ipython",
    "version": 3
   },
   "file_extension": ".py",
   "mimetype": "text/x-python",
   "name": "python",
   "nbconvert_exporter": "python",
   "pygments_lexer": "ipython3",
   "version": "3.8.5-final"
  }
 },
 "nbformat": 4,
 "nbformat_minor": 4
}