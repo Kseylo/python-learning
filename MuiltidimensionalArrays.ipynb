{
 "cells": [
  {
   "cell_type": "code",
   "execution_count": 5,
   "metadata": {},
   "outputs": [],
   "source": [
    "a = {1, 2 , 3, \"asdf\"}"
   ]
  },
  {
   "cell_type": "code",
   "execution_count": 6,
   "metadata": {},
   "outputs": [
    {
     "name": "stdout",
     "output_type": "stream",
     "text": [
      "{1, 2, 3, 'asdf'}\n"
     ]
    }
   ],
   "source": [
    "print(a)"
   ]
  },
  {
   "cell_type": "code",
   "execution_count": 9,
   "metadata": {},
   "outputs": [],
   "source": [
    "arr_2d = [[1,2,3],\n",
    "          [4,5,6],\n",
    "          [7,8,9]]"
   ]
  },
  {
   "cell_type": "code",
   "execution_count": 11,
   "metadata": {},
   "outputs": [
    {
     "name": "stdout",
     "output_type": "stream",
     "text": [
      "[[1, 2, 3], [4, 5, 6], [7, 8, 9]]\n"
     ]
    }
   ],
   "source": [
    "print(arr_2d)"
   ]
  },
  {
   "cell_type": "code",
   "execution_count": 14,
   "metadata": {},
   "outputs": [
    {
     "data": {
      "text/plain": [
       "5"
      ]
     },
     "execution_count": 14,
     "metadata": {},
     "output_type": "execute_result"
    }
   ],
   "source": [
    "arr_2d[1][1] #сначала идет элемент по вертикали, второй по горизонтали, соответственн\n",
    "#элемент под номером 1 1 получаем центральный - 5"
   ]
  },
  {
   "cell_type": "code",
   "execution_count": 15,
   "metadata": {},
   "outputs": [],
   "source": [
    "arr_2d_2 = [[1,2,3], [4,5,6,-1,-5],[7]] #массивы могут быть разными по длине"
   ]
  },
  {
   "cell_type": "code",
   "execution_count": 16,
   "metadata": {},
   "outputs": [
    {
     "name": "stdout",
     "output_type": "stream",
     "text": [
      "[[1, 2, 3], [4, 5, 6, -1, -5], [7]]\n"
     ]
    }
   ],
   "source": [
    "print(arr_2d_2)"
   ]
  },
  {
   "cell_type": "code",
   "execution_count": 19,
   "metadata": {},
   "outputs": [
    {
     "name": "stdout",
     "output_type": "stream",
     "text": [
      "[1, 2, 3]\n",
      "[4, 5, 6]\n",
      "[7, 8, 9]\n"
     ]
    }
   ],
   "source": [
    "def print_marix(arr_2d):\n",
    "    for arr in arr_2d:\n",
    "        print(arr) #функция print вставляет в конце каждого массива \\n по умолчанию\n",
    "        #поэтому получается такая таблица\n",
    "\n",
    "print_marix(arr_2d)"
   ]
  },
  {
   "cell_type": "code",
   "execution_count": 22,
   "metadata": {},
   "outputs": [],
   "source": [
    "def print_matrix(arr_2d):\n",
    "    for arr in arr_2d: #список проходится по каждому из списков\n",
    "        for el in arr: #проходится по каждому элементу в текущем списке\n",
    "            print(el, end = ' ') #выводим с помощью print и после вывода мы не переходим на новую строку, а печатаем пробел\n",
    "        print() #когда мы вывели строку на экран, печатает символ перехода на новую строку"
   ]
  },
  {
   "cell_type": "code",
   "execution_count": 23,
   "metadata": {},
   "outputs": [
    {
     "name": "stdout",
     "output_type": "stream",
     "text": [
      "1 2 3 \n",
      "4 5 6 \n",
      "7 8 9 \n"
     ]
    }
   ],
   "source": [
    "print_matrix(arr_2d)"
   ]
  },
  {
   "cell_type": "code",
   "execution_count": 35,
   "metadata": {},
   "outputs": [
    {
     "name": "stdout",
     "output_type": "stream",
     "text": [
      "1 2 3 \n",
      "4 100 6 \n",
      "7 8 9 \n"
     ]
    }
   ],
   "source": [
    "def matrix(arr_2d):\n",
    "    for i in range(len(arr_2d)):\n",
    "        for j in range(len(arr_2d[i])):\n",
    "            print(arr_2d[i][j], end = ' ')\n",
    "        print()\n",
    "\n",
    "matrix(arr_2d)"
   ]
  },
  {
   "cell_type": "code",
   "execution_count": 36,
   "metadata": {},
   "outputs": [
    {
     "name": "stdout",
     "output_type": "stream",
     "text": [
      "1 2 3 \n",
      "4 100 6 \n",
      "7 8 9 \n"
     ]
    }
   ],
   "source": [
    "arr_2d[1][1] = 100\n",
    "matrix(arr_2d)"
   ]
  },
  {
   "cell_type": "code",
   "execution_count": 48,
   "metadata": {},
   "outputs": [
    {
     "ename": "TypeError",
     "evalue": "create_2d_arr() missing 2 required positional arguments: 'm' and 'n'",
     "output_type": "error",
     "traceback": [
      "\u001b[1;31m---------------------------------------------------------------------------\u001b[0m",
      "\u001b[1;31mTypeError\u001b[0m                                 Traceback (most recent call last)",
      "\u001b[1;32m<ipython-input-48-d21e33f26199>\u001b[0m in \u001b[0;36m<module>\u001b[1;34m\u001b[0m\n\u001b[0;32m      3\u001b[0m     \u001b[1;32mreturn\u001b[0m \u001b[0mA\u001b[0m\u001b[1;33m\u001b[0m\u001b[1;33m\u001b[0m\u001b[0m\n\u001b[0;32m      4\u001b[0m \u001b[1;33m\u001b[0m\u001b[0m\n\u001b[1;32m----> 5\u001b[1;33m \u001b[0mprint\u001b[0m\u001b[1;33m(\u001b[0m\u001b[0mcreate_2d_arr\u001b[0m\u001b[1;33m(\u001b[0m\u001b[1;33m)\u001b[0m\u001b[1;33m)\u001b[0m\u001b[1;33m\u001b[0m\u001b[1;33m\u001b[0m\u001b[0m\n\u001b[0m",
      "\u001b[1;31mTypeError\u001b[0m: create_2d_arr() missing 2 required positional arguments: 'm' and 'n'"
     ]
    }
   ],
   "source": [
    "def create_2d_arr (m, n):\n",
    "    A = [[0] * m for i in range(n)]\n",
    "    return A\n",
    "    \n",
    "print(create_2d_arr())"
   ]
  },
  {
   "cell_type": "code",
   "execution_count": 46,
   "metadata": {},
   "outputs": [],
   "source": [
    "def create_2d_arr1 (m, n):\n",
    "    arr_2d = []\n",
    "    \n",
    "    for i in range(m): # итерация от 0 до 5 по строкам\n",
    "        internal_arr = [] #каждую итерацию создаем новый пустой массив\n",
    "        \n",
    "        for j in range(n): #в пустой массив n раз добавляем 0\n",
    "            internal_arr.append(0)\n",
    "            \n",
    "        arr_2d.append(internal_arr) #добавляем в вложенный массив списка списков\n",
    "    # Во внешнем цикле мы проходимся и создаем m количество раз пустой массив,\n",
    "    # он будет нашими строками, затем во вложенной цикле мы в пустой массив добавляем 0 с помощью фунции\n",
    "    # append, затем в нашим массив мы добавляем созданный пустой массив заполненный нулями5\n",
    "    \n",
    "    return arr_2d\n",
    "\n",
    "array = create_2d_arr1(5,10)"
   ]
  },
  {
   "cell_type": "code",
   "execution_count": 47,
   "metadata": {},
   "outputs": [
    {
     "name": "stdout",
     "output_type": "stream",
     "text": [
      "0 0 0 0 0 0 0 0 0 0 \n",
      "0 0 0 0 0 0 0 0 0 0 \n",
      "0 0 0 0 0 0 0 0 0 0 \n",
      "0 0 0 0 0 0 0 0 0 0 \n",
      "0 0 0 0 0 0 0 0 0 0 \n"
     ]
    }
   ],
   "source": [
    "print_matrix(array)"
   ]
  },
  {
   "cell_type": "code",
   "execution_count": 49,
   "metadata": {},
   "outputs": [
    {
     "ename": "SyntaxError",
     "evalue": "invalid syntax (<ipython-input-49-4790e4cac25c>, line 1)",
     "output_type": "error",
     "traceback": [
      "\u001b[1;36m  File \u001b[1;32m\"<ipython-input-49-4790e4cac25c>\"\u001b[1;36m, line \u001b[1;32m1\u001b[0m\n\u001b[1;33m    Есть двумерный массив, разрещается только одинаковое количество строк и столбцов,зеркально отобразить матрицу\u001b[0m\n\u001b[1;37m         ^\u001b[0m\n\u001b[1;31mSyntaxError\u001b[0m\u001b[1;31m:\u001b[0m invalid syntax\n"
     ]
    }
   ],
   "source": [
    "Есть двумерный массив, разрещается только одинаковое количество строк и столбцов,зеркально отобразить матрицу\n",
    "\n",
    "1 2 3\n",
    "4 5 6\n",
    "7 8 9\n",
    "\n",
    "3 2 1\n",
    "6 5 4\n",
    "9 8 7\n",
    "\n",
    "  "
   ]
  },
  {
   "cell_type": "code",
   "execution_count": null,
   "metadata": {},
   "outputs": [],
   "source": []
  }
 ],
 "metadata": {
  "kernelspec": {
   "display_name": "Python 3",
   "language": "python",
   "name": "python3"
  },
  "language_info": {
   "codemirror_mode": {
    "name": "ipython",
    "version": 3
   },
   "file_extension": ".py",
   "mimetype": "text/x-python",
   "name": "python",
   "nbconvert_exporter": "python",
   "pygments_lexer": "ipython3",
   "version": "3.8.5"
  }
 },
 "nbformat": 4,
 "nbformat_minor": 4
}
