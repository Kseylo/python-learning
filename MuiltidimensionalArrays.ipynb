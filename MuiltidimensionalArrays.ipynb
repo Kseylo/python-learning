{
 "cells": [
  {
   "cell_type": "code",
   "execution_count": null,
   "metadata": {},
   "outputs": [],
   "source": [
    "a = {1, 2 , 3, \"asdf\"}"
   ]
  },
  {
   "cell_type": "code",
   "execution_count": null,
   "metadata": {},
   "outputs": [],
   "source": [
    "print(a)"
   ]
  },
  {
   "cell_type": "code",
   "execution_count": null,
   "metadata": {},
   "outputs": [],
   "source": [
    "arr_2d = [[1,2,3],\n",
    "          [4,5,6],\n",
    "          [7,8,9]]"
   ]
  },
  {
   "cell_type": "code",
   "execution_count": null,
   "metadata": {},
   "outputs": [],
   "source": [
    "print(arr_2d)"
   ]
  },
  {
   "cell_type": "code",
   "execution_count": null,
   "metadata": {},
   "outputs": [],
   "source": [
    "arr_2d[1][1] #сначала идет элемент по вертикали, второй по горизонтали, соответственн\n",
    "#элемент под номером 1 1 получаем центральный - 5"
   ]
  },
  {
   "cell_type": "code",
   "execution_count": null,
   "metadata": {},
   "outputs": [],
   "source": [
    "arr_2d_2 = [[1,2,3], [4,5,6,-1,-5],[7]] #массивы могут быть разными по длине"
   ]
  },
  {
   "cell_type": "code",
   "execution_count": null,
   "metadata": {},
   "outputs": [],
   "source": [
    "print(arr_2d_2)"
   ]
  },
  {
   "cell_type": "code",
   "execution_count": null,
   "metadata": {},
   "outputs": [],
   "source": [
    "def print_marix(arr_2d):\n",
    "    for arr in arr_2d:\n",
    "        print(arr) #функция print вставляет в конце каждого массива \\n по умолчанию\n",
    "        #поэтому получается такая таблица\n",
    "\n",
    "print_marix(arr_2d)"
   ]
  },
  {
   "cell_type": "code",
   "execution_count": null,
   "metadata": {},
   "outputs": [],
   "source": [
    "def print_matrix(arr_2d):\n",
    "    for arr in arr_2d: #список проходится по каждому из списков\n",
    "        for el in arr: #проходится по каждому элементу в текущем списке\n",
    "            print(el, end = ' ') #выводим с помощью print и после вывода мы не переходим на новую строку, а печатаем пробел\n",
    "        print() #когда мы вывели строку на экран, печатает символ перехода на новую строку"
   ]
  },
  {
   "cell_type": "code",
   "execution_count": null,
   "metadata": {},
   "outputs": [],
   "source": [
    "print_matrix(arr_2d)"
   ]
  },
  {
   "cell_type": "code",
   "execution_count": null,
   "metadata": {},
   "outputs": [],
   "source": [
    "def matrix(arr_2d):\n",
    "    for i in range(len(arr_2d)):\n",
    "        for j in range(len(arr_2d[i])):\n",
    "            print(arr_2d[i][j], end = ' ')\n",
    "        print()\n",
    "\n",
    "matrix(arr_2d)"
   ]
  },
  {
   "cell_type": "code",
   "execution_count": null,
   "metadata": {},
   "outputs": [],
   "source": [
    "arr_2d[1][1] = 100\n",
    "matrix(arr_2d)"
   ]
  },
  {
   "cell_type": "code",
   "execution_count": null,
   "metadata": {},
   "outputs": [],
   "source": [
    "def create_2d_arr (m, n):\n",
    "    A = [[0] * m for i in range(n)]\n",
    "    return A\n",
    "    \n",
    "print(create_2d_arr())"
   ]
  },
  {
   "cell_type": "code",
   "execution_count": null,
   "metadata": {},
   "outputs": [],
   "source": [
    "def create_2d_arr1 (m, n):\n",
    "    arr_2d = []\n",
    "    \n",
    "    for i in range(m): # итерация от 0 до 5 по строкам\n",
    "        internal_arr = [] #каждую итерацию создаем новый пустой массив\n",
    "        \n",
    "        for j in range(n): #в пустой массив n раз добавляем 0\n",
    "            internal_arr.append(0)\n",
    "            \n",
    "        arr_2d.append(internal_arr) #добавляем в вложенный массив списка списков\n",
    "    # Во внешнем цикле мы проходимся и создаем m количество раз пустой массив,\n",
    "    # он будет нашими строками, затем во вложенной цикле мы в пустой массив добавляем 0 с помощью фунции\n",
    "    # append, затем в нашим массив мы добавляем созданный пустой массив заполненный нулями5\n",
    "    \n",
    "    return arr_2d\n",
    "\n",
    "array = create_2d_arr1(5,10)"
   ]
  },
  {
   "cell_type": "code",
   "execution_count": null,
   "metadata": {},
   "outputs": [],
   "source": [
    "print_matrix(array)"
   ]
  },
  {
   "cell_type": "code",
   "execution_count": null,
   "metadata": {},
   "outputs": [],
   "source": [
    "Есть двумерный массив, разрещается только одинаковое количество строк и столбцов,зеркально отобразить матрицу\n",
    "\n",
    "1 2 3\n",
    "4 5 6\n",
    "7 8 9\n",
    "\n",
    "3 2 1\n",
    "6 5 4\n",
    "9 8 7\n",
    "\n",
    "  "
   ]
  },
  {
   "cell_type": "code",
   "execution_count": 36,
   "metadata": {},
   "outputs": [
    {
     "output_type": "stream",
     "name": "stdout",
     "text": [
      "[[1, 2, 3], [4, 5, 6], [7, 8, 9]]\n"
     ]
    }
   ],
   "source": [
    "m = [[1,2,3], #матрица 3х3 в виде вложенных список\n",
    "     [4,5,6], #при использовании квадратных скобок код может занимать несколько строк\n",
    "     [7,8,9]]\n",
    "print(m)"
   ]
  },
  {
   "cell_type": "code",
   "execution_count": null,
   "metadata": {},
   "outputs": [],
   "source": [
    "print(m[1]) #получить строку 2\n",
    "print(m[1][2]) #получить строку 2 и затем элемент 3 внутри этой строки"
   ]
  },
  {
   "cell_type": "code",
   "execution_count": null,
   "metadata": {},
   "outputs": [],
   "source": [
    "#list comprehension - выражение спискового включения\n",
    "col2 = [row[1] for row in m] # предоставить row [ 1 ] из каждой строки матрицы М в новом списке\n",
    "print(col2) #собрать элементы в столбце 2\n",
    "col3 =[row[1] + 1 for row in m] #добавить к каждому элементу в столбце 2 единичку\n",
    "print(col3)\n",
    "col4 =[row[1] for row in m if row[1] % 2 == 0] # отфильтровать нечетные элементы\n",
    "print(col4)"
   ]
  },
  {
   "cell_type": "code",
   "execution_count": null,
   "metadata": {},
   "outputs": [],
   "source": [
    "diag = [m[i][i]for i in [0,1,2]] #собрать диагональ из матрицы\n",
    "print(diag)\n",
    "double = [c * 2 for c in 'spam']\n",
    "print(double)"
   ]
  },
  {
   "cell_type": "code",
   "execution_count": null,
   "metadata": {},
   "outputs": [],
   "source": [
    "list(range(4)) # лист от 0 до 4\n",
    "list(range(-6,7,2)) #лист от -6 до 6 с шагом в 2\n"
   ]
  },
  {
   "cell_type": "code",
   "execution_count": null,
   "metadata": {},
   "outputs": [],
   "source": [
    "[[x**2,x**3]for x in range(4)] #множество значений, фильтры if "
   ]
  },
  {
   "cell_type": "code",
   "execution_count": null,
   "metadata": {},
   "outputs": [],
   "source": [
    "[[x, x / 2, x * 2] for x in range(-6,7,2)if x > 0]"
   ]
  },
  {
   "cell_type": "code",
   "execution_count": 37,
   "metadata": {},
   "outputs": [
    {
     "output_type": "stream",
     "name": "stdout",
     "text": [
      "6\n15\n24\n"
     ]
    },
    {
     "output_type": "execute_result",
     "data": {
      "text/plain": [
       "[6, 15, 24]"
      ]
     },
     "metadata": {},
     "execution_count": 37
    }
   ],
   "source": [
    "g = (sum(row) for row in m) #создать генератор элементов сумм в строках\n",
    "print(next(g)) #запустить протокол итерации next() 1 + 2 + 3\n",
    "print(next(g)) # пошли по второй строке 4 + 5 + 6 \n",
    "print(next(g)) #по третьей 7 + 8 + 9\n",
    "#print(next(g)) # выкинет в ошибку, т.к. вышли за список\n",
    "list(map(sum,m)) # отобразить sum на элементы в м\n"
   ]
  },
  {
   "cell_type": "code",
   "execution_count": 34,
   "metadata": {},
   "outputs": [
    {
     "output_type": "execute_result",
     "data": {
      "text/plain": [
       "{6, 15, 24}"
      ]
     },
     "metadata": {},
     "execution_count": 34
    }
   ],
   "source": [
    "{sum(row)for row in m} #создать множество сумм элементов в строках"
   ]
  },
  {
   "cell_type": "code",
   "execution_count": 38,
   "metadata": {},
   "outputs": [
    {
     "output_type": "execute_result",
     "data": {
      "text/plain": [
       "{0: 6, 1: 15, 2: 24}"
      ]
     },
     "metadata": {},
     "execution_count": 38
    }
   ],
   "source": [
    "{i : sum(m[i]) for i in range(3)} #создать таблицу ключей/значений сумм элементов в строках"
   ]
  },
  {
   "cell_type": "code",
   "execution_count": 39,
   "metadata": {},
   "outputs": [
    {
     "output_type": "execute_result",
     "data": {
      "text/plain": [
       "[115, 112, 97, 97, 109]"
      ]
     },
     "metadata": {},
     "execution_count": 39
    }
   ],
   "source": [
    "[ord(x) for x in 'spaam'] #список порядковых чисел для символов"
   ]
  },
  {
   "cell_type": "code",
   "execution_count": 41,
   "metadata": {},
   "outputs": [
    {
     "output_type": "execute_result",
     "data": {
      "text/plain": [
       "{97, 109, 112, 115}"
      ]
     },
     "metadata": {},
     "execution_count": 41
    }
   ],
   "source": [
    "{ord(x)for x in 'spaam'} #множество с удаленными дубликатами"
   ]
  },
  {
   "cell_type": "code",
   "execution_count": 42,
   "metadata": {},
   "outputs": [
    {
     "output_type": "execute_result",
     "data": {
      "text/plain": [
       "{'s': 115, 'p': 112, 'a': 97, 'm': 109}"
      ]
     },
     "metadata": {},
     "execution_count": 42
    }
   ],
   "source": [
    "{x : ord(x) for x in 'spaam'} #словарь с уникальными ключами"
   ]
  },
  {
   "cell_type": "code",
   "execution_count": 44,
   "metadata": {},
   "outputs": [
    {
     "output_type": "execute_result",
     "data": {
      "text/plain": [
       "<generator object <genexpr> at 0x00000277AAD1A820>"
      ]
     },
     "metadata": {},
     "execution_count": 44
    }
   ],
   "source": [
    "(ord(x)for x in 'spaam')"
   ]
  },
  {
   "cell_type": "code",
   "execution_count": null,
   "metadata": {},
   "outputs": [],
   "source": []
  }
 ],
 "metadata": {
  "kernelspec": {
   "display_name": "Python 3",
   "language": "python",
   "name": "python3"
  },
  "language_info": {
   "codemirror_mode": {
    "name": "ipython",
    "version": 3
   },
   "file_extension": ".py",
   "mimetype": "text/x-python",
   "name": "python",
   "nbconvert_exporter": "python",
   "pygments_lexer": "ipython3",
   "version": "3.8.5-final"
  }
 },
 "nbformat": 4,
 "nbformat_minor": 4
}