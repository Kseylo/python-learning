{
 "metadata": {
  "language_info": {
   "codemirror_mode": {
    "name": "ipython",
    "version": 3
   },
   "file_extension": ".py",
   "mimetype": "text/x-python",
   "name": "python",
   "nbconvert_exporter": "python",
   "pygments_lexer": "ipython3",
   "version": "3.8.5-final"
  },
  "orig_nbformat": 2,
  "kernelspec": {
   "name": "python3",
   "display_name": "Python 3",
   "language": "python"
  }
 },
 "nbformat": 4,
 "nbformat_minor": 2,
 "cells": [
  {
   "cell_type": "code",
   "execution_count": 1,
   "metadata": {},
   "outputs": [],
   "source": [
    "S = 'Spam' # создаем 4-символьную строку и присваиваем ее \"S\""
   ]
  },
  {
   "cell_type": "code",
   "execution_count": 5,
   "metadata": {},
   "outputs": [
    {
     "output_type": "execute_result",
     "data": {
      "text/plain": [
       "'S'"
      ]
     },
     "metadata": {},
     "execution_count": 5
    }
   ],
   "source": [
    "len(S) #длина строки\n",
    "S[0] # символ под индексом 0"
   ]
  },
  {
   "cell_type": "code",
   "execution_count": 6,
   "metadata": {},
   "outputs": [
    {
     "output_type": "execute_result",
     "data": {
      "text/plain": [
       "'m'"
      ]
     },
     "metadata": {},
     "execution_count": 6
    }
   ],
   "source": [
    "S[-1] #также мы можем индексировать в обратно направлении, в таком случае -1 элемент это последний символ в строке"
   ]
  },
  {
   "cell_type": "code",
   "execution_count": 8,
   "metadata": {},
   "outputs": [
    {
     "output_type": "execute_result",
     "data": {
      "text/plain": [
       "'m'"
      ]
     },
     "metadata": {},
     "execution_count": 8
    }
   ],
   "source": [
    "S[len(S)-1] #отрицательная индексация сложный путь"
   ]
  },
  {
   "cell_type": "code",
   "execution_count": 10,
   "metadata": {},
   "outputs": [
    {
     "output_type": "execute_result",
     "data": {
      "text/plain": [
       "'pa'"
      ]
     },
     "metadata": {},
     "execution_count": 10
    }
   ],
   "source": [
    "S[1:3] #срез S со смещения 1 до 2( не 3)"
   ]
  },
  {
   "cell_type": "code",
   "execution_count": 11,
   "metadata": {},
   "outputs": [
    {
     "output_type": "execute_result",
     "data": {
      "text/plain": [
       "'pam'"
      ]
     },
     "metadata": {},
     "execution_count": 11
    }
   ],
   "source": [
    "S[1:] #все после первого элемента(1:len(S))"
   ]
  },
  {
   "cell_type": "code",
   "execution_count": 13,
   "metadata": {},
   "outputs": [
    {
     "output_type": "execute_result",
     "data": {
      "text/plain": [
       "'Spam'"
      ]
     },
     "metadata": {},
     "execution_count": 13
    }
   ],
   "source": [
    "S # сама строка S не меняется"
   ]
  },
  {
   "cell_type": "code",
   "execution_count": 14,
   "metadata": {},
   "outputs": [
    {
     "output_type": "execute_result",
     "data": {
      "text/plain": [
       "'Spa'"
      ]
     },
     "metadata": {},
     "execution_count": 14
    }
   ],
   "source": [
    "S[0:3]"
   ]
  },
  {
   "cell_type": "code",
   "execution_count": 15,
   "metadata": {},
   "outputs": [
    {
     "output_type": "execute_result",
     "data": {
      "text/plain": [
       "'Spa'"
      ]
     },
     "metadata": {},
     "execution_count": 15
    }
   ],
   "source": [
    "S[:3] #то же, что и S[0 : 3]"
   ]
  },
  {
   "cell_type": "code",
   "execution_count": 16,
   "metadata": {},
   "outputs": [
    {
     "output_type": "execute_result",
     "data": {
      "text/plain": [
       "'Spa'"
      ]
     },
     "metadata": {},
     "execution_count": 16
    }
   ],
   "source": [
    "S[:-1] #(0:-1)"
   ]
  },
  {
   "cell_type": "code",
   "execution_count": 17,
   "metadata": {},
   "outputs": [
    {
     "output_type": "execute_result",
     "data": {
      "text/plain": [
       "'Spam'"
      ]
     },
     "metadata": {},
     "execution_count": 17
    }
   ],
   "source": [
    "S[:] # вся строка S (0:len(S))"
   ]
  },
  {
   "cell_type": "code",
   "execution_count": 18,
   "metadata": {},
   "outputs": [
    {
     "output_type": "execute_result",
     "data": {
      "text/plain": [
       "'Spamxyz'"
      ]
     },
     "metadata": {},
     "execution_count": 18
    }
   ],
   "source": [
    "S + 'xyz' #конкатенация строк"
   ]
  },
  {
   "cell_type": "code",
   "execution_count": 20,
   "metadata": {},
   "outputs": [
    {
     "output_type": "execute_result",
     "data": {
      "text/plain": [
       "'Spam'"
      ]
     },
     "metadata": {},
     "execution_count": 20
    }
   ],
   "source": [
    "S #сама S при этом не изменяется"
   ]
  },
  {
   "cell_type": "code",
   "execution_count": 21,
   "metadata": {},
   "outputs": [],
   "source": [
    "#Строки в Python являются неизменяемыми, после их создания их нельзя модифицировать на месте"
   ]
  },
  {
   "cell_type": "code",
   "execution_count": 22,
   "metadata": {},
   "outputs": [
    {
     "output_type": "error",
     "ename": "TypeError",
     "evalue": "'str' object does not support item assignment",
     "traceback": [
      "\u001b[1;31m---------------------------------------------------------------------------\u001b[0m",
      "\u001b[1;31mTypeError\u001b[0m                                 Traceback (most recent call last)",
      "\u001b[1;32m<ipython-input-22-0db6cb5bde2e>\u001b[0m in \u001b[0;36m<module>\u001b[1;34m\u001b[0m\n\u001b[1;32m----> 1\u001b[1;33m \u001b[0mS\u001b[0m\u001b[1;33m[\u001b[0m\u001b[1;36m0\u001b[0m\u001b[1;33m]\u001b[0m \u001b[1;33m=\u001b[0m \u001b[1;34m'z'\u001b[0m\u001b[1;33m\u001b[0m\u001b[1;33m\u001b[0m\u001b[0m\n\u001b[0m",
      "\u001b[1;31mTypeError\u001b[0m: 'str' object does not support item assignment"
     ]
    }
   ],
   "source": [
    "S[0] = 'z' #получаем ошибку"
   ]
  },
  {
   "cell_type": "code",
   "execution_count": 25,
   "metadata": {},
   "outputs": [
    {
     "output_type": "execute_result",
     "data": {
      "text/plain": [
       "'zpam'"
      ]
     },
     "metadata": {},
     "execution_count": 25
    }
   ],
   "source": [
    "S = 'z' + S[1:] #Но мы можем выполнять выражения для создания новых объектов\n",
    "S"
   ]
  },
  {
   "cell_type": "code",
   "execution_count": 26,
   "metadata": {},
   "outputs": [
    {
     "output_type": "execute_result",
     "data": {
      "text/plain": [
       "['s', 'h', 'r', 'u', 'b', 'e', 'r', 'r', 'y']"
      ]
     },
     "metadata": {},
     "execution_count": 26
    }
   ],
   "source": [
    "S = 'shruberry'\n",
    "L = list(S) # развернуть в список\n",
    "L"
   ]
  },
  {
   "cell_type": "code",
   "execution_count": 31,
   "metadata": {},
   "outputs": [
    {
     "output_type": "execute_result",
     "data": {
      "text/plain": [
       "'scruberry'"
      ]
     },
     "metadata": {},
     "execution_count": 31
    }
   ],
   "source": [
    "L[1] = 'c' #Можно изменить если развернуть в список,т.к списки, словари и модифицируются\n",
    "''.join(L) #объединить с пустым разделителем    "
   ]
  },
  {
   "cell_type": "code",
   "execution_count": 39,
   "metadata": {},
   "outputs": [
    {
     "output_type": "execute_result",
     "data": {
      "text/plain": [
       "bytearray(b'spameggs')"
      ]
     },
     "metadata": {},
     "execution_count": 39
    }
   ],
   "source": [
    "B = bytearray(b'spam') #гибрид байтов\\ списка\n",
    "B.extend(b'eggs')\n",
    "B\n",
    " #Тип bytearray поддерживает изменения на месте для текста, но только в отноше­нии символов, которые имеют ширину не более 8 битов (скажем, ASCII). Все остальные строки по-прежнему неизменяемы — bytearray представляет собой особый гиб­рид неизменяемых байтовых строк"
   ]
  },
  {
   "cell_type": "code",
   "execution_count": 37,
   "metadata": {},
   "outputs": [
    {
     "output_type": "execute_result",
     "data": {
      "text/plain": [
       "'spameggs'"
      ]
     },
     "metadata": {},
     "execution_count": 37
    }
   ],
   "source": [
    "B.decode() #преобразовать в обычную строку"
   ]
  },
  {
   "cell_type": "code",
   "execution_count": 41,
   "metadata": {},
   "outputs": [
    {
     "output_type": "execute_result",
     "data": {
      "text/plain": [
       "1"
      ]
     },
     "metadata": {},
     "execution_count": 41
    }
   ],
   "source": [
    "s = 'spam'\n",
    "s.find('pa') #найти смещение в S"
   ]
  },
  {
   "cell_type": "code",
   "execution_count": 43,
   "metadata": {},
   "outputs": [
    {
     "output_type": "execute_result",
     "data": {
      "text/plain": [
       "'spam'"
      ]
     },
     "metadata": {},
     "execution_count": 43
    }
   ],
   "source": [
    "s"
   ]
  },
  {
   "cell_type": "code",
   "execution_count": 45,
   "metadata": {},
   "outputs": [
    {
     "output_type": "execute_result",
     "data": {
      "text/plain": [
       "'sxyzm'"
      ]
     },
     "metadata": {},
     "execution_count": 45
    }
   ],
   "source": [
    "s.replace('pa','xyz') #замегить вхождение подстроки в s другой подстрокой"
   ]
  },
  {
   "cell_type": "code",
   "execution_count": 47,
   "metadata": {},
   "outputs": [
    {
     "output_type": "execute_result",
     "data": {
      "text/plain": [
       "'spam'"
      ]
     },
     "metadata": {},
     "execution_count": 47
    }
   ],
   "source": [
    "s"
   ]
  },
  {
   "cell_type": "code",
   "execution_count": 51,
   "metadata": {},
   "outputs": [
    {
     "output_type": "execute_result",
     "data": {
      "text/plain": [
       "['aaa', 'bbb', 'cccc', 'dd']"
      ]
     },
     "metadata": {},
     "execution_count": 51
    }
   ],
   "source": [
    "line = 'aaa,bbb,cccc,dd'\n",
    "line.split(',') #разбить по разделителю в список подстрок"
   ]
  },
  {
   "cell_type": "code",
   "execution_count": 52,
   "metadata": {},
   "outputs": [
    {
     "output_type": "execute_result",
     "data": {
      "text/plain": [
       "'SPAM'"
      ]
     },
     "metadata": {},
     "execution_count": 52
    }
   ],
   "source": [
    "s = 'spam'\n",
    "s.upper() #преобразовывает в верхний и нижний регистры  "
   ]
  },
  {
   "cell_type": "code",
   "execution_count": 53,
   "metadata": {},
   "outputs": [
    {
     "output_type": "execute_result",
     "data": {
      "text/plain": [
       "True"
      ]
     },
     "metadata": {},
     "execution_count": 53
    }
   ],
   "source": [
    "s.isalpha()# Возвращает True если s содержит алфавитные. isdigit и т.д."
   ]
  },
  {
   "cell_type": "code",
   "execution_count": 57,
   "metadata": {},
   "outputs": [
    {
     "output_type": "execute_result",
     "data": {
      "text/plain": [
       "'aaa,bbb,cccc,dd'"
      ]
     },
     "metadata": {},
     "execution_count": 57
    }
   ],
   "source": [
    "line = 'aaa,bbb,cccc,dd\\n'\n",
    "line.rstrip() #удаляет пробельные символы с правой стороны"
   ]
  },
  {
   "cell_type": "code",
   "execution_count": 58,
   "metadata": {},
   "outputs": [
    {
     "output_type": "execute_result",
     "data": {
      "text/plain": [
       "['aaa', 'bbb', 'cccc', 'dd']"
      ]
     },
     "metadata": {},
     "execution_count": 58
    }
   ],
   "source": [
    "line.rstrip().split(',') #скомбинировать две операции"
   ]
  },
  {
   "cell_type": "code",
   "execution_count": 59,
   "metadata": {},
   "outputs": [
    {
     "output_type": "execute_result",
     "data": {
      "text/plain": [
       "'spam, eggs and SPAM!'"
      ]
     },
     "metadata": {},
     "execution_count": 59
    }
   ],
   "source": [
    "'%s, eggs and %s' % ('spam', 'SPAM!') #выражение форматирования"
   ]
  },
  {
   "cell_type": "code",
   "execution_count": 61,
   "metadata": {},
   "outputs": [
    {
     "output_type": "execute_result",
     "data": {
      "text/plain": [
       "'3.14 | -0042'"
      ]
     },
     "metadata": {},
     "execution_count": 61
    }
   ],
   "source": [
    "'{:,.2f}'.format(296999.2567) #раздеители, десятичные цифры\n",
    "'%.2f | %   +05d' % (3.14159, -42) #цифры, дополнение, знаки"
   ]
  },
  {
   "cell_type": "code",
   "execution_count": 64,
   "metadata": {},
   "outputs": [],
   "source": [
    "# dir(s) #функция dir возвращает список всех атрибутов, доступных для любого переданного ей объекта. Поскольку ме­тоды являются функциональными атрибутами, они будут присутствовать в таком спис­ке.\n"
   ]
  },
  {
   "cell_type": "code",
   "execution_count": 66,
   "metadata": {},
   "outputs": [
    {
     "output_type": "execute_result",
     "data": {
      "text/plain": [
       "'spamNI!'"
      ]
     },
     "metadata": {},
     "execution_count": 66
    }
   ],
   "source": [
    "s + 'NI!'"
   ]
  },
  {
   "cell_type": "code",
   "execution_count": 68,
   "metadata": {},
   "outputs": [
    {
     "output_type": "execute_result",
     "data": {
      "text/plain": [
       "'spamNI!'"
      ]
     },
     "metadata": {},
     "execution_count": 68
    }
   ],
   "source": [
    "s.__add__('NI!') #является объектом строк который в действительности выполняет конкатенацию"
   ]
  },
  {
   "cell_type": "code",
   "execution_count": 69,
   "metadata": {},
   "outputs": [],
   "source": [
    "#символы подчеркивания - это шаблон именования, используемый в Python для деталей реализации\n",
    "#имена без символов подчеркивания, выведенные функцией dir,являются вызываемыми методами на объектах строк\n",
    "#функция dir просто выдает имена методов. Чтобы выяснить, что делает тот или иной метод, его имя можно передать функции help:"
   ]
  },
  {
   "cell_type": "code",
   "execution_count": 72,
   "metadata": {},
   "outputs": [
    {
     "output_type": "stream",
     "name": "stdout",
     "text": [
      "Help on built-in function replace:\n\nreplace(old, new, count=-1, /) method of builtins.str instance\n    Return a copy with all occurrences of substring old replaced by new.\n    \n      count\n        Maximum number of occurrences to replace.\n        -1 (the default value) means replace all occurrences.\n    \n    If the optional argument count is given, only the first count occurrences are\n    replaced.\n\n"
     ]
    }
   ],
   "source": [
    "help(s.replace) #справка по функции replace"
   ]
  },
  {
   "cell_type": "code",
   "execution_count": 77,
   "metadata": {},
   "outputs": [
    {
     "output_type": "execute_result",
     "data": {
      "text/plain": [
       "'A\\nB\\tC'"
      ]
     },
     "metadata": {},
     "execution_count": 77
    }
   ],
   "source": [
    "s = 'A\\nB\\tC' #n\\ конец строки \\t табуляция\n",
    "len(s) #как \\n так и \\t являются только одним символом"
   ]
  },
  {
   "cell_type": "code",
   "execution_count": 78,
   "metadata": {},
   "outputs": [
    {
     "output_type": "execute_result",
     "data": {
      "text/plain": [
       "<function ord(c, /)>"
      ]
     },
     "metadata": {},
     "execution_count": 78
    }
   ],
   "source": [
    "ord('\\n') #\\n один символ, кодируемый как десятичное значение 10"
   ]
  },
  {
   "cell_type": "code",
   "execution_count": 80,
   "metadata": {},
   "outputs": [
    {
     "output_type": "execute_result",
     "data": {
      "text/plain": [
       "5"
      ]
     },
     "metadata": {},
     "execution_count": 80
    }
   ],
   "source": [
    "s = 'a\\0b\\0c' #\\0, байт с двоисными нулями, не завершает строку\n",
    "len(s)"
   ]
  },
  {
   "cell_type": "code",
   "execution_count": 81,
   "metadata": {},
   "outputs": [
    {
     "output_type": "execute_result",
     "data": {
      "text/plain": [
       "'a\\x00b\\x00c'"
      ]
     },
     "metadata": {},
     "execution_count": 81
    }
   ],
   "source": [
    "s # Непечатаемые символы отображаются как шестнадцатеричные\n",
    " # управляющие последовательности \\xNN"
   ]
  },
  {
   "cell_type": "code",
   "execution_count": 3,
   "metadata": {},
   "outputs": [
    {
     "output_type": "execute_result",
     "data": {
      "text/plain": [
       "' aaaaaaaaaaa bbb \\'\\'\\' bbbbbbbb \"\" bbbbb \\'bbb cccccc '"
      ]
     },
     "metadata": {},
     "execution_count": 3
    }
   ],
   "source": [
    "msg = \"\"\" aaaaaaaaaaa bbb ''' bbbbbbbb \"\" bbbbb 'bbb cccccc \"\"\"\n",
    "msg # все строки объ­ единяются вместе с добавлением символов конца строки там, где встречаются разры­вы строки.\n"
   ]
  },
  {
   "cell_type": "code",
   "execution_count": 6,
   "metadata": {},
   "outputs": [
    {
     "output_type": "execute_result",
     "data": {
      "text/plain": [
       "'spÄm'"
      ]
     },
     "metadata": {},
     "execution_count": 6
    }
   ],
   "source": [
    "'sp\\xc4m' # обычные строки str являются текстом unicode"
   ]
  },
  {
   "cell_type": "code",
   "execution_count": 9,
   "metadata": {},
   "outputs": [
    {
     "output_type": "error",
     "ename": "SyntaxError",
     "evalue": "invalid syntax (<ipython-input-9-befc3efed789>, line 1)",
     "traceback": [
      "\u001b[1;36m  File \u001b[1;32m\"<ipython-input-9-befc3efed789>\"\u001b[1;36m, line \u001b[1;32m1\u001b[0m\n\u001b[1;33m    b 'a\\x01c' #строки bytes это данные основанные на байтах\u001b[0m\n\u001b[1;37m      ^\u001b[0m\n\u001b[1;31mSyntaxError\u001b[0m\u001b[1;31m:\u001b[0m invalid syntax\n"
     ]
    }
   ],
   "source": [
    "b'a\\x01c' #строки bytes это данные основанные на байтах"
   ]
  },
  {
   "cell_type": "code",
   "execution_count": 11,
   "metadata": {},
   "outputs": [
    {
     "output_type": "execute_result",
     "data": {
      "text/plain": [
       "'spÄm'"
      ]
     },
     "metadata": {},
     "execution_count": 11
    }
   ],
   "source": [
    "u'sp\\u00c4m' #литералы unicode  работают как строка str"
   ]
  },
  {
   "cell_type": "code",
   "execution_count": 15,
   "metadata": {},
   "outputs": [
    {
     "output_type": "execute_result",
     "data": {
      "text/plain": [
       "'a\\x01c'"
      ]
     },
     "metadata": {},
     "execution_count": 15
    }
   ],
   "source": [
    "'a\\x01c' #обычные строки str содержат текст\\данные"
   ]
  },
  {
   "cell_type": "code",
   "execution_count": 16,
   "metadata": {},
   "outputs": [
    {
     "output_type": "execute_result",
     "data": {
      "text/plain": [
       "'spam'"
      ]
     },
     "metadata": {},
     "execution_count": 16
    }
   ],
   "source": [
    "'spam' # символы могут занимать 1, 2 или 4 байта в памяти"
   ]
  },
  {
   "cell_type": "code",
   "execution_count": 17,
   "metadata": {},
   "outputs": [
    {
     "output_type": "execute_result",
     "data": {
      "text/plain": [
       "b'spam'"
      ]
     },
     "metadata": {},
     "execution_count": 17
    }
   ],
   "source": [
    "'spam'.encode('utf8') #в utf-8 кодируется как 4 байта в файлах"
   ]
  },
  {
   "cell_type": "code",
   "execution_count": 19,
   "metadata": {},
   "outputs": [
    {
     "output_type": "execute_result",
     "data": {
      "text/plain": [
       "b'\\xff\\xfes\\x00p\\x00a\\x00m\\x00'"
      ]
     },
     "metadata": {},
     "execution_count": 19
    }
   ],
   "source": [
    "'spam'.encode('utf16') #но в utf16  кодируется как 10 байтов"
   ]
  },
  {
   "cell_type": "code",
   "execution_count": 20,
   "metadata": {},
   "outputs": [
    {
     "output_type": "execute_result",
     "data": {
      "text/plain": [
       "'spÄÄÄm'"
      ]
     },
     "metadata": {},
     "execution_count": 20
    }
   ],
   "source": [
    "'sp\\xc4\\u00c4\\U000000c4m'"
   ]
  },
  {
   "cell_type": "code",
   "execution_count": 22,
   "metadata": {},
   "outputs": [
    {
     "output_type": "stream",
     "name": "stdout",
     "text": [
      "Иван\n"
     ]
    }
   ],
   "source": [
    "    "
   ]
  },
  {
   "cell_type": "code",
   "execution_count": 25,
   "metadata": {},
   "outputs": [
    {
     "output_type": "execute_result",
     "data": {
      "text/plain": [
       "' Python '"
      ]
     },
     "metadata": {},
     "execution_count": 25
    }
   ],
   "source": [
    "import re #импортирую модуль re\n",
    "match = re.match('Hello [\\t]*(.*)world','Hello  Python world') #поиск подстроки, начинающейся со слова Hello, за кото­рым следует ноль или более табуляций либо пробелов, затем произвольные символы, подлежащие сохранению в качестве группы совпадения, и завершаются они словом world. Если такая подстрока будет найдена, тогда ее части, которые соответствуют частям образца, заключенным в круглые скобки, окажутся доступными в виде групп.\n",
    "match.group(1) #вывод полученной группы\n"
   ]
  },
  {
   "cell_type": "code",
   "execution_count": 31,
   "metadata": {},
   "outputs": [
    {
     "output_type": "execute_result",
     "data": {
      "text/plain": [
       "('usr', 'home', 'lumberjack')"
      ]
     },
     "metadata": {},
     "execution_count": 31
    }
   ],
   "source": [
    " match = re.match('[/:](.*)[/:](.*)[/:](.*)', '/usr/home:lumberjack') # должно выбрать три группы разделенные символами косой черты или двоеточия\n",
    "match.groups() # выводит 3 группы"
   ]
  },
  {
   "cell_type": "code",
   "execution_count": 32,
   "metadata": {},
   "outputs": [
    {
     "output_type": "execute_result",
     "data": {
      "text/plain": [
       "['', 'usr', 'home', 'lumberjack']"
      ]
     },
     "metadata": {},
     "execution_count": 32
    }
   ],
   "source": [
    "re.split('[/:]','/usr/home/lumberjack')"
   ]
  },
  {
   "source": [
    "# https://i.imgur.com/esPT634.png таблица распространненых строковых литералов и операций\n",
    "# https://i.imgur.com/ezqnPL7.png"
   ],
   "cell_type": "markdown",
   "metadata": {}
  },
  {
   "cell_type": "code",
   "execution_count": null,
   "metadata": {},
   "outputs": [],
   "source": [
    "s = '' #пустая строка\n",
    "s = \"spam's\" #двойные кавычки, то же самое, что и одинарные\n",
    "s = 's\\np\\ta\\x00m' #управляющие последовательности\n",
    "s = \"\"\"...много строк...\"\"\" #блочные строки в утроенных кавычках\n",
    "s = r'\\temp\\spam' #нформатированные строки(без управляющий символов)\n",
    "b = b'sp\\xc4m' #байтовые строки\n",
    "u = u'sp\\u00c4m' #строки unicode\n",
    "s1 + s2 #конкатенация\n",
    "s * 3 #повторени\n",
    "s[i] #индекс\n",
    "s[i:j] #срез\n",
    "len(s) #длина\n",
    "\"a %s parrot\". % kind #выражение форматирования строки\n",
    "\"a {0} parrot\".format (kind)s.find('pa') #метод форматирования строки\n",
    "s.find('pa') #строковый метод поиск\n",
    "s.rstrip() #удаление пробельных символов\n",
    "s.replace('pa','xx') #замена\n",
    "s.split(',') #разбиение по разделителю\n",
    "s.isdigit() #проверка содержимого\n",
    "s.lower() #преобразование регистра символов\n",
    "s.endswith('spam') #проверка конца\n",
    "'spam'.join(strlist) #объединение с разделителем\n",
    "s.encode('latin-1') #кодирование unicode\n",
    "b.decode('utf8') #декодирование unicode\n",
    "for x in s: print(x) #итерация, членство\n",
    "'spam' in s\n",
    "[c * 2 for c in s]\n",
    "map(ord, s)\n",
    "re.match('sp(.*)am',line) #сопоставление с образцом: библиотечный модуль"
   ]
  },
  {
   "source": [
    "# Строковые литералы. Строк в одинарных и двойных кавычках являются одинаковыми"
   ],
   "cell_type": "markdown",
   "metadata": {}
  },
  {
   "cell_type": "code",
   "execution_count": 3,
   "metadata": {},
   "outputs": [
    {
     "output_type": "stream",
     "name": "stdout",
     "text": [
      "shrubbery\nshrubbery\nknight\"s\nknight's\n"
     ]
    }
   ],
   "source": [
    "print('shrubbery')\n",
    "print(\"shrubbery\")\n",
    "#причина поддержики обеих форм связана с тем, что она позволяет внедрять символ кавычки другого вида внутрь строки, не отменяя его с помощью обратной косой черты\n",
    "'knight\"s',\"knight's\" #запятая важна, без нее строки выполняют автоматическую конкатенацию"
   ]
  },
  {
   "cell_type": "code",
   "execution_count": 4,
   "metadata": {},
   "outputs": [
    {
     "output_type": "execute_result",
     "data": {
      "text/plain": [
       "'MeaningofLife'"
      ]
     },
     "metadata": {},
     "execution_count": 4
    }
   ],
   "source": [
    "title = \"Meaning\" 'of' \"Life\" #неявная конкатенация\n",
    "title"
   ]
  },
  {
   "cell_type": "code",
   "execution_count": 5,
   "metadata": {},
   "outputs": [
    {
     "output_type": "execute_result",
     "data": {
      "text/plain": [
       "(\"knight's\", 'knight\"s')"
      ]
     },
     "metadata": {},
     "execution_count": 5
    }
   ],
   "source": [
    "'knight\\'s', \"knight\\\"s\" #При необходимости можно внедрять символы кавычек, отменяя их посредством обратной косой черты"
   ]
  },
  {
   "source": [
    "# Управляющие последовательности представляют специальные символы"
   ],
   "cell_type": "markdown",
   "metadata": {}
  },
  {
   "cell_type": "code",
   "execution_count": 9,
   "metadata": {},
   "outputs": [
    {
     "output_type": "stream",
     "name": "stdout",
     "text": [
      "a\nb\tc\n"
     ]
    },
    {
     "output_type": "execute_result",
     "data": {
      "text/plain": [
       "5"
      ]
     },
     "metadata": {},
     "execution_count": 9
    }
   ],
   "source": [
    "s = 'a\\nb\\tc'\n",
    "#два символа \\n обозначают одиночный символ - двоичное значение символа новой строки\n",
    "#последовательност \\t заменяется символом табуляции\n",
    "s\n",
    "print(s) #то, как строка будет выглядеть при выводе, зависит от способа ее вывода\n",
    "len(s) #возвращает фактическое количество символов в строке независимо от того, каким образом они кодируются или отображаются.строка имеет длину 5 символов, a,n,b,t,c, символ \\ не учитывается, он не хранится в памяти, используется лишь для описания значений специальных символов"
   ]
  },
  {
   "source": [
    "#\\новая строка игнорируется(строк продолжения)\n",
    "#\\\\ обратная косая черта(сохраняет один символ \\)\n",
    "#\\' (одинарная кавычка(сохраняет '))\n",
    "#\\\" двойная кавычка (сохраняет \")\n",
    "#\\a звонок\n",
    "#\\и забой\n",
    "#\\f перевод страницы\n",
    "#\\n новая строка(перевод строки)\n",
    "#\\r возврат каретки\n",
    "#\\t горизонтальная табуляция\n",
    "#\\v вертикальная табуляция\n",
    "#\\xhh символ с шестнадцатеричным значением hh(точно 2 цифры)\n",
    "#\\ooo символ с восьмеричным значением ooo(до 3 цифр)\n",
    "#\\0 пустой: двоичный символ 0 ( не конец строки)\n",
    "#\\N { идентификатор } идентификатор базы данных unicode\n",
    "#\\uhhhh символ unicode c 16-битным шестнадцатричным значением\n",
    "#\\Uhhhhhhh символ unicode с 32-битным шестнадцатеричным значением\n",
    "#\\остальное не управляющая последовательность(сохраняет \\и остальное)"
   ],
   "cell_type": "code",
   "metadata": {},
   "execution_count": null,
   "outputs": []
  },
  {
   "cell_type": "code",
   "execution_count": 4,
   "metadata": {},
   "outputs": [
    {
     "output_type": "stream",
     "name": "stdout",
     "text": [
      "a\u0000b\u0000c\n"
     ]
    }
   ],
   "source": [
    "s = 'a\\0b\\0c' #два символа с нулевым двоичным значением\n",
    "s\n",
    "len(s)\n",
    "print(s)"
   ]
  },
  {
   "cell_type": "code",
   "execution_count": 5,
   "metadata": {},
   "outputs": [
    {
     "output_type": "execute_result",
     "data": {
      "text/plain": [
       "3"
      ]
     },
     "metadata": {},
     "execution_count": 5
    }
   ],
   "source": [
    "s = '\\001\\002\\x03'\n",
    "s #отображает непечатаемые двоичные коды в шестнадцатеричной форме\n",
    "len(s)"
   ]
  },
  {
   "cell_type": "code",
   "execution_count": 8,
   "metadata": {},
   "outputs": [
    {
     "output_type": "stream",
     "name": "stdout",
     "text": [
      "s\tp\na\u0000m\n"
     ]
    }
   ],
   "source": [
    "s = \"s\\tp\\na\\x00m\" #можно комбинировать абсолютные управляющие коды и символические управляющие\n",
    "s\n",
    "len(s)\n",
    "print(s)"
   ]
  },
  {
   "cell_type": "code",
   "execution_count": null,
   "metadata": {},
   "outputs": [],
   "source": [
    "x = \"C:\\py\\code\" #сохраняет \\ буквально, не распознал никакой управляющей "
   ]
  },
  {
   "source": [
    "# Неформатированные строки"
   ],
   "cell_type": "markdown",
   "metadata": {}
  },
  {
   "cell_type": "code",
   "execution_count": 11,
   "metadata": {},
   "outputs": [
    {
     "output_type": "stream",
     "name": "stdout",
     "text": [
      "C:\\new\\text.dat\n"
     ]
    },
    {
     "output_type": "execute_result",
     "data": {
      "text/plain": [
       "15"
      ]
     },
     "metadata": {},
     "execution_count": 11
    }
   ],
   "source": [
    "# myfile = open(’С:\\new\\text.dat', ’w') попытка открыть подобное, ни к чему не приведет, срабоает символ новой строки и табуляция\n",
    "#myfile = open(r'C:\\new\\text.dat', 'w') #а этот сработает, r отключает механизм отмены  и python сохраняет символ обратной косой черты\n",
    "#myfile = open(’С:\\\\new\\\\text.dat', ’w’) #тоже сработает, 2 косые представляют собой управляющую последовательность для одной косой\n",
    "path = r'C:\\new\\text.dat'\n",
    "path #отображает в формате как в коде python\n",
    "print(path) #отображает в формате дружественном пользователю\n",
    "len(path)"
   ]
  },
  {
   "cell_type": "code",
   "execution_count": 20,
   "metadata": {},
   "outputs": [
    {
     "output_type": "execute_result",
     "data": {
      "text/plain": [
       "'always look #утроенные кавычки сохраняют весь находящийся между ними текст, даже комментарии\\n on the bright\\nside of life.'"
      ]
     },
     "metadata": {},
     "execution_count": 20
    }
   ],
   "source": [
    "mantra = \"\"\"always look #утроенные кавычки сохраняют весь находящийся между ними текст, даже комментарии\n",
    " on the bright\n",
    "side of life.\"\"\"\n",
    "mantra"
   ]
  },
  {
   "cell_type": "code",
   "execution_count": 19,
   "metadata": {},
   "outputs": [
    {
     "output_type": "stream",
     "name": "stdout",
     "text": [
      "always look #утроенные кавычки сохраняют весь находящийся между ними текст \n on the bright\nside of life.\n"
     ]
    }
   ],
   "source": [
    "print(mantra)"
   ]
  },
  {
   "cell_type": "code",
   "execution_count": 21,
   "metadata": {},
   "outputs": [],
   "source": [
    "x = 1\n",
    "\"\"\"\n",
    "import os\n",
    "print(os.getcwd()) #временно отключает этот код\n",
    "\"\"\"\n",
    "y = 2"
   ]
  },
  {
   "cell_type": "code",
   "execution_count": 23,
   "metadata": {},
   "outputs": [
    {
     "output_type": "stream",
     "name": "stdout",
     "text": [
      "3\nabcdef\nNi!Ni!Ni!Ni!\n--------------------------------------------------------------------------------\n"
     ]
    }
   ],
   "source": [
    "print(len('abc'))#длина строки\n",
    "print('abc' + 'def')#конкатенация строк\n",
    "print('Ni!' * 4) #повторение\n",
    "print('-' * 80)"
   ]
  },
  {
   "cell_type": "code",
   "execution_count": 32,
   "metadata": {},
   "outputs": [
    {
     "output_type": "stream",
     "name": "stdout",
     "text": [
      "d e v  \nTrue\nFalse\n"
     ]
    },
    {
     "output_type": "execute_result",
     "data": {
      "text/plain": [
       "True"
      ]
     },
     "metadata": {},
     "execution_count": 32
    }
   ],
   "source": [
    "myjob = \"dev\"\n",
    "for c in myjob:\n",
    "    print(c, end=' ')#проход по элементам с вывода каждого\n",
    "\n",
    "print(\" \")   \n",
    "print('d' in myjob) #символ найден, вернулся true\n",
    "print('z' in myjob) #не найден, вернулся false\n",
    "'spam' in 'abcdspamdef' #поиск подстроки без возвращения позиции"
   ]
  },
  {
   "source": [
    "# индексация и нарезание"
   ],
   "cell_type": "markdown",
   "metadata": {}
  },
  {
   "cell_type": "code",
   "execution_count": 50,
   "metadata": {},
   "outputs": [
    {
     "output_type": "stream",
     "name": "stdout",
     "text": [
      "s a\npa pam spa\nbdfhi\nacegkjp\nolleh\nfedc\npa\npa\nmaps\nmaps\n"
     ]
    }
   ],
   "source": [
    "s = 'spam'\n",
    "print(s[0],s[-2]) #индексация с начала или с конца\n",
    "print(s[1:3],s[1:],s[:-1]) #нарезание, извлечение сегмента\n",
    "#X[I:J:K] третий элемент - страйд(шаг). Извлечь все элементы в x, начиная со смещения i и заканчивая смещение j-1, с шагом k\n",
    "#X[1:10:2] будет извлекать каждый второй элемент из x в рамках смещения 1-9, т.е. он накопит 1,3,5,7,9\n",
    "#Первый и второй элемент по умолчанию получают 0,так что запись x[::2] #получает каждый второй элемент с начала и до конца последовательности\n",
    "s = 'abcdefghkijop'\n",
    "print(s[1:10:2]) #пропуск элементов Начинаем с 1 элемента, с шагом в 2, отрезаем на 10 элементе\n",
    "print(s[::2])\n",
    "s = 'hello'\n",
    "print(s[::-1]) #смена порядка следования элементов на противоположный\n",
    "s = 'abcdefg'\n",
    "print(s[5:1:-1]) #при отрицательном страйд смысл границ изменяется на противоположный,Извлекает элементы со второго по 5 в обратном порядке\n",
    "s = 'spam'\n",
    "print(s[1:3]) #синтаксис нарезания\n",
    "print(s[slice(1,3)]) #индксация посредством объектов срезов\n",
    "print(s[::-1])\n",
    "print(s[slice(None,None,-1)])"
   ]
  },
  {
   "source": [
    "# инструменты преобразования строк"
   ],
   "cell_type": "markdown",
   "metadata": {}
  },
  {
   "cell_type": "code",
   "execution_count": 54,
   "metadata": {},
   "outputs": [
    {
     "output_type": "execute_result",
     "data": {
      "text/plain": [
       "'42'"
      ]
     },
     "metadata": {},
     "execution_count": 54
    }
   ],
   "source": [
    "int(\"42\") #преобразование из строки\n",
    "str(42) #преобразование в строку\n",
    "repr(42) #преобразование в строку в том виде в каком она представлена в коде"
   ]
  },
  {
   "source": [
    "# преобразование кодов символов"
   ],
   "cell_type": "markdown",
   "metadata": {}
  },
  {
   "cell_type": "code",
   "execution_count": 57,
   "metadata": {},
   "outputs": [
    {
     "output_type": "execute_result",
     "data": {
      "text/plain": [
       "115"
      ]
     },
     "metadata": {},
     "execution_count": 57
    }
   ],
   "source": [
    "ord('s') #возвращает действительное двоичное значение \n",
    "chr(115) #выполняет обратное преобразование "
   ]
  },
  {
   "cell_type": "code",
   "execution_count": null,
   "metadata": {},
   "outputs": [],
   "source": []
  }
 ]
}