{
 "metadata": {
  "language_info": {
   "codemirror_mode": {
    "name": "ipython",
    "version": 3
   },
   "file_extension": ".py",
   "mimetype": "text/x-python",
   "name": "python",
   "nbconvert_exporter": "python",
   "pygments_lexer": "ipython3",
   "version": "3.8.5-final"
  },
  "orig_nbformat": 2,
  "kernelspec": {
   "name": "python3",
   "display_name": "Python 3",
   "language": "python"
  }
 },
 "nbformat": 4,
 "nbformat_minor": 2,
 "cells": [
  {
   "cell_type": "code",
   "execution_count": null,
   "metadata": {},
   "outputs": [],
   "source": [
    "S = 'Spam' # создаем 4-символьную строку и присваиваем ее \"S\""
   ]
  },
  {
   "cell_type": "code",
   "execution_count": null,
   "metadata": {},
   "outputs": [],
   "source": [
    "len(S) #длина строки\n",
    "S[0] # символ под индексом 0"
   ]
  },
  {
   "cell_type": "code",
   "execution_count": null,
   "metadata": {},
   "outputs": [],
   "source": [
    "S[-1] #также мы можем индексировать в обратно направлении, в таком случае -1 элемент это последний символ в строке"
   ]
  },
  {
   "cell_type": "code",
   "execution_count": null,
   "metadata": {},
   "outputs": [],
   "source": [
    "S[len(S)-1] #отрицательная индексация сложный путь"
   ]
  },
  {
   "cell_type": "code",
   "execution_count": null,
   "metadata": {},
   "outputs": [],
   "source": [
    "S[1:3] #срез S со смещения 1 до 2( не 3)"
   ]
  },
  {
   "cell_type": "code",
   "execution_count": null,
   "metadata": {},
   "outputs": [],
   "source": [
    "S[1:] #все после первого элемента(1:len(S))"
   ]
  },
  {
   "cell_type": "code",
   "execution_count": null,
   "metadata": {},
   "outputs": [],
   "source": [
    "S # сама строка S не меняется"
   ]
  },
  {
   "cell_type": "code",
   "execution_count": null,
   "metadata": {},
   "outputs": [],
   "source": [
    "S[0:3]"
   ]
  },
  {
   "cell_type": "code",
   "execution_count": null,
   "metadata": {},
   "outputs": [],
   "source": [
    "S[:3] #то же, что и S[0 : 3]"
   ]
  },
  {
   "cell_type": "code",
   "execution_count": null,
   "metadata": {},
   "outputs": [],
   "source": [
    "S[:-1] #(0:-1)"
   ]
  },
  {
   "cell_type": "code",
   "execution_count": null,
   "metadata": {},
   "outputs": [],
   "source": [
    "S[:] # вся строка S (0:len(S))"
   ]
  },
  {
   "cell_type": "code",
   "execution_count": null,
   "metadata": {},
   "outputs": [],
   "source": [
    "S + 'xyz' #конкатенация строк"
   ]
  },
  {
   "cell_type": "code",
   "execution_count": null,
   "metadata": {},
   "outputs": [],
   "source": [
    "S #сама S при этом не изменяется"
   ]
  },
  {
   "cell_type": "code",
   "execution_count": null,
   "metadata": {},
   "outputs": [],
   "source": [
    "#Строки в Python являются неизменяемыми, после их создания их нельзя модифицировать на месте"
   ]
  },
  {
   "cell_type": "code",
   "execution_count": null,
   "metadata": {},
   "outputs": [],
   "source": [
    "S[0] = 'z' #получаем ошибку"
   ]
  },
  {
   "cell_type": "code",
   "execution_count": null,
   "metadata": {},
   "outputs": [],
   "source": [
    "S = 'z' + S[1:] #Но мы можем выполнять выражения для создания новых объектов\n",
    "S"
   ]
  },
  {
   "cell_type": "code",
   "execution_count": null,
   "metadata": {},
   "outputs": [],
   "source": [
    "S = 'shruberry'\n",
    "L = list(S) # развернуть в список\n",
    "L"
   ]
  },
  {
   "cell_type": "code",
   "execution_count": null,
   "metadata": {},
   "outputs": [],
   "source": [
    "L[1] = 'c' #Можно изменить если развернуть в список,т.к списки, словари и модифицируются\n",
    "''.join(L) #объединить с пустым разделителем    "
   ]
  },
  {
   "cell_type": "code",
   "execution_count": null,
   "metadata": {},
   "outputs": [],
   "source": [
    "B = bytearray(b'spam') #гибрид байтов\\ списка\n",
    "B.extend(b'eggs')\n",
    "B\n",
    " #Тип bytearray поддерживает изменения на месте для текста, но только в отноше­нии символов, которые имеют ширину не более 8 битов (скажем, ASCII). Все остальные строки по-прежнему неизменяемы — bytearray представляет собой особый гиб­рид неизменяемых байтовых строк"
   ]
  },
  {
   "cell_type": "code",
   "execution_count": null,
   "metadata": {},
   "outputs": [],
   "source": [
    "B.decode() #преобразовать в обычную строку"
   ]
  },
  {
   "cell_type": "code",
   "execution_count": null,
   "metadata": {},
   "outputs": [],
   "source": [
    "s = 'spam'\n",
    "s.find('pa') #найти смещение в S"
   ]
  },
  {
   "cell_type": "code",
   "execution_count": null,
   "metadata": {},
   "outputs": [],
   "source": [
    "s"
   ]
  },
  {
   "cell_type": "code",
   "execution_count": null,
   "metadata": {},
   "outputs": [],
   "source": [
    "s.replace('pa','xyz') #замегить вхождение подстроки в s другой подстрокой"
   ]
  },
  {
   "cell_type": "code",
   "execution_count": null,
   "metadata": {},
   "outputs": [],
   "source": [
    "s"
   ]
  },
  {
   "cell_type": "code",
   "execution_count": null,
   "metadata": {},
   "outputs": [],
   "source": [
    "line = 'aaa,bbb,cccc,dd'\n",
    "line.split(',') #разбить по разделителю в список подстрок"
   ]
  },
  {
   "cell_type": "code",
   "execution_count": null,
   "metadata": {},
   "outputs": [],
   "source": [
    "s = 'spam'\n",
    "s.upper() #преобразовывает в верхний и нижний регистры  "
   ]
  },
  {
   "cell_type": "code",
   "execution_count": null,
   "metadata": {},
   "outputs": [],
   "source": [
    "s.isalpha()# Возвращает True если s содержит алфавитные. isdigit и т.д."
   ]
  },
  {
   "cell_type": "code",
   "execution_count": null,
   "metadata": {},
   "outputs": [],
   "source": [
    "line = 'aaa,bbb,cccc,dd\\n'\n",
    "line.rstrip() #удаляет пробельные символы с правой стороны"
   ]
  },
  {
   "cell_type": "code",
   "execution_count": null,
   "metadata": {},
   "outputs": [],
   "source": [
    "line.rstrip().split(',') #скомбинировать две операции"
   ]
  },
  {
   "cell_type": "code",
   "execution_count": null,
   "metadata": {},
   "outputs": [],
   "source": [
    "'%s, eggs and %s' % ('spam', 'SPAM!') #выражение форматирования"
   ]
  },
  {
   "cell_type": "code",
   "execution_count": null,
   "metadata": {},
   "outputs": [],
   "source": [
    "'{:,.2f}'.format(296999.2567) #раздеители, десятичные цифры\n",
    "'%.2f | %   +05d' % (3.14159, -42) #цифры, дополнение, знаки"
   ]
  },
  {
   "cell_type": "code",
   "execution_count": null,
   "metadata": {},
   "outputs": [],
   "source": [
    "# dir(s) #функция dir возвращает список всех атрибутов, доступных для любого переданного ей объекта. Поскольку ме­тоды являются функциональными атрибутами, они будут присутствовать в таком спис­ке.\n"
   ]
  },
  {
   "cell_type": "code",
   "execution_count": null,
   "metadata": {},
   "outputs": [],
   "source": [
    "s + 'NI!'"
   ]
  },
  {
   "cell_type": "code",
   "execution_count": null,
   "metadata": {},
   "outputs": [],
   "source": [
    "s.__add__('NI!') #является объектом строк который в действительности выполняет конкатенацию"
   ]
  },
  {
   "cell_type": "code",
   "execution_count": null,
   "metadata": {},
   "outputs": [],
   "source": [
    "#символы подчеркивания - это шаблон именования, используемый в Python для деталей реализации\n",
    "#имена без символов подчеркивания, выведенные функцией dir,являются вызываемыми методами на объектах строк\n",
    "#функция dir просто выдает имена методов. Чтобы выяснить, что делает тот или иной метод, его имя можно передать функции help:"
   ]
  },
  {
   "cell_type": "code",
   "execution_count": null,
   "metadata": {},
   "outputs": [],
   "source": [
    "help(s.replace) #справка по функции replace"
   ]
  },
  {
   "cell_type": "code",
   "execution_count": null,
   "metadata": {},
   "outputs": [],
   "source": [
    "s = 'A\\nB\\tC' #n\\ конец строки \\t табуляция\n",
    "len(s) #как \\n так и \\t являются только одним символом"
   ]
  },
  {
   "cell_type": "code",
   "execution_count": null,
   "metadata": {},
   "outputs": [],
   "source": [
    "ord('\\n') #\\n один символ, кодируемый как десятичное значение 10"
   ]
  },
  {
   "cell_type": "code",
   "execution_count": null,
   "metadata": {},
   "outputs": [],
   "source": [
    "s = 'a\\0b\\0c' #\\0, байт с двоисными нулями, не завершает строку\n",
    "len(s)"
   ]
  },
  {
   "cell_type": "code",
   "execution_count": null,
   "metadata": {},
   "outputs": [],
   "source": [
    "s # Непечатаемые символы отображаются как шестнадцатеричные\n",
    " # управляющие последовательности \\xNN"
   ]
  },
  {
   "cell_type": "code",
   "execution_count": null,
   "metadata": {},
   "outputs": [],
   "source": [
    "msg = \"\"\" aaaaaaaaaaa bbb ''' bbbbbbbb \"\" bbbbb 'bbb cccccc \"\"\"\n",
    "msg # все строки объ­ единяются вместе с добавлением символов конца строки там, где встречаются разры­вы строки.\n"
   ]
  },
  {
   "cell_type": "code",
   "execution_count": null,
   "metadata": {},
   "outputs": [],
   "source": [
    "'sp\\xc4m' # обычные строки str являются текстом unicode"
   ]
  },
  {
   "cell_type": "code",
   "execution_count": null,
   "metadata": {},
   "outputs": [],
   "source": [
    "b'a\\x01c' #строки bytes это данные основанные на байтах"
   ]
  },
  {
   "cell_type": "code",
   "execution_count": null,
   "metadata": {},
   "outputs": [],
   "source": [
    "u'sp\\u00c4m' #литералы unicode  работают как строка str"
   ]
  },
  {
   "cell_type": "code",
   "execution_count": null,
   "metadata": {},
   "outputs": [],
   "source": [
    "'a\\x01c' #обычные строки str содержат текст\\данные"
   ]
  },
  {
   "cell_type": "code",
   "execution_count": null,
   "metadata": {},
   "outputs": [],
   "source": [
    "'spam' # символы могут занимать 1, 2 или 4 байта в памяти"
   ]
  },
  {
   "cell_type": "code",
   "execution_count": null,
   "metadata": {},
   "outputs": [],
   "source": [
    "'spam'.encode('utf8') #в utf-8 кодируется как 4 байта в файлах"
   ]
  },
  {
   "cell_type": "code",
   "execution_count": null,
   "metadata": {},
   "outputs": [],
   "source": [
    "'spam'.encode('utf16') #но в utf16  кодируется как 10 байтов"
   ]
  },
  {
   "cell_type": "code",
   "execution_count": null,
   "metadata": {},
   "outputs": [],
   "source": [
    "'sp\\xc4\\u00c4\\U000000c4m'"
   ]
  },
  {
   "cell_type": "code",
   "execution_count": null,
   "metadata": {},
   "outputs": [],
   "source": [
    "    "
   ]
  },
  {
   "cell_type": "code",
   "execution_count": null,
   "metadata": {},
   "outputs": [],
   "source": [
    "import re #импортирую модуль re\n",
    "match = re.match('Hello [\\t]*(.*)world','Hello  Python world') #поиск подстроки, начинающейся со слова Hello, за кото­рым следует ноль или более табуляций либо пробелов, затем произвольные символы, подлежащие сохранению в качестве группы совпадения, и завершаются они словом world. Если такая подстрока будет найдена, тогда ее части, которые соответствуют частям образца, заключенным в круглые скобки, окажутся доступными в виде групп.\n",
    "match.group(1) #вывод полученной группы\n"
   ]
  },
  {
   "cell_type": "code",
   "execution_count": null,
   "metadata": {},
   "outputs": [],
   "source": [
    " match = re.match('[/:](.*)[/:](.*)[/:](.*)', '/usr/home:lumberjack') # должно выбрать три группы разделенные символами косой черты или двоеточия\n",
    "match.groups() # выводит 3 группы"
   ]
  },
  {
   "cell_type": "code",
   "execution_count": null,
   "metadata": {},
   "outputs": [],
   "source": [
    "re.split('[/:]','/usr/home/lumberjack')"
   ]
  },
  {
   "source": [
    "# https://i.imgur.com/esPT634.png таблица распространненых строковых литералов и операций\n",
    "# https://i.imgur.com/ezqnPL7.png"
   ],
   "cell_type": "markdown",
   "metadata": {}
  },
  {
   "cell_type": "code",
   "execution_count": null,
   "metadata": {},
   "outputs": [],
   "source": [
    "s = '' #пустая строка\n",
    "s = \"spam's\" #двойные кавычки, то же самое, что и одинарные\n",
    "s = 's\\np\\ta\\x00m' #управляющие последовательности\n",
    "s = \"\"\"...много строк...\"\"\" #блочные строки в утроенных кавычках\n",
    "s = r'\\temp\\spam' #нформатированные строки(без управляющий символов)\n",
    "b = b'sp\\xc4m' #байтовые строки\n",
    "u = u'sp\\u00c4m' #строки unicode\n",
    "s1 + s2 #конкатенация\n",
    "s * 3 #повторени\n",
    "s[i] #индекс\n",
    "s[i:j] #срез\n",
    "len(s) #длина\n",
    "\"a %s parrot\". % kind #выражение форматирования строки\n",
    "\"a {0} parrot\".format (kind)s.find('pa') #метод форматирования строки\n",
    "s.find('pa') #строковый метод поиск\n",
    "s.rstrip() #удаление пробельных символов\n",
    "s.replace('pa','xx') #замена\n",
    "s.split(',') #разбиение по разделителю\n",
    "s.isdigit() #проверка содержимого\n",
    "s.lower() #преобразование регистра символов\n",
    "s.endswith('spam') #проверка конца\n",
    "'spam'.join(strlist) #объединение с разделителем\n",
    "s.encode('latin-1') #кодирование unicode\n",
    "b.decode('utf8') #декодирование unicode\n",
    "for x in s: print(x) #итерация, членство\n",
    "'spam' in s\n",
    "[c * 2 for c in s]\n",
    "map(ord, s)\n",
    "re.match('sp(.*)am',line) #сопоставление с образцом: библиотечный модуль"
   ]
  },
  {
   "source": [
    "# Строковые литералы. Строк в одинарных и двойных кавычках являются одинаковыми"
   ],
   "cell_type": "markdown",
   "metadata": {}
  },
  {
   "cell_type": "code",
   "execution_count": null,
   "metadata": {},
   "outputs": [],
   "source": [
    "print('shrubbery')\n",
    "print(\"shrubbery\")\n",
    "#причина поддержики обеих форм связана с тем, что она позволяет внедрять символ кавычки другого вида внутрь строки, не отменяя его с помощью обратной косой черты\n",
    "'knight\"s',\"knight's\" #запятая важна, без нее строки выполняют автоматическую конкатенацию"
   ]
  },
  {
   "cell_type": "code",
   "execution_count": null,
   "metadata": {},
   "outputs": [],
   "source": [
    "title = \"Meaning\" 'of' \"Life\" #неявная конкатенация\n",
    "title"
   ]
  },
  {
   "cell_type": "code",
   "execution_count": null,
   "metadata": {},
   "outputs": [],
   "source": [
    "'knight\\'s', \"knight\\\"s\" #При необходимости можно внедрять символы кавычек, отменяя их посредством обратной косой черты"
   ]
  },
  {
   "source": [
    "# Управляющие последовательности представляют специальные символы"
   ],
   "cell_type": "markdown",
   "metadata": {}
  },
  {
   "cell_type": "code",
   "execution_count": null,
   "metadata": {},
   "outputs": [],
   "source": [
    "s = 'a\\nb\\tc'\n",
    "#два символа \\n обозначают одиночный символ - двоичное значение символа новой строки\n",
    "#последовательност \\t заменяется символом табуляции\n",
    "s\n",
    "print(s) #то, как строка будет выглядеть при выводе, зависит от способа ее вывода\n",
    "len(s) #возвращает фактическое количество символов в строке независимо от того, каким образом они кодируются или отображаются.строка имеет длину 5 символов, a,n,b,t,c, символ \\ не учитывается, он не хранится в памяти, используется лишь для описания значений специальных символов"
   ]
  },
  {
   "source": [
    "#\\новая строка игнорируется(строк продолжения)\n",
    "#\\\\ обратная косая черта(сохраняет один символ \\)\n",
    "#\\' (одинарная кавычка(сохраняет '))\n",
    "#\\\" двойная кавычка (сохраняет \")\n",
    "#\\a звонок\n",
    "#\\и забой\n",
    "#\\f перевод страницы\n",
    "#\\n новая строка(перевод строки)\n",
    "#\\r возврат каретки\n",
    "#\\t горизонтальная табуляция\n",
    "#\\v вертикальная табуляция\n",
    "#\\xhh символ с шестнадцатеричным значением hh(точно 2 цифры)\n",
    "#\\ooo символ с восьмеричным значением ooo(до 3 цифр)\n",
    "#\\0 пустой: двоичный символ 0 ( не конец строки)\n",
    "#\\N { идентификатор } идентификатор базы данных unicode\n",
    "#\\uhhhh символ unicode c 16-битным шестнадцатричным значением\n",
    "#\\Uhhhhhhh символ unicode с 32-битным шестнадцатеричным значением\n",
    "#\\остальное не управляющая последовательность(сохраняет \\и остальное)"
   ],
   "cell_type": "code",
   "metadata": {},
   "execution_count": null,
   "outputs": []
  },
  {
   "cell_type": "code",
   "execution_count": null,
   "metadata": {},
   "outputs": [],
   "source": [
    "s = 'a\\0b\\0c' #два символа с нулевым двоичным значением\n",
    "s\n",
    "len(s)\n",
    "print(s)"
   ]
  },
  {
   "cell_type": "code",
   "execution_count": null,
   "metadata": {},
   "outputs": [],
   "source": [
    "s = '\\001\\002\\x03'\n",
    "s #отображает непечатаемые двоичные коды в шестнадцатеричной форме\n",
    "len(s)"
   ]
  },
  {
   "cell_type": "code",
   "execution_count": null,
   "metadata": {},
   "outputs": [],
   "source": [
    "s = \"s\\tp\\na\\x00m\" #можно комбинировать абсолютные управляющие коды и символические управляющие\n",
    "s\n",
    "len(s)\n",
    "print(s)"
   ]
  },
  {
   "cell_type": "code",
   "execution_count": null,
   "metadata": {},
   "outputs": [],
   "source": [
    "x = \"C:\\py\\code\" #сохраняет \\ буквально, не распознал никакой управляющей "
   ]
  },
  {
   "source": [
    "# Неформатированные строки"
   ],
   "cell_type": "markdown",
   "metadata": {}
  },
  {
   "cell_type": "code",
   "execution_count": null,
   "metadata": {},
   "outputs": [],
   "source": [
    "# myfile = open(’С:\\new\\text.dat', ’w') попытка открыть подобное, ни к чему не приведет, срабоает символ новой строки и табуляция\n",
    "#myfile = open(r'C:\\new\\text.dat', 'w') #а этот сработает, r отключает механизм отмены  и python сохраняет символ обратной косой черты\n",
    "#myfile = open(’С:\\\\new\\\\text.dat', ’w’) #тоже сработает, 2 косые представляют собой управляющую последовательность для одной косой\n",
    "path = r'C:\\new\\text.dat'\n",
    "path #отображает в формате как в коде python\n",
    "print(path) #отображает в формате дружественном пользователю\n",
    "len(path)"
   ]
  },
  {
   "cell_type": "code",
   "execution_count": null,
   "metadata": {},
   "outputs": [],
   "source": [
    "mantra = \"\"\"always look #утроенные кавычки сохраняют весь находящийся между ними текст, даже комментарии\n",
    " on the bright\n",
    "side of life.\"\"\"\n",
    "mantra"
   ]
  },
  {
   "cell_type": "code",
   "execution_count": null,
   "metadata": {},
   "outputs": [],
   "source": [
    "print(mantra)"
   ]
  },
  {
   "cell_type": "code",
   "execution_count": null,
   "metadata": {},
   "outputs": [],
   "source": [
    "x = 1\n",
    "\"\"\"\n",
    "import os\n",
    "print(os.getcwd()) #временно отключает этот код\n",
    "\"\"\"\n",
    "y = 2"
   ]
  },
  {
   "cell_type": "code",
   "execution_count": null,
   "metadata": {},
   "outputs": [],
   "source": [
    "print(len('abc'))#длина строки\n",
    "print('abc' + 'def')#конкатенация строк\n",
    "print('Ni!' * 4) #повторение\n",
    "print('-' * 80)"
   ]
  },
  {
   "cell_type": "code",
   "execution_count": null,
   "metadata": {},
   "outputs": [],
   "source": [
    "myjob = \"dev\"\n",
    "for c in myjob:\n",
    "    print(c, end=' ')#проход по элементам с вывода каждого\n",
    "\n",
    "print(\" \")   \n",
    "print('d' in myjob) #символ найден, вернулся true\n",
    "print('z' in myjob) #не найден, вернулся false\n",
    "'spam' in 'abcdspamdef' #поиск подстроки без возвращения позиции"
   ]
  },
  {
   "source": [
    "# индексация и нарезание"
   ],
   "cell_type": "markdown",
   "metadata": {}
  },
  {
   "cell_type": "code",
   "execution_count": null,
   "metadata": {},
   "outputs": [],
   "source": [
    "s = 'spam'\n",
    "print(s[0],s[-2]) #индексация с начала или с конца\n",
    "print(s[1:3],s[1:],s[:-1]) #нарезание, извлечение сегмента\n",
    "#X[I:J:K] третий элемент - страйд(шаг). Извлечь все элементы в x, начиная со смещения i и заканчивая смещение j-1, с шагом k\n",
    "#X[1:10:2] будет извлекать каждый второй элемент из x в рамках смещения 1-9, т.е. он накопит 1,3,5,7,9\n",
    "#Первый и второй элемент по умолчанию получают 0,так что запись x[::2] #получает каждый второй элемент с начала и до конца последовательности\n",
    "s = 'abcdefghkijop'\n",
    "print(s[1:10:2]) #пропуск элементов Начинаем с 1 элемента, с шагом в 2, отрезаем на 10 элементе\n",
    "print(s[::2])\n",
    "s = 'hello'\n",
    "print(s[::-1]) #смена порядка следования элементов на противоположный\n",
    "s = 'abcdefg'\n",
    "print(s[5:1:-1]) #при отрицательном страйд смысл границ изменяется на противоположный,Извлекает элементы со второго по 5 в обратном порядке\n",
    "s = 'spam'\n",
    "print(s[1:3]) #синтаксис нарезания\n",
    "print(s[slice(1,3)]) #индксация посредством объектов срезов\n",
    "print(s[::-1])\n",
    "print(s[slice(None,None,-1)])"
   ]
  },
  {
   "source": [
    "# инструменты преобразования строк"
   ],
   "cell_type": "markdown",
   "metadata": {}
  },
  {
   "cell_type": "code",
   "execution_count": null,
   "metadata": {},
   "outputs": [],
   "source": [
    "int(\"42\") #преобразование из строки\n",
    "str(42) #преобразование в строку\n",
    "repr(42) #преобразование в строку в том виде в каком она представлена в коде"
   ]
  },
  {
   "source": [
    "# преобразование кодов символов"
   ],
   "cell_type": "markdown",
   "metadata": {}
  },
  {
   "cell_type": "code",
   "execution_count": null,
   "metadata": {},
   "outputs": [],
   "source": [
    "ord('s') #возвращает действительное двоичное значение \n",
    "chr(115) #выполняет обратное преобразование "
   ]
  },
  {
   "cell_type": "code",
   "execution_count": null,
   "metadata": {},
   "outputs": [],
   "source": [
    "s = '5'\n",
    "s = chr(ord(s) + 1)\n",
    "s\n",
    "s = chr(ord(s) + 1)\n",
    "s"
   ]
  },
  {
   "cell_type": "code",
   "execution_count": null,
   "metadata": {},
   "outputs": [],
   "source": [
    "int('5')\n",
    "ord('1') - ord(\"0\")"
   ]
  },
  {
   "cell_type": "code",
   "execution_count": null,
   "metadata": {},
   "outputs": [],
   "source": [
    "B = '1101'\n",
    "I = 0\n",
    "while B != '':\n",
    "    I = I * 2 + (ord(B[0]) - ord('0'))\n",
    "    B = B[1:]\n",
    "\n",
    "I"
   ]
  },
  {
   "cell_type": "code",
   "execution_count": null,
   "metadata": {},
   "outputs": [],
   "source": [
    "int('1101', 2) #преобразование строки двоичных цифр в целое: встроенная функция "
   ]
  },
  {
   "cell_type": "code",
   "execution_count": null,
   "metadata": {},
   "outputs": [],
   "source": [
    "bin(13) #преобразование целого в строку двоичных цифр: встроенная функция"
   ]
  },
  {
   "source": [
    "# Изменение строк"
   ],
   "cell_type": "markdown",
   "metadata": {}
  },
  {
   "cell_type": "code",
   "execution_count": null,
   "metadata": {},
   "outputs": [],
   "source": [
    "S = 'spam'\n",
    "S[0] = \"x\" # строки неизменяемая последовательность\n"
   ]
  },
  {
   "source": [
    "# Чтобы изменить строку, обычно необходимо создать и присвоить новую строку с применением таких инструментов, как конкатенация и нарезание"
   ],
   "cell_type": "markdown",
   "metadata": {}
  },
  {
   "cell_type": "code",
   "execution_count": null,
   "metadata": {},
   "outputs": [],
   "source": [
    "S = S + 'SPAM!' #чтобы изменить строку, надо создать новую\n",
    "S\n",
    "S = S[:4] + 'Burger' + S[-1] #после 4 символа(не включительно) нарезается строка, затем конкатенация строк и индексация\n",
    "print(S)"
   ]
  },
  {
   "cell_type": "code",
   "execution_count": null,
   "metadata": {},
   "outputs": [],
   "source": [
    "S = 'splot' #аналогичных результатов можно добиться используя метод replace\n",
    "S = S.replace('pl', 'pamal')\n",
    "S"
   ]
  },
  {
   "cell_type": "code",
   "execution_count": null,
   "metadata": {},
   "outputs": [],
   "source": [
    "'That is %d %s bird!' %(1,'dead') #Строить новые текстовые значения можно также с помощью выражений форматирования строк. Тем не менее, результатом будет новый объект, а не модифицированный старый"
   ]
  },
  {
   "cell_type": "code",
   "execution_count": null,
   "metadata": {},
   "outputs": [],
   "source": [
    "'That is {0} {1} bird!'.format(1,'dead') #метод форматирования в python 2.6,2.7, 3.x"
   ]
  },
  {
   "source": [
    "# Синтаксис вызова методов\n",
    "Извлечение атрибутов:\n",
    "Выражение в форме объект.атрибут означает \"извлечь значение атрибута в объекте\"\n",
    "Выражение вызовов:\n",
    "Выражение в форме функция(аргументы) означает \"вызвать код функции, передав ему ноль или большее количество разделенных запятыми объектов аргументов,и возвратить результирующее значение функций\"\n",
    "Объединение двух операций вместе позволяет вызвать метод объекта. Выражение метода:\n",
    "объект.метод(аргументы) python излевакат метод из объекта и вызывает его, передавая объект и аргументы.Другими словаи обозначает следующее:\n",
    "Вызвать метод для обработки объекта с аргументами"
   ],
   "cell_type": "markdown",
   "metadata": {}
  },
  {
   "cell_type": "code",
   "execution_count": null,
   "metadata": {},
   "outputs": [],
   "source": [
    "S = 'spam'\n",
    "result = S.find('pa') #вызов метода find для поиска 'pa' в строке S"
   ]
  },
  {
   "source": [
    "https://i.imgur.com/MzAzGt3.png Таблица вызовов строковых методов"
   ],
   "cell_type": "markdown",
   "metadata": {}
  },
  {
   "cell_type": "code",
   "execution_count": 9,
   "metadata": {},
   "outputs": [
    {
     "output_type": "execute_result",
     "data": {
      "text/plain": [
       "'spaxxy'"
      ]
     },
     "metadata": {},
     "execution_count": 9
    }
   ],
   "source": [
    "S = 'spammy'\n",
    "S = S[:3] + 'xx' + S[5:] #нарезать сегменты из S\n",
    "S "
   ]
  },
  {
   "source": [
    "S = 'spammy'\n",
    "S = S.replace('mm','xx') #заменить все mm yна xx в S\n",
    "S"
   ],
   "cell_type": "code",
   "metadata": {},
   "execution_count": 10,
   "outputs": [
    {
     "output_type": "execute_result",
     "data": {
      "text/plain": [
       "'spaxxy'"
      ]
     },
     "metadata": {},
     "execution_count": 10
    }
   ]
  },
  {
   "cell_type": "code",
   "execution_count": 13,
   "metadata": {},
   "outputs": [
    {
     "output_type": "execute_result",
     "data": {
      "text/plain": [
       "'aaSPAMbbSPAMccSPAMdd'"
      ]
     },
     "metadata": {},
     "execution_count": 13
    }
   ],
   "source": [
    "'aa$bb$cc$dd'.replace('$', 'SPAM') "
   ]
  },
  {
   "cell_type": "code",
   "execution_count": 22,
   "metadata": {},
   "outputs": [
    {
     "output_type": "stream",
     "name": "stdout",
     "text": [
      "4\nxxxxEGGSxxxxSpamxxx\n"
     ]
    }
   ],
   "source": [
    "S = 'xxxxSpamxxxxSpamxxx'\n",
    "where = S.find('Spam') #поиск по позиции\n",
    "print(where) #нашлась по смещению 4\n",
    "S = S[:where] + 'EGGS' + S[(where+4):]\n",
    "print(S)"
   ]
  },
  {
   "cell_type": "code",
   "execution_count": 24,
   "metadata": {},
   "outputs": [
    {
     "output_type": "execute_result",
     "data": {
      "text/plain": [
       "'xxxxEGGSxxxxEGGSxxxx'"
      ]
     },
     "metadata": {},
     "execution_count": 24
    }
   ],
   "source": [
    "S = 'xxxxSPAMxxxxSPAMxxxx'\n",
    "S.replace('SPAM',\"EGGS\") #заменить все"
   ]
  },
  {
   "source": [
    "#Еще один вариант предусматривает применение метода replace с третьим аргументом, чтобы ограничить его единственной подстановкой:"
   ],
   "cell_type": "markdown",
   "metadata": {}
  },
  {
   "cell_type": "code",
   "execution_count": 26,
   "metadata": {},
   "outputs": [
    {
     "output_type": "execute_result",
     "data": {
      "text/plain": [
       "'xxxxEGGSxxxxSPAMxxxx'"
      ]
     },
     "metadata": {},
     "execution_count": 26
    }
   ],
   "source": [
    "S.replace('SPAM',\"EGGS\",1) #заменить одну"
   ]
  },
  {
   "source": [
    "То что операции конкатенации и метод replace каждый раз генерируют новые строковые объекты, является потенциальным недостатком, если нужно применить много изменений, то производительность можно улучить, преобразовав строку в объект, который поддерживает изменения на месте:"
   ],
   "cell_type": "markdown",
   "metadata": {}
  },
  {
   "cell_type": "code",
   "execution_count": 30,
   "metadata": {},
   "outputs": [
    {
     "output_type": "stream",
     "name": "stdout",
     "text": [
      "['s', 'p', 'a', 'm', 'm', 'y']\n['s', 'p', 'a', 'x', 'x', 'y']\nspaxxy\n"
     ]
    }
   ],
   "source": [
    "S = 'spammy'\n",
    "L = list(S)\n",
    "print(L)\n",
    "\n",
    "#Теперь можно вносить изменения без генерации новой копии:\n",
    "L[3] = 'x'\n",
    "L[4] = 'x'\n",
    "print(L)\n",
    "\n",
    "#Если после внесения необходимо преобразовать обратно в строкук, тогда понадобится метод join:\n",
    "S = ''.join(L)\n",
    "print(S)\n",
    "#Поскольку метод join представляет собой метод строк, он вызывается через заданный разделитель. Метод join объединяет вместе строки из списка с разделителями между элементами списка. В данном случае здесь используется пустая строка."
   ]
  },
  {
   "cell_type": "code",
   "execution_count": 31,
   "metadata": {},
   "outputs": [
    {
     "output_type": "execute_result",
     "data": {
      "text/plain": [
       "'eggsSPAMsausageSPAMhamSPAMtoast'"
      ]
     },
     "metadata": {},
     "execution_count": 31
    }
   ],
   "source": [
    "#Мложно указать любой строковой разделитель, итерируремый объект со строками:\n",
    "'SPAM'.join(['eggs','sausage','ham','toast'])"
   ]
  },
  {
   "cell_type": "code",
   "execution_count": 46,
   "metadata": {},
   "outputs": [
    {
     "output_type": "stream",
     "name": "stdout",
     "text": [
      "aaa\nccc\n['aaa', 'bbb', 'ccc']\n"
     ]
    },
    {
     "output_type": "execute_result",
     "data": {
      "text/plain": [
       "['i’m', 'a', 'lumberjack']"
      ]
     },
     "metadata": {},
     "execution_count": 46
    }
   ],
   "source": [
    "#Для извлечения подстрок по фиксированным смещениям, мы можем задействовать методики нарезания:\n",
    "line = 'aaa bbb ccc'\n",
    "col1 = line[:3]\n",
    "col3 = line[8:]\n",
    "print(col1)\n",
    "print(col3)\n",
    "\n",
    "#Если данные разделены посредством какого-нибудь разделителя, тогда извлечь компоненты можно путем разбиения.\n",
    "line = 'aaa bbb ccc'\n",
    "cols = line.split() #разделитель не указан, по умолчанию принимаются пробельные символы\n",
    "print(cols)\n",
    "\n",
    "line = 'bob,hacker,40'\n",
    "line.split(',') #разбивается по запятым\n",
    "\n",
    " #Разделители могут быть длинее одного символа:\n",
    "line = \"i’mSPAMaSPAMlumberjack\"\n",
    "line.split(\"SPAM\")"
   ]
  },
  {
   "source": [
    "# Другие распространные текстовые методы"
   ],
   "cell_type": "markdown",
   "metadata": {}
  },
  {
   "cell_type": "code",
   "execution_count": 87,
   "metadata": {},
   "outputs": [
    {
     "output_type": "stream",
     "name": "stdout",
     "text": [
      "The knights who say Ni!\nTHE KNIGHTS WHO SAY NI!\n\nFalse\nTrue\nTrue\nTrue\nTrue\n"
     ]
    },
    {
     "output_type": "execute_result",
     "data": {
      "text/plain": [
       "True"
      ]
     },
     "metadata": {},
     "execution_count": 87
    }
   ],
   "source": [
    "line = 'The knights who say Ni!\\n'\n",
    "print(line.rstrip()) #удаляет пробельный символ с правой стороны\n",
    "print(line.upper()) #возводит в upper case\n",
    "print(line.isalpha()) #Возвращает true если хотя бы один символ строке является буквами, иначе false, пробел считаетмся за символ и выдает false\n",
    "print(line.endswith('Ni!\\n')) #Проверяет заканчивается ли строка на заданный аргумент\n",
    "print(line.startswith('The')) #проверяет начинается ли строка с заданного аргумента\n",
    "\n",
    "#Операцию членства in можно испльзовать для проверки наличия подстроки, а операции определения длины и нарезания - для имитации endswith:\n",
    "print(line.find('Ni') != -1) #поиск через вызов метода или выражения\n",
    "print('Ni' in line) #возвращает true, если 'Ni'есть в строке line\n",
    "sub = 'Ni!\\n'\n",
    "line.endswith(sub)\n",
    "line[-len(sub):] == sub #Проверка наличия подстроки в конце через вызов метода или срез"
   ]
  },
  {
   "source": [
    "# Выражения форматирования строк\n",
    "Выражение форматирования строк: ’ . . . %s. . . ’ % (значения) Первоначальный прием, доступный с момента появления Python, основан на модели printf языка С и повсеместно встречается в большинстве существую­ щего кода. \n",
    "\n",
    "Вызов метода форматирования строк: ’. . format (значения) Более новый прием, добавленный в версиях Python 2.6 и 3.0, кое в чем выведен из одноименного инструмента в С#/.NET и частично совпадает по функцио­ нальности с выражениями форматирования строк."
   ],
   "cell_type": "markdown",
   "metadata": {}
  },
  {
   "source": [
    "Чтобы сформатировать строку, выполните следующие действия. \n",
    "\n",
    "1. Слева от операции % укажите строку формата, содержащую одну или более встро­ енных целей преобразования, каждая из которых начинается с % (например, %d). \n",
    "\n",
    "2. Справа от операции % укажите объект (или объекты, внедренные в кортеж), ко­ торый необходимо вставить в строку формата слева на месте цели (или целей) преобразования.\n"
   ],
   "cell_type": "markdown",
   "metadata": {}
  },
  {
   "cell_type": "code",
   "execution_count": 94,
   "metadata": {},
   "outputs": [
    {
     "output_type": "stream",
     "name": "stdout",
     "text": [
      "The knights who say Ni\n1 spam 4 you\n42 -- 3.14159 --  [1, 2, 3]\n"
     ]
    }
   ],
   "source": [
    "exclamation = 'Ni'\n",
    "print('The knights who say %s' % exclamation) #подстановка строки\n",
    "print('%d %s %g you' % (1,'spam',4.0)) #подстановки, специфичные типы\n",
    "print('%s -- %s --  %s' %(42,3.14159,[1,2,3])) #все типы соответствуют цели %s"
   ]
  },
  {
   "source": [
    "# https://i.imgur.com/PkubmG8.png Коды типов в форматировании строк"
   ],
   "cell_type": "markdown",
   "metadata": {}
  },
  {
   "cell_type": "code",
   "execution_count": 100,
   "metadata": {},
   "outputs": [
    {
     "output_type": "stream",
     "name": "stdout",
     "text": [
      "integers: ...1234...1234  ...001234\n1.234568e+00 | 1.234568 | 1.23457\n1.234568E+00\n"
     ]
    }
   ],
   "source": [
    "x = 1234\n",
    "res = 'integers: ...%d...%-6d...%06d' % (x, x, x)\n",
    "print(res)\n",
    "\n",
    "x = 1.23456789\n",
    "print('%e | %f | %g' % (x, x, x))\n",
    "print('%E' % x) #E тоже самое что и e, только в верхнем регистре"
   ]
  },
  {
   "cell_type": "code",
   "execution_count": 132,
   "metadata": {},
   "outputs": [
    {
     "output_type": "stream",
     "name": "stdout",
     "text": [
      "1.23456789\n"
     ]
    },
    {
     "output_type": "execute_result",
     "data": {
      "text/plain": [
       "'1.23 | 01.23 | +01.23'"
      ]
     },
     "metadata": {},
     "execution_count": 132
    }
   ],
   "source": [
    "# Добиться дополнительных эффектов форматирования для чисел с плавающей точ­ кой можно, указывая выравнивание влево, дополнение нулями, знак числа, общую ширину поля и количество цифр после десятичной точки:\n",
    "print(x)\n",
    "'%-5.2f| %05.2f | %+06.2f' % (x,x,x)"
   ]
  },
  {
   "cell_type": "code",
   "execution_count": 103,
   "metadata": {},
   "outputs": [
    {
     "output_type": "execute_result",
     "data": {
      "text/plain": [
       "('1.23456789', '1.23456789')"
      ]
     },
     "metadata": {},
     "execution_count": 103
    }
   ],
   "source": [
    "'%s' % x, str(x)"
   ]
  },
  {
   "source": [
    "Когда размеры не известны вплоть до времени выполнения, можно применять вы­ числяемые ширину и точность, указав для них * в строке формата, чтобы значения извлекались из следующего элемента во входных данных справа от операции % — в следующем кортеже 4 дает точность:\n"
   ],
   "cell_type": "markdown",
   "metadata": {}
  },
  {
   "cell_type": "code",
   "execution_count": 137,
   "metadata": {},
   "outputs": [
    {
     "output_type": "execute_result",
     "data": {
      "text/plain": [
       "'0.333333, 0.33,0.3333'"
      ]
     },
     "metadata": {},
     "execution_count": 137
    }
   ],
   "source": [
    "'%f, %.2f,%.*f' % (1/3.0,1/3.0,4,1/3.0) #значение *f принимает значение 4 из кортежа и форматирует. В данном случае после 4 идет срез"
   ]
  },
  {
   "cell_type": "code",
   "execution_count": 146,
   "metadata": {},
   "outputs": [
    {
     "output_type": "stream",
     "name": "stdout",
     "text": [
      " \nGreetings...\nHello Bob!\nYour age is 40\n\n"
     ]
    }
   ],
   "source": [
    "'%(qty)d more %(food)s' %{'qty' : 1, 'food': 'spam'} #qty и food  слева в строке форма ссылаются на ключи в литерале словаря справа и излекают связанные с ними значения\n",
    "\n",
    "#Можно поистроить словарь значений и подставить их все сразу с помощью единственного выражения форматирования, которое использует ссылки на основе ключей:\n",
    "#шаблон с целями подстановки:\n",
    "reply = \"\"\" \n",
    "Greetings...\n",
    "Hello %(name)s!\n",
    "Your age is %(age)s\n",
    "\"\"\"\n",
    "\n",
    "values = {'name': 'Bob', 'age': 40} #создание значений для подстановки\n",
    "print(reply % values) #выполнение подстановки\n"
   ]
  },
  {
   "cell_type": "code",
   "execution_count": 149,
   "metadata": {},
   "outputs": [
    {
     "output_type": "execute_result",
     "data": {
      "text/plain": [
       "'10 more spam'"
      ]
     },
     "metadata": {},
     "execution_count": 149
    }
   ],
   "source": [
    "#также применяется при сочетании со встроенной функцией vars,возвращающей словарь, который содержит все переменные, существующие в месте ее вызова:\n",
    "food = 'spam'\n",
    "qty = 10\n",
    "'%(qty)d more %(food)s' % vars()"
   ]
  },
  {
   "source": [
    "# Вызовы методов форматирования строк"
   ],
   "cell_type": "markdown",
   "metadata": {}
  },
  {
   "cell_type": "code",
   "execution_count": 9,
   "metadata": {},
   "outputs": [
    {
     "output_type": "stream",
     "name": "stdout",
     "text": [
      "spam,ham and eggs\nspam ham and eggs\nspam ham and eggs\n"
     ]
    },
    {
     "output_type": "execute_result",
     "data": {
      "text/plain": [
       "'spam, ham and eggs'"
      ]
     },
     "metadata": {},
     "execution_count": 9
    }
   ],
   "source": [
    "template = '{0},{1} and {2}'\n",
    "print(template.format('spam','ham','eggs')) #по позициями\n",
    "\n",
    "template = \"{motto} {pork} and {food}\" #по ключевым словам\n",
    "print(template.format(motto='spam',pork='ham',food='eggs'))\n",
    "\n",
    "template = '{motto} {0} and {food}' #по позициям и ключевым словам\n",
    "print(template.format('ham',motto = 'spam', food = 'eggs'))\n",
    "\n",
    "template = '{}, {} and {}'\n",
    "print(template.format('spam','ham','eggs')) #по относительным позициям\n"
   ]
  },
  {
   "cell_type": "code",
   "execution_count": 12,
   "metadata": {},
   "outputs": [
    {
     "output_type": "stream",
     "name": "stdout",
     "text": [
      "spam, ham and eggs\n"
     ]
    },
    {
     "output_type": "execute_result",
     "data": {
      "text/plain": [
       "'spam, ham and eggs'"
      ]
     },
     "metadata": {},
     "execution_count": 12
    }
   ],
   "source": [
    "template = '%s, %s and %s' #тоже самое посредством выражения\n",
    "print(template % ('spam','ham',\"eggs\"))\n",
    "\n",
    "template = '%(motto)s, %(pork)s and %(food)s'\n",
    "template % dict(motto='spam',pork='ham',food='eggs')"
   ]
  },
  {
   "cell_type": "code",
   "execution_count": 13,
   "metadata": {},
   "outputs": [
    {
     "output_type": "execute_result",
     "data": {
      "text/plain": [
       "'3.14,42 and [1, 2]'"
      ]
     },
     "metadata": {},
     "execution_count": 13
    }
   ],
   "source": [
    "'{motto},{0} and {food}'.format(42, motto =3.14 , food = [1,2])"
   ]
  },
  {
   "cell_type": "code",
   "execution_count": 12,
   "metadata": {},
   "outputs": [
    {
     "output_type": "stream",
     "name": "stdout",
     "text": [
      "3.14, 42 and [1, 2]\n['3.14, 42', '[1, 2]']\n3.14, 42 but under no cicumstances [1, 2]\n3.14, 42 and [1, 2]\n"
     ]
    }
   ],
   "source": [
    "x = '{motto}, {0} and {food}'.format(42,motto=3.14, food = [1, 2]) # format создает и возвращает новый строковый объект, который можно сохранить для дальнейшей работы\n",
    "print(x) \n",
    "\n",
    "print(x.split(' and ')) \n",
    "\n",
    "y = x.replace('and', 'but under no cicumstances')\n",
    "print(y)\n",
    "print(x)"
   ]
  },
  {
   "source": [
    "# Добавление ключей, атрибутов и смещений"
   ],
   "cell_type": "markdown",
   "metadata": {}
  },
  {
   "cell_type": "code",
   "execution_count": 5,
   "metadata": {},
   "outputs": [
    {
     "output_type": "execute_result",
     "data": {
      "text/plain": [
       "'my laptop runs win32'"
      ]
     },
     "metadata": {},
     "execution_count": 5
    }
   ],
   "source": [
    "import sys\n",
    "'my {1[kind]} runs {0.platform}'.format(sys, {'kind': 'laptop'}) #индексируется по ключу kind, а затем извлекает атрибут platform из объекта импортированного модуля sys\n",
    "'my {map[kind]} runs {sys.platform}'.format(sys = sys, map={'kind': 'laptop'}) #тоже самое, но вместо позиций применяются ключевые слова"
   ]
  },
  {
   "cell_type": "code",
   "execution_count": 19,
   "metadata": {},
   "outputs": [
    {
     "output_type": "stream",
     "name": "stdout",
     "text": [
      "first =S,third=A\n{'first = S, last =M,'}\n"
     ]
    },
    {
     "output_type": "execute_result",
     "data": {
      "text/plain": [
       "\"first = S, last=M, middle = ['P', 'A']\""
      ]
     },
     "metadata": {},
     "execution_count": 19
    }
   ],
   "source": [
    "somelist = list('SPAM')\n",
    "somelist\n",
    "print('first ={0[0]},third={0[2]}'.format(somelist))\n",
    "print({'first = {0}, last ={1},'.format(somelist[0],somelist[-1])}) #смещение в списке для выполнения индексации\n",
    "parts = somelist[0],somelist[-1],somelist[1:3]\n",
    "'first = {0}, last={1}, middle = {2}'.format(*parts)"
   ]
  },
  {
   "source": [
    "# Расширенный синтаксис методов форматирования"
   ],
   "cell_type": "markdown",
   "metadata": {}
  },
  {
   "source": [
    "{имя_поля компонент !флаг_преобразования: спецификатор_формата}\n",
    "\n",
    "имя_поля - необязательное число или ключевое слово, идентифицирующее аргумент\n",
    "\n",
    "компонент - строка из нуля или большего числа ссылок .имя либо [индекс],используемых для извлечения атрибутов и индексированных значений аргумента, которая может быть опущена для применения всего значения аргумента.\n",
    "\n",
    "флаг_преобразования, если присутствуется, начинается с символа !, за которым следует r, s или a для выоза на значении встроенных функция reps, str или ascii соответственно\n",
    "\n",
    "спецификатор_формата - если присутствуется, начинается с символа : , за которым следует текст, указывающий, каким образом значение должно быть представлено, в том числе такие детали, как ширина поля, выравнивание,дополнение, десятичная точность и т.д., и в конце необязательный код типа данных\n",
    "\n",
    "#[[заполнение] выравнивание] [знак] [#] [0] [ширина] [,] [.точность] [код_типа]\n"
   ],
   "cell_type": "markdown",
   "metadata": {}
  },
  {
   "cell_type": "code",
   "execution_count": 65,
   "metadata": {},
   "outputs": [
    {
     "output_type": "stream",
     "name": "stdout",
     "text": [
      "spam       =   123.4567\n      spam = 123.4567  \n     win32 = laptop    \nspam      =  123.4567\n      spam=1234.567  \n     win32=laptop    \n----------------------\n3.000000e+00,1.416e+04,3.14159\n3.141590,3.14,003.14\n----------------------\nFF,377,11111111\n0b11111111 255 255\n0xff 255 255\n0o377 255 255\n"
     ]
    }
   ],
   "source": [
    "#{0:10} означает первый позиционный аргумент в поле шириной 10 символов,\n",
    "#{1: <10} — второй позиционный аргумент, выровненный влево в поле шириной 10 символов,\n",
    "#{0.platform:>10} — атрибут platform первого аргумента, выровнен­ный вправо в поле шириной 10 символов\n",
    "print('{0:10} = {1:10}'.format('spam',123.4567))\n",
    "print('{0:>10} = {1:<10}'.format('spam',123.4567)) #spam выровняется вправо, а float влево\n",
    "print('{0.platform:>10} = {1[kind]:<10}'.format(sys,dict(kind = 'laptop')))\n",
    "print('{:10}={:10}'.format('spam',123.4567)) #номер аргумента можно опускать,если аргументы выбираются слева направо с помощью относительной автоматической нумерации\n",
    "print('{:>10}={:<10}'.format('spam',1234.567))\n",
    "print('{.platform:>10}={[kind]:<10}'.format(sys, dict(kind = 'laptop')))\n",
    "print(\"----------------------\")\n",
    "\n",
    "#Числа с плавающей точкой поддерживают в методах форматирования те же особенности форматирования, что и в выражениях %\n",
    "# {2:g} означает, что третий аргумент форматируется по умолчанию согласно представлению с плавающей точкой g\n",
    "# {1:.2f} указывает формат с плавающей точкой f только с двумя десятичными цифрами после точки\n",
    "# {2:06.2f} добавляет поле шириной 6 символов и дополнением нулями слева:\n",
    "\n",
    "print('{0:e},{1:.3e},{2:g}'.format(3,14159, 3.14159, 3.14159))\n",
    "print('{0:f},{1:.2f},{2:06.2f}'.format(3.14159,3.14159,3.14159))\n",
    "print(\"----------------------\")\n",
    "\n",
    "#Метод format также поддерживает шестнадцатеричный, восьмеричный и двоичный форматы. На самом деле форматирование строк является альтернативой использованию ряда встроенных функций, которые форматируют целые числа для заданного основания системы счисления\n",
    "\n",
    "print('{0:X},{1:o},{2:b}'.format(255,255,255)) #форматирует в число с плавающей точкой в верхнем регистре, потом в восьмеричнеое число и в двоичное\n",
    "print(bin(255),int('11111111',2), 0b11111111) #другие преобразования в / из двоичного\n",
    "print(hex(255),int(\"FF\",16), 0xFF) #другие преобразования в / из шестнадцатеричного\n",
    "print(oct(255),int('377',8),0o377) #другие преобразования в / из восьмеричного"
   ]
  },
  {
   "cell_type": "code",
   "execution_count": 74,
   "metadata": {},
   "outputs": [
    {
     "output_type": "stream",
     "name": "stdout",
     "text": [
      "0.33\n 0\n0.3333\n0.3333\n1.23\n1.23\n1.23\n"
     ]
    }
   ],
   "source": [
    "print('{0:.2f}'.format(1/3.0)) #жестко закодированные параметры\n",
    "print('%2.f' % (1/3.0)) #то же самое для выражения\n",
    "print('{0:.{1}f}'.format(1/3.0,4)) #получение значений из аргумента\n",
    "print('%.*f' % (4,1/3.0)) #то же самое для выражения\n",
    "\n",
    "print('{0:.2f}'.format(1.2345)) #строковый метод\n",
    "print(format(1.2345, '.2f')) #встроенная функиця\n",
    "print('%.2f' % 1.2345) #выражение"
   ]
  },
  {
   "source": [
    "# Сравнение с выражением форматирования %"
   ],
   "cell_type": "markdown",
   "metadata": {}
  },
  {
   "cell_type": "code",
   "execution_count": 110,
   "metadata": {},
   "outputs": [
    {
     "output_type": "stream",
     "name": "stdout",
     "text": [
      "spam = 42\nspam = 42\nspam = 42\n3.14, 42 and [1, 2]\nMy laptop runs win32\nMy laptop runs win32\nspam       =   123.4567\n      spam = 123.4567  \n     win32 = laptop    \n3.141590e+00, 3.142e+00, 3.14159\n3.141590, 3.14, 003.14\nff, 377\nMy laptop   runs    win32\nMy laptop   runs    win32\nMy laptop   runs    win32\nMy laptop   runs    win32\n"
     ]
    }
   ],
   "source": [
    "print('%s = %s' % ('spam', 42)) #выражение форматирования\n",
    "print('{0} = {1}'.format('spam',42)) #метод фомартирования\n",
    "print('{} = {}'.format('spam',42)) #с автоматической нумерацией\n",
    "\n",
    "print('%s, %s and %s' % (3.14,42,[1,2])) #произвольные типы\n",
    "print('My %(kind)s runs %(platform)s' % {'kind' : 'laptop', 'platform' : sys.platform})\n",
    "print('My %(kind)s runs %(platform)s' % dict(kind = 'laptop' , platform = sys.platform))\n",
    "\n",
    "somelist = list('SPAM')\n",
    "parts = somelist[0],somelist[-1],somelist[1:3]\n",
    "'first = %s, last = %s, middle = %s' % parts\n",
    "\n",
    "#добавление специфического форматирования\n",
    "print('%-10s = %10s' % ('spam', 123.4567))\n",
    "print(('%10s = %-10s') % ('spam', 123.4567))\n",
    "print('%(plat)10s = %(kind)-10s' % dict(plat = sys.platform, kind = 'laptop'))\n",
    "\n",
    "#числа с плавающей точкой\n",
    "print('%e, %.3e, %g' % (3.14159, 3.14159, 3.14159))\n",
    "print('%f, %.2f, %06.2f' % (3.14159, 3.14159, 3.14159,))\n",
    "\n",
    "#шестнадцатеричный и восьмеричный форматы, но не двоичный\n",
    "print('%x, %o' % (255,255))\n",
    "\n",
    "print('My {1[kind]:<8} runs {0.platform:>8}'.format(sys, {'kind': 'laptop'}))\n",
    "print('My %(kind)-8s runs %(plat)8s' % dict(kind = 'laptop',plat = sys.platform))\n",
    "\n",
    "#заблаговременное созданеие данных двумя способами\n",
    "data = dict(platform = sys.platform, kind = 'laptop')\n",
    "\n",
    "print('My {kind:<8} runs {platform:>8}'.format(**data)) # **data распаковывает словарь ключей и значений в индивидуальные присваивания ключевых слов \"имя = значение\", так что на них моожно ссылаться по имени в строке формата\n",
    "\n",
    "print('My %(kind)-8s runs %(platform)8s' % data)"
   ]
  },
  {
   "cell_type": "code",
   "execution_count": 122,
   "metadata": {},
   "outputs": [
    {
     "output_type": "stream",
     "name": "stdout",
     "text": [
      "99999999\n9,999,999\n9,999,999\n999,999 8,888,888\n296,999.26\n"
     ]
    }
   ],
   "source": [
    "print('{0:d}'.format(99999999))\n",
    "print('{0:,d}'.format(9999999))#разделитель тысяч для чисел, который позволяет вставлять запятые между группами из трех цифр\n",
    "print('{:,d}'.format(9999999))\n",
    "print('{:,d}{: ,d}'.format(999999, 8888888))\n",
    "print('{:,.2f}'.format(296999.2567))"
   ]
  },
  {
   "source": [
    "# Для чего используется метод format?"
   ],
   "cell_type": "markdown",
   "metadata": {}
  },
  {
   "cell_type": "code",
   "execution_count": 9,
   "metadata": {},
   "outputs": [
    {
     "output_type": "stream",
     "name": "stdout",
     "text": [
      "1111111111111111\n0b1111111111111111\n0b1111111111111111\n0b1111111111111111\n1111111111111111\n"
     ]
    }
   ],
   "source": [
    "print('{0:b}'.format((2 ** 16) - 1)) #код двоичного формата в методе(только)\n",
    "#'%b' % ((2 ** 16) - 11) выкидывает ошибку unsupported format character 'b' (0x62) at index 1\n",
    "print(bin((2 ** 16) - 1)) #но работают другие более универсальные варианты\n",
    "print('%s' % bin((2 ** 16) - 1)) # подходит для метода и выражения\n",
    "print('{}'.format(bin((2**16)-1))) #с относительной нумерацией\n",
    "print('%s' % bin((2**16)-1)[2:]) #вырезание 0b для получения точного эквивалента"
   ]
  },
  {
   "source": [
    "#гибкий синтаксис ссылок: дополнительная сложность и частичное совпадение функциональности"
   ],
   "cell_type": "markdown",
   "metadata": {}
  },
  {
   "cell_type": "code",
   "execution_count": 19,
   "metadata": {},
   "outputs": [
    {
     "output_type": "stream",
     "name": "stdout",
     "text": [
      "Bob dev Bob\nBob dev Bob\nBob Dev Bob\nBob Dev Bob\n"
     ]
    },
    {
     "output_type": "execute_result",
     "data": {
      "text/plain": [
       "'Bob Dev Bob'"
      ]
     },
     "metadata": {},
     "execution_count": 19
    }
   ],
   "source": [
    "print('{name} {job} {name}'.format(name='Bob',job='dev'))\n",
    "print('%(name)s %(job)s %(name)s' % dict(name='Bob',job='dev'))\n",
    "#однако обычно в практике выражение кажется такиж же простым или проще\n",
    "D = dict(name='Bob',job = 'Dev')\n",
    "print('{0[name]} {0[job]} {0[name]}'.format(D)) #метод, ссылки на ключи\n",
    "print('{name} {job} {name}'.format(**D)) #метод, аргументы из словаря\n",
    "print('%(name)s %(job)s %(name)s' % D) # выражение, ссылки на ключи\n"
   ]
  },
  {
   "source": [
    "#явная ссылка на значения: теперь необязательна и вряд ли будет применяться"
   ],
   "cell_type": "markdown",
   "metadata": {}
  },
  {
   "cell_type": "code",
   "execution_count": 33,
   "metadata": {},
   "outputs": [
    {
     "output_type": "stream",
     "name": "stdout",
     "text": [
      "The bright side of life\nThe bright side of life\nThe bright side of life\n3.141590,3.14,03.14\n3.141590,3.14,003.14\n3.141590, 3.14, 003.14\n"
     ]
    }
   ],
   "source": [
    "print('The {0} side {1} {2}'.format('bright','of','life')) #3.x, 2.6+\n",
    "print('The {} side {} {}'.format('bright', 'of' , \"life\")) #3.1+,2.7+\n",
    "print('The %s side %s %s' % ('bright', 'of' , 'life')) # все версии python\n",
    "\n",
    "#Вероятно второй вызов, он вероятно предпочтительнее второго, но сравните эффект форматирования чисел с плавающей точкой:\n",
    "print('{0:f},{1:.2f},{2:05.2f}'.format(3.14159,3.14159,3.14159))\n",
    "print('{:f},{:.2f},{:06.2f}'.format(3.14159,3.14159,3.14159))\n",
    "print('%f, %.2f, %06.2f' % (3.14159, 3.14159, 3.14159))"
   ]
  },
  {
   "source": [
    "#именованный метод и контекстно-нейтральные аргументы: эстетика и практичность\n"
   ],
   "cell_type": "markdown",
   "metadata": {}
  },
  {
   "cell_type": "code",
   "execution_count": 41,
   "metadata": {},
   "outputs": [
    {
     "output_type": "stream",
     "name": "stdout",
     "text": [
      "1.23\n1.23 99\n1.23\n1.23 99\n1.23\n(1.23,)\n"
     ]
    }
   ],
   "source": [
    "print('%.2f' % 1.2345) #одиночное значение\n",
    "print('%.2f %s' % (1.2345, 99)) #кортеж с множеством\n",
    "\n",
    "#Формально выражение форматирования принимает одиночное значение подста­новки или кортеж с одним и более элементов.\n",
    "\n",
    "'%s' % 1.23 # одиночное значение, само по себе\n",
    "'%s' % (1.23,) #одиночное значение в кортеже\n",
    "'%s' % ((1.23,),) #одиночное значение, являющееся кортежемо\n",
    "\n",
    "#С другой стороны, метод форматирования усиливает это, принимая в обоих случа­ ях только общие аргументы функции вместо требования кортежа для множества зна­ чений или одиночного значения, которое представляет собой кортеж:\n",
    "\n",
    "print('{0:.2f}'.format(1.2345)) #одиночное значение\n",
    "print('{0:.2f} {1}'.format(1.2345,99)) #множество значений\n",
    "print('{0}'.format(1.23)) #одиночное значение, само по себе\n",
    "print('{0}'.format((1.23,))) #одиночное значение, являющееся кортежем"
   ]
  },
  {
   "cell_type": "code",
   "execution_count": 50,
   "metadata": {},
   "outputs": [
    {
     "output_type": "execute_result",
     "data": {
      "text/plain": [
       "'7 = Strings'"
      ]
     },
     "metadata": {},
     "execution_count": 50
    }
   ],
   "source": [
    "'%(num)i = %(title)s' % dict(num = 7, title = 'Strings')\n",
    "'{num:d} = {title:s}'.format(num=7,title = \"Strings\")\n",
    "'{num} = {title}'.format(**dict(num=7,title = 'Strings'))\n",
    "\n",
    "import string\n",
    "t = string.Template('$num = $title')\n",
    "t.substitute({'num': 7, 'title' : \"Strings\"})\n",
    "t.substitute(num = 7, title = 'Strings')\n",
    "t.substitute(dict(num=7,title = 'Strings'))"
   ]
  },
  {
   "cell_type": "code",
   "execution_count": null,
   "metadata": {},
   "outputs": [],
   "source": []
  }
 ]
}