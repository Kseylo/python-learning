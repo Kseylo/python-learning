{
 "metadata": {
  "language_info": {
   "codemirror_mode": {
    "name": "ipython",
    "version": 3
   },
   "file_extension": ".py",
   "mimetype": "text/x-python",
   "name": "python",
   "nbconvert_exporter": "python",
   "pygments_lexer": "ipython3",
   "version": "3.8.5-final"
  },
  "orig_nbformat": 2,
  "kernelspec": {
   "name": "python3",
   "display_name": "Python 3",
   "language": "python"
  }
 },
 "nbformat": 4,
 "nbformat_minor": 2,
 "cells": [
  {
   "source": [
    "# Сборщик мусора"
   ],
   "cell_type": "markdown",
   "metadata": {}
  },
  {
   "cell_type": "code",
   "execution_count": 3,
   "metadata": {},
   "outputs": [
    {
     "output_type": "stream",
     "name": "stdout",
     "text": [
      "True\nTrue\n"
     ]
    }
   ],
   "source": [
    "l = [1,2,3]\n",
    "m = l # m и l ссылаются на один и тот же объект\n",
    "print(l == m) #проверка на одинаковые значения\n",
    "print(l is m) #проверка на одинаковые объекты"
   ]
  },
  {
   "cell_type": "code",
   "execution_count": 5,
   "metadata": {},
   "outputs": [
    {
     "output_type": "stream",
     "name": "stdout",
     "text": [
      "True\nFalse\n"
     ]
    }
   ],
   "source": [
    "L = [1,2,3]\n",
    "M = [1,2,3]\n",
    "print(L == M) #указывает на одинаковые значения и выдает true, потому что L и M идентичны\n",
    "print(L is M) #но выдает false в проверке на одинаковые объекты, потому что L и M ссылаются на разные объекты"
   ]
  },
  {
   "cell_type": "code",
   "execution_count": 6,
   "metadata": {},
   "outputs": [
    {
     "output_type": "stream",
     "name": "stdout",
     "text": [
      "True\nTrue\n"
     ]
    }
   ],
   "source": [
    "X = 42\n",
    "Y = 42 #разные объекты\n",
    "print(X == Y) #значения одинаковые и возвращает true\n",
    "print(X is Y) #должны возвращать false, потому что объекты разные, однако поскольку небольшие целые числа и строки кешируются и используются повторно, операция is сообщает, что что они ссылаются на тот же самый объект"
   ]
  },
  {
   "cell_type": "code",
   "execution_count": 10,
   "metadata": {},
   "outputs": [
    {
     "output_type": "execute_result",
     "data": {
      "text/plain": [
       "2464"
      ]
     },
     "metadata": {},
     "execution_count": 10
    }
   ],
   "source": [
    "import sys\n",
    "sys.getrefcount(1) #функция getrefcount из стандартного модуля sys возвращает счетчик ссылок объекта"
   ]
  },
  {
   "cell_type": "code",
   "execution_count": null,
   "metadata": {},
   "outputs": [],
   "source": []
  }
 ]
}