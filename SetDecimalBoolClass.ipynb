{
 "cells": [
  {
   "cell_type": "markdown",
   "metadata": {},
   "source": [
    "множества представляют собой недавнее добавление к языку и не являются ни отображениями, ни последовательностями; на самом деле это неупорядоченные коллекции уникальных и неизменяемых объектов."
   ]
  },
  {
   "cell_type": "code",
   "execution_count": null,
   "metadata": {},
   "outputs": [],
   "source": [
    "X = set('spar') #создать множество из последовательности\r\n",
    "Y = {'h','p','m'} #создать множество с помощью литералов множеств\r\n",
    "X , Y# кортеж из двух множеств без круглых скобок\r\n",
    "print(X & Y) #пересечение, символ есть и в одном и во втором множестве\r\n",
    "print(X | Y) #объединение\r\n",
    "print(X - Y)#разность\r\n",
    "print(X > Y) #надмножество\r\n",
    "print({n ** 2 for n in[1,2,3,4]}) #включение множеств\r\n",
    "print(list(set([1,2,3,3,2,1]))) #фильтрация дубликатов\r\n",
    "print(set('spam') - set('ham')) #нахождение разностей в коллекциях\r\n",
    "print(set('spam') == set('asmp')) #нейтральная к порядку проверка равенства ('spam' == 'asmp' дает false)\r\n",
    "print('p' in set('spam'),'p' in 'spam', 'ham' in ['eggs', 'spam', 'ham'])\r\n"
   ]
  },
  {
   "cell_type": "code",
   "execution_count": null,
   "metadata": {},
   "outputs": [],
   "source": [
    "print(1 / 3) #десятичные числа\r\n",
    "print((2/3)+(1/2))\r\n",
    "import decimal #десятичные числа\r\n",
    "d = decimal.Decimal('3.141')\r\n",
    "print(d + 1)\r\n",
    "decimal.getcontext().prec = 2\r\n",
    "decimal.Decimal('1.00') / decimal.Decimal('3.00')\r\n",
    "from fractions import Fraction # дроби: числитель + знаменатель\r\n",
    "f = Fraction(2, 3)\r\n",
    "f + 1\r\n",
    "f + Fraction(1, 2)"
   ]
  },
  {
   "cell_type": "code",
   "execution_count": null,
   "metadata": {},
   "outputs": [],
   "source": [
    "1 > 2, 1 < 2 #булевские значения\r\n",
    "bool('spam') #булевское значение объекта\r\n",
    "x = None #заполнитель None\r\n",
    "print(x)\r\n",
    "L = [None] * 100 #Инициализировать список сотней объектов None\r\n",
    "L"
   ]
  },
  {
   "cell_type": "code",
   "execution_count": 42,
   "metadata": {},
   "outputs": [
    {
     "name": "stdout",
     "output_type": "stream",
     "text": [
      "yes\n",
      "yes\n"
     ]
    }
   ],
   "source": [
    "type(L) #Типы являются классами и наоборот. Тип лист\r\n",
    "type(type(L)) #Тип типа\r\n",
    "if type(L) == type([]): #проверка типа при необходимости...\r\n",
    "    print('yes')\r\n",
    "\r\n",
    "if type(L) == list: #использование имени типа\r\n",
    "    print('yes')\r\n",
    "\r\n",
    "if isinstance(L, list): #объектно-ориентированная проверка\r\n",
    "    print('yes')"
   ]
  },
  {
   "cell_type": "code",
   "execution_count": 59,
   "metadata": {},
   "outputs": [
    {
     "name": "stdout",
     "output_type": "stream",
     "text": [
      "Smith\n",
      "Jones\n",
      "66000.0\n"
     ]
    }
   ],
   "source": [
    "class Worker:\r\n",
    "    def __init__(self, name, pay): #инициализировать при создании\r\n",
    "        self.name = name       #self - новый объект\r\n",
    "        self.pay = pay\r\n",
    "    def lastName(self):\r\n",
    "        return self.name.split()[-1] #разбить строку по пробелам\r\n",
    "    def giveRaise(self,percent):\r\n",
    "        self.pay *= (1.0 + percent) #обновить pay на месте\r\n",
    "\r\n",
    "bob = Worker('Bob Smith', 50000) #создать два экземпляра\r\n",
    "sue = Worker('Sue Jones', 60000) #Каждый имеет атрибуты name и pay\r\n",
    "print(bob.lastName()) #вызвать метод: bob - это self\r\n",
    "print(sue.lastName()) # sue - это self\r\n",
    "sue.giveRaise(.10) #обновить атрибут pay в экземпляре sue\r\n",
    "print(sue.pay)"
   ]
  },
  {
   "cell_type": "code",
   "execution_count": null,
   "metadata": {},
   "outputs": [],
   "source": []
  }
 ],
 "metadata": {
  "kernelspec": {
   "display_name": "Python 3",
   "name": "python3"
  },
  "language_info": {
   "codemirror_mode": {
    "name": "ipython",
    "version": 3
   },
   "file_extension": ".py",
   "mimetype": "text/x-python",
   "name": "python",
   "nbconvert_exporter": "python",
   "pygments_lexer": "ipython3",
   "version": "3.8.5"
  },
  "orig_nbformat": 2
 },
 "nbformat": 4,
 "nbformat_minor": 2
}